{
 "cells": [
  {
   "cell_type": "code",
   "execution_count": 75,
   "id": "f988ef4b",
   "metadata": {},
   "outputs": [],
   "source": [
    "import numpy as np\n",
    "import librosa as lb\n",
    "import soundfile as sf\n",
    "from matplotlib import pyplot as plt\n",
    "from tqdm import tqdm\n",
    "import museval"
   ]
  },
  {
   "cell_type": "code",
   "execution_count": 47,
   "id": "76a23462",
   "metadata": {},
   "outputs": [],
   "source": [
    "x = np.array([[1, 2, 3, 4],\n",
    "             [4, 5, 6, 4],\n",
    "             [1, 7, 3, 4],\n",
    "             [2, 2, 3, 4],\n",
    "             [1, 2, 0, 4]]).T"
   ]
  },
  {
   "cell_type": "code",
   "execution_count": 66,
   "id": "30453067",
   "metadata": {},
   "outputs": [],
   "source": [
    "A_act = np.array([[1, 0.2, 0.1, 0.05],\n",
    "             [0.2, 1, 0.1, 0.05],\n",
    "             [0.1, 0.2, 1, 0.15],\n",
    "             [0.4, 0.2, 0.1, 1]])"
   ]
  },
  {
   "cell_type": "code",
   "execution_count": 67,
   "id": "89529ddb",
   "metadata": {},
   "outputs": [],
   "source": [
    "s = np.dot(A_act, x)"
   ]
  },
  {
   "cell_type": "code",
   "execution_count": 68,
   "id": "ff00412f",
   "metadata": {},
   "outputs": [
    {
     "data": {
      "text/plain": [
       "array([[1.9, 5.8, 2.9, 2.9, 1.6],\n",
       "       [2.7, 6.6, 7.7, 2.9, 2.4],\n",
       "       [4.1, 8. , 5.1, 4.2, 1.1],\n",
       "       [5.1, 7.2, 6.1, 5.5, 4.8]])"
      ]
     },
     "execution_count": 68,
     "metadata": {},
     "output_type": "execute_result"
    }
   ],
   "source": [
    "s"
   ]
  },
  {
   "cell_type": "code",
   "execution_count": null,
   "id": "4fc7d21e",
   "metadata": {},
   "outputs": [],
   "source": []
  },
  {
   "cell_type": "code",
   "execution_count": 31,
   "id": "a65d689a",
   "metadata": {},
   "outputs": [],
   "source": [
    "import numpy as np\n",
    "\n",
    "def vector_factorisation(x, gamma1, gamma2, max_iter=1000, tol=1e-50):\n",
    "    n, l = x.shape\n",
    "    s = np.copy(x)\n",
    "    A = np.eye(n)\n",
    "    epsilon = 1e-10\n",
    "\n",
    "    for i in range(max_iter):\n",
    "        # update A\n",
    "        for j in range(n):\n",
    "            A[j, j] = 1  # diagonal elements\n",
    "            for k in range(n):\n",
    "                if k != j:\n",
    "                    num = x[j] @ s[k] - A[k] @ s + A[j, k] * s[j] * s[k]\n",
    "                    A[j, k] = max(gamma1, min(gamma2, np.squeeze(num / (np.dot(s[j], s[j]) + epsilon))[0]))\n",
    "\n",
    "\n",
    "\n",
    "        # update s\n",
    "        s = np.linalg.lstsq(A, x, rcond=None)[0]\n",
    "\n",
    "        # calculate error\n",
    "        error = np.linalg.norm(x - A @ s) ** 2\n",
    "\n",
    "        if i > 0 and abs(error - prev_error) < tol:\n",
    "            break\n",
    "\n",
    "        prev_error = error\n",
    "\n",
    "    return A, s\n"
   ]
  },
  {
   "cell_type": "code",
   "execution_count": 53,
   "id": "d7e0b4e5",
   "metadata": {
    "scrolled": true
   },
   "outputs": [
    {
     "data": {
      "text/plain": [
       "array([[1, 4, 1, 2, 1],\n",
       "       [2, 5, 7, 2, 2],\n",
       "       [3, 6, 3, 3, 0],\n",
       "       [4, 4, 4, 4, 4]])"
      ]
     },
     "execution_count": 53,
     "metadata": {},
     "output_type": "execute_result"
    }
   ],
   "source": [
    "x = x\n",
    "\n",
    "gamma1 = 0.05\n",
    "gamma2 = 0.4\n",
    "A, s = vector_factorisation(x, gamma1, gamma2)\n",
    "error = np.linalg.norm(x - np.dot(A, s)) ** 2\n",
    "x"
   ]
  },
  {
   "cell_type": "code",
   "execution_count": 59,
   "id": "c84a5cf0",
   "metadata": {},
   "outputs": [
    {
     "data": {
      "text/plain": [
       "array([[-1.,  1., -2., -0., -0.],\n",
       "       [ 0.,  3.,  7.,  0.,  1.],\n",
       "       [ 2.,  4., -0.,  2., -2.],\n",
       "       [ 3.,  1.,  2.,  3.,  4.]])"
      ]
     },
     "execution_count": 59,
     "metadata": {},
     "output_type": "execute_result"
    }
   ],
   "source": [
    "np.round(s)"
   ]
  },
  {
   "cell_type": "code",
   "execution_count": 70,
   "id": "32959836",
   "metadata": {},
   "outputs": [
    {
     "data": {
      "text/plain": [
       "array([[1.        , 0.4       , 0.4       , 0.4       ],\n",
       "       [0.05      , 1.        , 0.39734594, 0.4       ],\n",
       "       [0.05      , 0.4       , 1.        , 0.4       ],\n",
       "       [0.05      , 0.4       , 0.4       , 1.        ]])"
      ]
     },
     "execution_count": 70,
     "metadata": {},
     "output_type": "execute_result"
    }
   ],
   "source": [
    "A"
   ]
  },
  {
   "cell_type": "code",
   "execution_count": 61,
   "id": "f744f7a2",
   "metadata": {},
   "outputs": [
    {
     "data": {
      "text/plain": [
       "3.0847884543329836e-29"
      ]
     },
     "execution_count": 61,
     "metadata": {},
     "output_type": "execute_result"
    }
   ],
   "source": [
    "error"
   ]
  },
  {
   "cell_type": "code",
   "execution_count": 65,
   "id": "d2cf30fd",
   "metadata": {},
   "outputs": [
    {
     "data": {
      "text/plain": [
       "array([[ 1.,  4.,  1.,  2.,  1.],\n",
       "       [ 2.,  5.,  7.,  2.,  2.],\n",
       "       [ 3.,  6.,  3.,  3., -0.],\n",
       "       [ 4.,  4.,  4.,  4.,  4.]])"
      ]
     },
     "execution_count": 65,
     "metadata": {},
     "output_type": "execute_result"
    }
   ],
   "source": [
    "np.round(np.dot(A, s))"
   ]
  },
  {
   "cell_type": "code",
   "execution_count": 72,
   "id": "080c8977",
   "metadata": {},
   "outputs": [
    {
     "data": {
      "text/plain": [
       "0.843414610983212"
      ]
     },
     "execution_count": 72,
     "metadata": {},
     "output_type": "execute_result"
    }
   ],
   "source": [
    "np.linalg.norm(A_act - A) ** 2"
   ]
  },
  {
   "cell_type": "code",
   "execution_count": null,
   "id": "0d3cc1af",
   "metadata": {},
   "outputs": [],
   "source": []
  },
  {
   "cell_type": "code",
   "execution_count": null,
   "id": "7b90c129",
   "metadata": {},
   "outputs": [],
   "source": []
  },
  {
   "cell_type": "code",
   "execution_count": null,
   "id": "0231b224",
   "metadata": {},
   "outputs": [],
   "source": []
  },
  {
   "cell_type": "code",
   "execution_count": 76,
   "id": "0b584830",
   "metadata": {},
   "outputs": [],
   "source": [
    "bleed_path = '/home/rajesh/Desktop/Datasets/musdb18hq_bleeded/train/Music Delta - Hendrix/'\n",
    "bvocals, fs = lb.load(bleed_path+'vocals.wav')\n",
    "bbass, fs = lb.load(bleed_path+'bass.wav')\n",
    "bdrums, fs = lb.load(bleed_path+'drums.wav')\n",
    "bother, fs = lb.load(bleed_path+'other.wav')"
   ]
  },
  {
   "cell_type": "code",
   "execution_count": 77,
   "id": "e66b3988",
   "metadata": {},
   "outputs": [],
   "source": [
    "clean_path = '/home/rajesh/Desktop/Datasets/musdb18hq/train/Music Delta - Hendrix/'\n",
    "vocals, fs = lb.load(clean_path+'vocals.wav')\n",
    "bass, fs = lb.load(clean_path+'bass.wav')\n",
    "drums, fs = lb.load(clean_path+'drums.wav')\n",
    "other, fs = lb.load(clean_path+'other.wav')"
   ]
  },
  {
   "cell_type": "code",
   "execution_count": 78,
   "id": "db2e4af8",
   "metadata": {},
   "outputs": [],
   "source": [
    "if len(bbass) > len(bass):\n",
    "    n = len(bass)\n",
    "else:\n",
    "    n = len(bbass)"
   ]
  },
  {
   "cell_type": "code",
   "execution_count": 79,
   "id": "30a2d222",
   "metadata": {},
   "outputs": [
    {
     "data": {
      "text/plain": [
       "(4, 437559)"
      ]
     },
     "execution_count": 79,
     "metadata": {},
     "output_type": "execute_result"
    }
   ],
   "source": [
    "R = np.array([bvocals[:n], bbass[:n], bdrums[:n], bother[:n]]) #two min\n",
    "R.shape"
   ]
  },
  {
   "cell_type": "code",
   "execution_count": 80,
   "id": "d43410af",
   "metadata": {},
   "outputs": [
    {
     "data": {
      "text/plain": [
       "(4, 437559)"
      ]
     },
     "execution_count": 80,
     "metadata": {},
     "output_type": "execute_result"
    }
   ],
   "source": [
    "S = np.array([vocals[:n], bass[:n], drums[:n], other[:n]])\n",
    "S.shape"
   ]
  },
  {
   "cell_type": "code",
   "execution_count": 102,
   "id": "82cdbfae",
   "metadata": {},
   "outputs": [],
   "source": [
    "gamma1 = 0.0005\n",
    "gamma2 = 0.08\n",
    "A, s = vector_factorisation(R, gamma1, gamma2)"
   ]
  },
  {
   "cell_type": "code",
   "execution_count": 103,
   "id": "8a067fc4",
   "metadata": {},
   "outputs": [
    {
     "data": {
      "text/plain": [
       "array([[1.        , 0.08      , 0.08      , 0.04947618],\n",
       "       [0.08      , 1.        , 0.08      , 0.04987831],\n",
       "       [0.08      , 0.08      , 1.        , 0.04009501],\n",
       "       [0.08      , 0.08      , 0.08      , 1.        ]])"
      ]
     },
     "execution_count": 103,
     "metadata": {},
     "output_type": "execute_result"
    }
   ],
   "source": [
    "A"
   ]
  },
  {
   "cell_type": "code",
   "execution_count": 104,
   "id": "36ce7f22",
   "metadata": {},
   "outputs": [
    {
     "data": {
      "text/plain": [
       "array([[-1.24165251e-06, -2.00534027e-05, -8.51605912e-07, ...,\n",
       "        -4.79479387e-05, -1.39942263e-05,  9.53296534e-06],\n",
       "       [ 3.45760699e-05,  1.28867105e-05,  2.30465073e-05, ...,\n",
       "        -4.81764492e-05, -3.29970375e-05,  5.60306879e-06],\n",
       "       [-2.64251944e-05,  5.33046264e-05,  2.67467438e-04, ...,\n",
       "        -2.95898636e-05,  6.28946254e-06, -3.27101676e-06],\n",
       "       [ 3.88650171e-06, -2.39571105e-05, -2.30537250e-05, ...,\n",
       "        -4.61341820e-05, -1.79287287e-05, -4.21447131e-06]])"
      ]
     },
     "execution_count": 104,
     "metadata": {},
     "output_type": "execute_result"
    }
   ],
   "source": [
    "s"
   ]
  },
  {
   "cell_type": "code",
   "execution_count": 105,
   "id": "75f2738a",
   "metadata": {},
   "outputs": [
    {
     "data": {
      "text/plain": [
       "array([[-3.9729321e-07, -1.5943402e-05,  2.1248899e-05, ...,\n",
       "        -5.6451787e-05, -1.7017877e-05,  9.5110136e-06],\n",
       "       [ 3.2556574e-05,  1.4351868e-05,  4.3225893e-05, ...,\n",
       "        -5.6680568e-05, -3.4507673e-05,  5.8938140e-06],\n",
       "       [-2.3602612e-05,  5.1770730e-05,  2.6831869e-04, ...,\n",
       "        -3.9129565e-05,  1.8113088e-06, -2.2291133e-06],\n",
       "       [ 4.4392395e-06, -2.0266076e-05,  1.1926210e-07, ...,\n",
       "        -5.6191322e-05, -2.1184873e-05, -3.2652699e-06]], dtype=float32)"
      ]
     },
     "execution_count": 105,
     "metadata": {},
     "output_type": "execute_result"
    }
   ],
   "source": [
    "R"
   ]
  },
  {
   "cell_type": "code",
   "execution_count": 106,
   "id": "516b0ebc",
   "metadata": {},
   "outputs": [],
   "source": [
    "out = '/home/rajesh/Desktop/'\n",
    "sf.write(out+'pred_vocal.wav', s[0], fs)\n",
    "sf.write(out+'pred_bass.wav', s[1], fs)\n",
    "sf.write(out+'pred_drums.wav', s[2], fs)\n",
    "sf.write(out+'pred_other.wav', s[3], fs)"
   ]
  },
  {
   "cell_type": "code",
   "execution_count": null,
   "id": "f5a39f42",
   "metadata": {},
   "outputs": [],
   "source": []
  },
  {
   "cell_type": "code",
   "execution_count": 107,
   "id": "ac976d12",
   "metadata": {},
   "outputs": [],
   "source": [
    "def get_metrics(y):\n",
    "    avg_y = []\n",
    "    for i in range(len(y)):\n",
    "        x = y[~np.isnan(y)]\n",
    "        avg = sum(x)/len(x)\n",
    "        avg_y.append(avg)\n",
    "    return avg_y"
   ]
  },
  {
   "cell_type": "code",
   "execution_count": 108,
   "id": "40ab27af",
   "metadata": {},
   "outputs": [],
   "source": [
    "def compute_sdr(true, reconstructed, fs):\n",
    "    t = np.array([true])\n",
    "    r = np.array([reconstructed])\n",
    "\n",
    "    sdr, isr, sir, sar = museval.evaluate(t, r, win=fs, hop=fs)\n",
    "        \n",
    "    avg_sdr = get_metrics(sdr)\n",
    "    avg_isr = get_metrics(isr) #Source to Spatial Distortion Image\n",
    "    avg_sir = get_metrics(sir)\n",
    "    avg_sar = get_metrics(sar)\n",
    "\n",
    "    return sum(avg_sdr)/len(avg_sdr)"
   ]
  },
  {
   "cell_type": "code",
   "execution_count": 109,
   "id": "1119c48b",
   "metadata": {},
   "outputs": [
    {
     "data": {
      "text/plain": [
       "(26.16621468139518,\n",
       " 24.76758269105062,\n",
       " 26.917228591883482,\n",
       " 28.178508484063016,\n",
       " 24.801538958583592)"
      ]
     },
     "execution_count": 109,
     "metadata": {},
     "output_type": "execute_result"
    }
   ],
   "source": [
    "v_sdr = compute_sdr(vocals[:n], s[0], fs)\n",
    "b_sdr = compute_sdr(bass[:n], s[1], fs)\n",
    "d_sdr = compute_sdr(drums[:n], s[2], fs)\n",
    "o_sdr = compute_sdr(other[:n], s[3], fs)\n",
    "\n",
    "sdr = (v_sdr + b_sdr + d_sdr + o_sdr)/4\n",
    "sdr, v_sdr, b_sdr, d_sdr, o_sdr"
   ]
  },
  {
   "cell_type": "code",
   "execution_count": 110,
   "id": "a7934b01",
   "metadata": {},
   "outputs": [
    {
     "data": {
      "text/plain": [
       "(13.643590131533998,\n",
       " 12.391711369834548,\n",
       " 14.655533676232949,\n",
       " 17.10209808779055,\n",
       " 10.425017392277942)"
      ]
     },
     "execution_count": 110,
     "metadata": {},
     "output_type": "execute_result"
    }
   ],
   "source": [
    "v_sdr = compute_sdr(vocals[:n], bvocals[:n], fs)\n",
    "b_sdr = compute_sdr(bass[:n], bbass[:n], fs)\n",
    "d_sdr = compute_sdr(drums[:n], bdrums[:n], fs)\n",
    "o_sdr = compute_sdr(other[:n], bother[:n], fs)\n",
    "\n",
    "sdr = (v_sdr + b_sdr + d_sdr + o_sdr)/4\n",
    "sdr, v_sdr, b_sdr, d_sdr, o_sdr"
   ]
  },
  {
   "cell_type": "code",
   "execution_count": null,
   "id": "4f94293c",
   "metadata": {},
   "outputs": [],
   "source": []
  },
  {
   "cell_type": "code",
   "execution_count": null,
   "id": "3608fe3c",
   "metadata": {},
   "outputs": [],
   "source": []
  },
  {
   "cell_type": "code",
   "execution_count": null,
   "id": "4e07dfbe",
   "metadata": {},
   "outputs": [],
   "source": []
  },
  {
   "cell_type": "markdown",
   "id": "3678adf0",
   "metadata": {},
   "source": [
    "# SARAGA?"
   ]
  },
  {
   "cell_type": "code",
   "execution_count": 112,
   "id": "2ceeab61",
   "metadata": {},
   "outputs": [],
   "source": [
    "bleed_path = '/home/rajesh/Desktop/Datasets/Saraga3stem/train/Aaniraimekkani/'\n",
    "vocal, fs = lb.load(bleed_path+'vocals.wav')\n",
    "mridangam, fs = lb.load(bleed_path+'mridangam.wav')\n",
    "violin, fs = lb.load(bleed_path+'violin.wav')"
   ]
  },
  {
   "cell_type": "code",
   "execution_count": 114,
   "id": "668c1ca3",
   "metadata": {},
   "outputs": [],
   "source": [
    "R = np.array([vocal, mridangam, violin])"
   ]
  },
  {
   "cell_type": "code",
   "execution_count": null,
   "id": "7d373ba4",
   "metadata": {},
   "outputs": [],
   "source": [
    "gamma1 = 0.0005\n",
    "gamma2 = 0.1\n",
    "A, s = vector_factorisation(R, gamma1, gamma2)"
   ]
  },
  {
   "cell_type": "code",
   "execution_count": null,
   "id": "48326387",
   "metadata": {},
   "outputs": [],
   "source": [
    "A"
   ]
  },
  {
   "cell_type": "code",
   "execution_count": null,
   "id": "3debc48f",
   "metadata": {},
   "outputs": [],
   "source": [
    "s"
   ]
  },
  {
   "cell_type": "code",
   "execution_count": null,
   "id": "f1a64b88",
   "metadata": {},
   "outputs": [],
   "source": [
    "R"
   ]
  },
  {
   "cell_type": "code",
   "execution_count": null,
   "id": "0ec92366",
   "metadata": {},
   "outputs": [],
   "source": [
    "out = '/home/rajesh/Desktop/'\n",
    "sf.write(out+'vocal_pred.wav', s[0], fs)\n",
    "sf.write(out+'mridangam_pred.wav', s[1], fs)\n",
    "sf.write(out+'violin_pred.wav', s[2], fs)\n"
   ]
  },
  {
   "cell_type": "code",
   "execution_count": null,
   "id": "722dcf94",
   "metadata": {},
   "outputs": [],
   "source": []
  }
 ],
 "metadata": {
  "kernelspec": {
   "display_name": "Python 3 (ipykernel)",
   "language": "python",
   "name": "python3"
  },
  "language_info": {
   "codemirror_mode": {
    "name": "ipython",
    "version": 3
   },
   "file_extension": ".py",
   "mimetype": "text/x-python",
   "name": "python",
   "nbconvert_exporter": "python",
   "pygments_lexer": "ipython3",
   "version": "3.10.6"
  }
 },
 "nbformat": 4,
 "nbformat_minor": 5
}
