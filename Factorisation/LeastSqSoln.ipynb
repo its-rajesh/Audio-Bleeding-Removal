{
 "cells": [
  {
   "cell_type": "code",
   "execution_count": 1,
   "id": "8ac17ace",
   "metadata": {},
   "outputs": [],
   "source": [
    "import numpy as np\n",
    "import numpy.linalg as linalg\n",
    "import os\n",
    "import librosa as lb\n",
    "import soundfile as sf\n",
    "import museval\n",
    "from matplotlib import pyplot as plt\n",
    "import itertools\n",
    "import random\n",
    "from tqdm import tqdm"
   ]
  },
  {
   "cell_type": "code",
   "execution_count": 2,
   "id": "7a685ba2",
   "metadata": {},
   "outputs": [],
   "source": [
    "def leastnormsoln(r, s):\n",
    "    b = np.array([r-s]).T\n",
    "    A = np.array([[s[1], s[2], s[3], 0, 0 ,0, 0, 0, 0, 0, 0, 0], \n",
    "                  [0, 0, 0, s[0], s[2], s[3], 0, 0, 0, 0, 0, 0], \n",
    "                  [0, 0, 0, 0, 0, 0, s[0], s[1], s[3], 0, 0, 0],\n",
    "                  [0, 0, 0, 0, 0, 0, 0, 0, 0, s[0], s[1], s[2]]])\n",
    "    soln, residual, rank, singular = linalg.lstsq(A, b, rcond=-1)\n",
    "    return np.array([[1, soln[0][0], soln[1][0], soln[2][0]],\n",
    "                     [soln[3][0], 1, soln[4][0], soln[5][0]],\n",
    "                     [soln[6][0], soln[7][0], 1, soln[8][0]],\n",
    "                     [soln[9][0], soln[10][0], soln[11][0], 1]])"
   ]
  },
  {
   "cell_type": "code",
   "execution_count": 3,
   "id": "27c0665f",
   "metadata": {},
   "outputs": [],
   "source": [
    "def norm(A):\n",
    "    forb = linalg.norm(A, ord='fro')\n",
    "    l1 = linalg.norm(A, ord=1)\n",
    "    return l1, forb"
   ]
  },
  {
   "cell_type": "code",
   "execution_count": 5,
   "id": "6a75ace2",
   "metadata": {},
   "outputs": [],
   "source": [
    "def framewise(R, S):\n",
    "    lmda = []\n",
    "    for i in range(R.shape[1]):\n",
    "        r = R[:, i]\n",
    "        s = S[:, i]\n",
    "        lmda.append(leastnormsoln(r, s))\n",
    "        \n",
    "    return lmda"
   ]
  },
  {
   "cell_type": "code",
   "execution_count": 32,
   "id": "9f1001c4",
   "metadata": {},
   "outputs": [],
   "source": [
    "bleed_path = '/home/rajesh/Desktop/Datasets/musdb18hq_bleeded/test/Sambasevam Shanmugam - Kaathaadi/'\n",
    "clean_path = '/home/rajesh/Desktop/Datasets/musdb18hq/test/Sambasevam Shanmugam - Kaathaadi/'\n",
    "dest_path = '/home/rajesh/Desktop/'\n",
    "\n",
    "\n",
    "bvocals, fs = lb.load(bleed_path+'vocals.wav')\n",
    "bbass, fs = lb.load(bleed_path+'bass.wav')\n",
    "bdrums, fs = lb.load(bleed_path+'drums.wav')\n",
    "bother, fs = lb.load(bleed_path+'other.wav')\n",
    "\n",
    "vocals, fs = lb.load(clean_path+'vocals.wav')\n",
    "bass, fs = lb.load(clean_path+'bass.wav')\n",
    "drums, fs = lb.load(clean_path+'drums.wav')\n",
    "other, fs = lb.load(clean_path+'other.wav')\n",
    "\n",
    "if len(bbass) > len(bass):\n",
    "    n = len(bass)\n",
    "else:\n",
    "    n = len(bbass)\n",
    "\n",
    "R = np.array([bvocals[:n], bbass[:n], bdrums[:n], bother[:n]])\n",
    "S = np.array([vocals[:n], bass[:n], drums[:n], other[:n]])"
   ]
  },
  {
   "cell_type": "code",
   "execution_count": 33,
   "id": "07ab9329",
   "metadata": {},
   "outputs": [],
   "source": [
    "lmbda = framewise(R, S)"
   ]
  },
  {
   "cell_type": "code",
   "execution_count": 34,
   "id": "0e6e0ca8",
   "metadata": {},
   "outputs": [],
   "source": [
    "s_aprx = []\n",
    "for i in range(R.shape[1]):\n",
    "    A = lmbda[i]\n",
    "    A_inv = np.linalg.inv(A)\n",
    "    s_aprx.append(np.dot(A_inv, R[:, i]))"
   ]
  },
  {
   "cell_type": "code",
   "execution_count": 35,
   "id": "487fcafc",
   "metadata": {},
   "outputs": [],
   "source": [
    "s_aprx = np.array(s_aprx).T"
   ]
  },
  {
   "cell_type": "code",
   "execution_count": 36,
   "id": "75273407",
   "metadata": {},
   "outputs": [],
   "source": [
    "out = '/home/rajesh/Desktop/'\n",
    "sf.write(out+'pred_vocal.wav', s_aprx[0], fs)\n",
    "sf.write(out+'pred_bass.wav', s_aprx[1], fs)\n",
    "sf.write(out+'pred_drums.wav', s_aprx[2], fs)\n",
    "sf.write(out+'pred_other.wav', s_aprx[3], fs)"
   ]
  },
  {
   "cell_type": "code",
   "execution_count": null,
   "id": "8fbab1e4",
   "metadata": {},
   "outputs": [],
   "source": []
  },
  {
   "cell_type": "markdown",
   "id": "1618bb21",
   "metadata": {},
   "source": [
    "### BLOCKWISE"
   ]
  },
  {
   "cell_type": "code",
   "execution_count": 37,
   "id": "b9ad2c32",
   "metadata": {},
   "outputs": [],
   "source": [
    "def blockleastnormsoln(r, s):\n",
    "    r = r.flatten()\n",
    "    s = s.flatten()\n",
    "    b = r-s\n",
    "    \n",
    "    val = int(r.shape[0]/4)\n",
    "    s0 = s[0:val]\n",
    "    s1 = s[val:2*val]\n",
    "    s2 = s[2*val:3*val]\n",
    "    s3 = s[3*val:4*val]\n",
    "    \n",
    "    z = np.zeros(val)\n",
    "\n",
    "    c1 = np.hstack((s1, z, z, z))\n",
    "    c2 = np.hstack((s2, z, z, z))\n",
    "    c3 = np.hstack((s3, z, z, z))\n",
    "\n",
    "    c4 = np.hstack((z, s0, z, z))\n",
    "    c5 = np.hstack((z, s2, z, z))\n",
    "    c6 = np.hstack((z, s3, z, z))\n",
    "\n",
    "    c7 = np.hstack((z, z, s0, z))\n",
    "    c8 = np.hstack((z, z, s1, z))\n",
    "    c9 = np.hstack((z, z, s3, z))\n",
    "\n",
    "    c10 = np.hstack((z, z, z, s0))\n",
    "    c11 = np.hstack((z, z, z, s1))\n",
    "    c12 = np.hstack((z, z, z, s2))\n",
    "    \n",
    "    A = np.stack((c1, c2, c3, c4, c5, c6, c7, c8, c9, c10, c11, c12), axis=1)\n",
    "    \n",
    "    soln, residual, rank, singular = linalg.lstsq(A, b, rcond=-1)\n",
    "    \n",
    "    return np.array([[1, soln[0], soln[1], soln[2]],\n",
    "                     [soln[3], 1, soln[4], soln[5]],\n",
    "                     [soln[6], soln[7], 1, soln[8]],\n",
    "                     [soln[9], soln[10], soln[11], 1]])"
   ]
  },
  {
   "cell_type": "code",
   "execution_count": 47,
   "id": "f64853d9",
   "metadata": {},
   "outputs": [],
   "source": [
    "time = 20\n",
    "block = int(time * fs)\n",
    "\n",
    "samples = 7009232 #use seconds or samples\n",
    "block = samples\n",
    "\n",
    "block_lamda = []\n",
    "for i in range(0, R.shape[1], block):\n",
    "    r = R[: ,i:i+block]\n",
    "    s = S[: ,i:i+block]\n",
    "    block_lamda.append(blockleastnormsoln(r, s))"
   ]
  },
  {
   "cell_type": "code",
   "execution_count": 48,
   "id": "3fbd350b",
   "metadata": {},
   "outputs": [],
   "source": [
    "s_aprx = []\n",
    "for i in range(0,len(block_lamda), block):\n",
    "    r = R[: ,i:i+block]\n",
    "    A = block_lamda[i]\n",
    "    A_inv = np.linalg.inv(A)\n",
    "    s_aprx.append(np.dot(A_inv, r))"
   ]
  },
  {
   "cell_type": "code",
   "execution_count": 49,
   "id": "a84eaa5f",
   "metadata": {},
   "outputs": [],
   "source": [
    "s_aprx = np.array(s_aprx[0])"
   ]
  },
  {
   "cell_type": "code",
   "execution_count": 50,
   "id": "7a1380bf",
   "metadata": {},
   "outputs": [],
   "source": [
    "out = '/home/rajesh/Desktop/'\n",
    "sf.write(out+'pred_vocal.wav', s_aprx[0], fs)\n",
    "sf.write(out+'pred_bass.wav', s_aprx[1], fs)\n",
    "sf.write(out+'pred_drums.wav', s_aprx[2], fs)\n",
    "sf.write(out+'pred_other.wav', s_aprx[3], fs)"
   ]
  },
  {
   "cell_type": "code",
   "execution_count": 52,
   "id": "4bfa2478",
   "metadata": {},
   "outputs": [
    {
     "data": {
      "text/plain": [
       "[array([[1.        , 0.10000024, 0.09999914, 0.10000384],\n",
       "        [0.10000004, 1.        , 0.09999926, 0.1000045 ],\n",
       "        [0.1       , 0.10000022, 1.        , 0.10000418],\n",
       "        [0.09999999, 0.10000023, 0.09999929, 1.        ]])]"
      ]
     },
     "execution_count": 52,
     "metadata": {},
     "output_type": "execute_result"
    }
   ],
   "source": [
    "block_lamda"
   ]
  },
  {
   "cell_type": "code",
   "execution_count": null,
   "id": "3fb4290e",
   "metadata": {},
   "outputs": [],
   "source": []
  },
  {
   "cell_type": "code",
   "execution_count": null,
   "id": "8519b029",
   "metadata": {},
   "outputs": [],
   "source": []
  }
 ],
 "metadata": {
  "kernelspec": {
   "display_name": "Python 3 (ipykernel)",
   "language": "python",
   "name": "python3"
  },
  "language_info": {
   "codemirror_mode": {
    "name": "ipython",
    "version": 3
   },
   "file_extension": ".py",
   "mimetype": "text/x-python",
   "name": "python",
   "nbconvert_exporter": "python",
   "pygments_lexer": "ipython3",
   "version": "3.10.6"
  }
 },
 "nbformat": 4,
 "nbformat_minor": 5
}
