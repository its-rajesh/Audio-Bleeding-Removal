{
 "cells": [
  {
   "cell_type": "code",
   "execution_count": 210,
   "id": "c110bc86",
   "metadata": {},
   "outputs": [],
   "source": [
    "import numpy as np\n",
    "import librosa as lb\n",
    "import soundfile as sf\n",
    "from matplotlib import pyplot as plt\n",
    "from tqdm import tqdm\n",
    "import museval"
   ]
  },
  {
   "cell_type": "code",
   "execution_count": 186,
   "id": "9c63ebf3",
   "metadata": {},
   "outputs": [],
   "source": [
    "bleed_path = '/home/rajesh/Desktop/Datasets/musdb18hq_bleeded/train/Music Delta - Hendrix/'\n",
    "bvocals, fs = lb.load(bleed_path+'vocals.wav')\n",
    "bbass, fs = lb.load(bleed_path+'bass.wav')\n",
    "bdrums, fs = lb.load(bleed_path+'drums.wav')\n",
    "bother, fs = lb.load(bleed_path+'other.wav')"
   ]
  },
  {
   "cell_type": "code",
   "execution_count": 187,
   "id": "f15db4af",
   "metadata": {},
   "outputs": [],
   "source": [
    "clean_path = '/home/rajesh/Desktop/Datasets/musdb18hq/train/Music Delta - Hendrix/'\n",
    "vocals, fs = lb.load(clean_path+'vocals.wav')\n",
    "bass, fs = lb.load(clean_path+'bass.wav')\n",
    "drums, fs = lb.load(clean_path+'drums.wav')\n",
    "other, fs = lb.load(clean_path+'other.wav')"
   ]
  },
  {
   "cell_type": "code",
   "execution_count": 190,
   "id": "29cce1cf",
   "metadata": {},
   "outputs": [],
   "source": [
    "if len(bbass) > len(bass):\n",
    "    n = len(bass)\n",
    "else:\n",
    "    n = len(bbass)"
   ]
  },
  {
   "cell_type": "code",
   "execution_count": 191,
   "id": "82b0febd",
   "metadata": {},
   "outputs": [
    {
     "data": {
      "text/plain": [
       "(4, 437559)"
      ]
     },
     "execution_count": 191,
     "metadata": {},
     "output_type": "execute_result"
    }
   ],
   "source": [
    "R = np.array([bvocals[:n], bbass[:n], bdrums[:n], bother[:n]]) #two min\n",
    "R.shape"
   ]
  },
  {
   "cell_type": "code",
   "execution_count": 192,
   "id": "6e66a3a9",
   "metadata": {},
   "outputs": [
    {
     "data": {
      "text/plain": [
       "(4, 437559)"
      ]
     },
     "execution_count": 192,
     "metadata": {},
     "output_type": "execute_result"
    }
   ],
   "source": [
    "S = np.array([vocals[:n], bass[:n], drums[:n], other[:n]])\n",
    "S.shape"
   ]
  },
  {
   "cell_type": "code",
   "execution_count": 277,
   "id": "f2183e16",
   "metadata": {},
   "outputs": [],
   "source": [
    "import numpy as np\n",
    "\n",
    "def vector_factorisation(x, gamma1, gamma2, max_iter=1000, tol=1e-50):\n",
    "    n = len(x)\n",
    "    s = np.copy(x)\n",
    "    A = np.eye(n)\n",
    "    epsilon = 1e-10\n",
    "\n",
    "    for i in range(max_iter):\n",
    "        # update A\n",
    "        for j in range(n):\n",
    "            A[j, j] = 1  # diagonal elements\n",
    "            for k in range(n):\n",
    "                if k != j:\n",
    "                    num = x[j] * s[k] - np.dot(A[k], s) + A[j, k] * s[j] * s[k]\n",
    "                    A[j, k] = max(gamma1, min(gamma2, num / (s[j]+epsilon)))\n",
    "\n",
    "        # update s\n",
    "        s = np.linalg.lstsq(A, x, rcond=None)[0]\n",
    "\n",
    "        # calculate error\n",
    "        error = np.linalg.norm(x - np.dot(A, s)) ** 2\n",
    "\n",
    "        if i > 0 and abs(error - prev_error) < tol:\n",
    "            break\n",
    "\n",
    "        prev_error = error\n",
    "\n",
    "    return A, s\n"
   ]
  },
  {
   "cell_type": "code",
   "execution_count": 298,
   "id": "f6f94c5c",
   "metadata": {},
   "outputs": [
    {
     "data": {
      "text/plain": [
       "(array([-3.9729321e-07,  3.2556574e-05, -2.3602612e-05,  4.4392395e-06]),\n",
       " array([[ 1.        ,  0.10644719, -0.13331029,  0.10644719],\n",
       "        [ 0.01064937,  1.        ,  0.10644719, -0.11907814],\n",
       "        [-0.01367706,  0.10644719,  1.        ,  0.10644719],\n",
       "        [ 0.03103351, -0.13331029,  0.10644719,  1.        ]]),\n",
       " array([-9.60249550e-06,  3.72769306e-05, -2.90645451e-05,  1.28004763e-05]),\n",
       " 1.4131618571237911e-39,\n",
       " array([-3.9729321e-07,  3.2556574e-05, -2.3602612e-05,  4.4392395e-06]),\n",
       " 0)"
      ]
     },
     "execution_count": 298,
     "metadata": {},
     "output_type": "execute_result"
    }
   ],
   "source": [
    "x = np.array([-3.9729321e-07,  3.2556574e-05, -2.3602612e-05,  4.4392395e-06])\n",
    "gamma1 = -0.13331029356045582\n",
    "gamma2 = 0.10644719\n",
    "A, s = vector_factorisation(x, gamma1, gamma2)\n",
    "error = np.linalg.norm(x - np.dot(A, s)) ** 2\n",
    "x, A, s, error,np.dot(A, s), i"
   ]
  },
  {
   "cell_type": "code",
   "execution_count": 280,
   "id": "28c44f99",
   "metadata": {},
   "outputs": [
    {
     "data": {
      "text/plain": [
       "array([ 5.7915386e-06,  3.8102819e-05, -2.8182852e-05,  1.2415013e-05],\n",
       "      dtype=float32)"
      ]
     },
     "execution_count": 280,
     "metadata": {},
     "output_type": "execute_result"
    }
   ],
   "source": [
    "S[:,0]"
   ]
  },
  {
   "cell_type": "code",
   "execution_count": 281,
   "id": "50c2d6d5",
   "metadata": {},
   "outputs": [
    {
     "data": {
      "text/plain": [
       "array([-3.9729321e-07,  3.2556574e-05, -2.3602612e-05,  4.4392395e-06],\n",
       "      dtype=float32)"
      ]
     },
     "execution_count": 281,
     "metadata": {},
     "output_type": "execute_result"
    }
   ],
   "source": [
    "R[:,0]"
   ]
  },
  {
   "cell_type": "code",
   "execution_count": 287,
   "id": "6df33582",
   "metadata": {},
   "outputs": [],
   "source": [
    "def leastnormsoln(r, s):\n",
    "    b = np.array([r-s]).T\n",
    "    A = np.array([[s[1], s[2], s[3], 0, 0 ,0, 0, 0, 0, 0, 0, 0], \n",
    "                  [0, 0, 0, s[0], s[2], s[3], 0, 0, 0, 0, 0, 0], \n",
    "                  [0, 0, 0, 0, 0, 0, s[0], s[1], s[3], 0, 0, 0],\n",
    "                  [0, 0, 0, 0, 0, 0, 0, 0, 0, s[0], s[1], s[2]]])\n",
    "    soln, residual, rank, singular = np.linalg.lstsq(A, b, rcond=-1)\n",
    "    return np.array([[1, soln[0][0], soln[1][0], soln[2][0]],\n",
    "                     [soln[3][0], 1, soln[4][0], soln[5][0]],\n",
    "                     [soln[6][0], soln[7][0], 1, soln[8][0]],\n",
    "                     [soln[9][0], soln[10][0], soln[11][0], 1]])"
   ]
  },
  {
   "cell_type": "code",
   "execution_count": 288,
   "id": "7912e7db",
   "metadata": {},
   "outputs": [],
   "source": [
    "def norm(A):\n",
    "    forb = np.linalg.norm(A, ord='fro')\n",
    "    l1 = np.linalg.norm(A, ord=1)\n",
    "    return l1, forb"
   ]
  },
  {
   "cell_type": "code",
   "execution_count": 291,
   "id": "bebc9b9c",
   "metadata": {},
   "outputs": [
    {
     "data": {
      "text/plain": [
       "array([[ 1.        , -0.09824554,  0.07266758, -0.03201127],\n",
       "       [-0.03271181,  1.        ,  0.1591826 , -0.07012257],\n",
       "       [ 0.01617972,  0.10644719,  1.        ,  0.03468361],\n",
       "       [-0.02026285, -0.13331029,  0.09860332,  1.        ]])"
      ]
     },
     "execution_count": 291,
     "metadata": {},
     "output_type": "execute_result"
    }
   ],
   "source": [
    "A = leastnormsoln(R[:,0], S[:,0])\n",
    "A"
   ]
  },
  {
   "cell_type": "code",
   "execution_count": 300,
   "id": "409c8f70",
   "metadata": {},
   "outputs": [],
   "source": [
    "A_dash = np.array([[ 1.        ,  0.10644719, -0.13331029,  0.10644719],\n",
    "        [ 0.01064937,  1.        ,  0.10644719, -0.11907814],\n",
    "        [-0.01367706,  0.10644719,  1.        ,  0.10644719],\n",
    "        [ 0.03103351, -0.13331029,  0.10644719,  1.        ]])"
   ]
  },
  {
   "cell_type": "code",
   "execution_count": 302,
   "id": "56333ade",
   "metadata": {},
   "outputs": [
    {
     "data": {
      "text/plain": [
       "(1.095374643073077e-08, 8.648627158193877e-09)"
      ]
     },
     "execution_count": 302,
     "metadata": {},
     "output_type": "execute_result"
    }
   ],
   "source": [
    "l1, forb = norm(A-A_dash)\n",
    "l1, forb"
   ]
  },
  {
   "cell_type": "code",
   "execution_count": 308,
   "id": "ff5b1ae7",
   "metadata": {},
   "outputs": [
    {
     "data": {
      "text/plain": [
       "-0.13331029356045582"
      ]
     },
     "execution_count": 308,
     "metadata": {},
     "output_type": "execute_result"
    }
   ],
   "source": [
    "np.min(A)"
   ]
  },
  {
   "cell_type": "code",
   "execution_count": null,
   "id": "8944d5e4",
   "metadata": {},
   "outputs": [],
   "source": []
  },
  {
   "cell_type": "code",
   "execution_count": null,
   "id": "11cc5995",
   "metadata": {},
   "outputs": [],
   "source": []
  },
  {
   "cell_type": "code",
   "execution_count": null,
   "id": "2cc7a603",
   "metadata": {},
   "outputs": [],
   "source": []
  },
  {
   "cell_type": "code",
   "execution_count": 268,
   "id": "4677124a",
   "metadata": {},
   "outputs": [
    {
     "name": "stderr",
     "output_type": "stream",
     "text": [
      "  0%|                                                                                                            | 0/437559 [00:00<?, ?it/s]\n"
     ]
    },
    {
     "ename": "TypeError",
     "evalue": "vector_factorisation() missing 1 required positional argument: 'gamma2'",
     "output_type": "error",
     "traceback": [
      "\u001b[0;31m---------------------------------------------------------------------------\u001b[0m",
      "\u001b[0;31mTypeError\u001b[0m                                 Traceback (most recent call last)",
      "Input \u001b[0;32mIn [268]\u001b[0m, in \u001b[0;36m<cell line: 3>\u001b[0;34m()\u001b[0m\n\u001b[1;32m      3\u001b[0m \u001b[38;5;28;01mfor\u001b[39;00m i \u001b[38;5;129;01min\u001b[39;00m tqdm(\u001b[38;5;28mrange\u001b[39m(R\u001b[38;5;241m.\u001b[39mshape[\u001b[38;5;241m1\u001b[39m])):\n\u001b[1;32m      4\u001b[0m     gamma \u001b[38;5;241m=\u001b[39m \u001b[38;5;241m0.4\u001b[39m\n\u001b[0;32m----> 5\u001b[0m     A, s \u001b[38;5;241m=\u001b[39m \u001b[43mvector_factorisation\u001b[49m\u001b[43m(\u001b[49m\u001b[43mR\u001b[49m\u001b[43m[\u001b[49m\u001b[43m:\u001b[49m\u001b[43m,\u001b[49m\u001b[43mi\u001b[49m\u001b[43m]\u001b[49m\u001b[43m,\u001b[49m\u001b[43m \u001b[49m\u001b[43mgamma\u001b[49m\u001b[43m)\u001b[49m\n\u001b[1;32m      6\u001b[0m     s_cap\u001b[38;5;241m.\u001b[39mappend(s)\n\u001b[1;32m      7\u001b[0m     lmbda\u001b[38;5;241m.\u001b[39mappend(A)\n",
      "\u001b[0;31mTypeError\u001b[0m: vector_factorisation() missing 1 required positional argument: 'gamma2'"
     ]
    }
   ],
   "source": [
    "s_cap = []\n",
    "lmbda = []\n",
    "for i in tqdm(range(R.shape[1])):\n",
    "    gamma1 = 0\n",
    "    gamma2 = 0.5\n",
    "    A, s = vector_factorisation(R[:,i], gamma1, gamma2)\n",
    "    s_cap.append(s)\n",
    "    lmbda.append(A)"
   ]
  },
  {
   "cell_type": "code",
   "execution_count": null,
   "id": "d9fed63f",
   "metadata": {},
   "outputs": [],
   "source": []
  },
  {
   "cell_type": "code",
   "execution_count": 254,
   "id": "e232dda0",
   "metadata": {},
   "outputs": [],
   "source": [
    "s_cap = np.array(s_cap)\n",
    "spred = s_cap.T"
   ]
  },
  {
   "cell_type": "code",
   "execution_count": 255,
   "id": "f20c8efd",
   "metadata": {},
   "outputs": [
    {
     "data": {
      "text/plain": [
       "(4, 437559)"
      ]
     },
     "execution_count": 255,
     "metadata": {},
     "output_type": "execute_result"
    }
   ],
   "source": [
    "spred.shape"
   ]
  },
  {
   "cell_type": "code",
   "execution_count": 256,
   "id": "325724a1",
   "metadata": {},
   "outputs": [],
   "source": [
    "out = '/home/rajesh/Desktop/'\n",
    "sf.write(out+'pred_vocal.wav', spred[0], fs)\n",
    "sf.write(out+'pred_bass.wav', spred[1], fs)\n",
    "sf.write(out+'pred_drums.wav', spred[2], fs)\n",
    "sf.write(out+'pred_other.wav', spred[3], fs)"
   ]
  },
  {
   "cell_type": "code",
   "execution_count": null,
   "id": "9084b7a7",
   "metadata": {},
   "outputs": [],
   "source": []
  },
  {
   "cell_type": "code",
   "execution_count": 257,
   "id": "c9aac956",
   "metadata": {},
   "outputs": [],
   "source": [
    "def get_metrics(y):\n",
    "    avg_y = []\n",
    "    for i in range(len(y)):\n",
    "        x = y[~np.isnan(y)]\n",
    "        avg = sum(x)/len(x)\n",
    "        avg_y.append(avg)\n",
    "    return avg_y"
   ]
  },
  {
   "cell_type": "code",
   "execution_count": 258,
   "id": "bdf67304",
   "metadata": {},
   "outputs": [],
   "source": [
    "def compute_sdr(true, reconstructed, fs):\n",
    "    t = np.array([true])\n",
    "    r = np.array([reconstructed])\n",
    "\n",
    "    sdr, isr, sir, sar = museval.evaluate(t, r, win=fs, hop=fs)\n",
    "        \n",
    "    avg_sdr = get_metrics(sdr)\n",
    "    avg_isr = get_metrics(isr) #Source to Spatial Distortion Image\n",
    "    avg_sir = get_metrics(sir)\n",
    "    avg_sar = get_metrics(sar)\n",
    "\n",
    "    return sum(avg_sdr)/len(avg_sdr)"
   ]
  },
  {
   "cell_type": "code",
   "execution_count": 259,
   "id": "d43b7dde",
   "metadata": {},
   "outputs": [
    {
     "data": {
      "text/plain": [
       "(-8.364896684416284,\n",
       " -10.004847846324298,\n",
       " -7.028044510176757,\n",
       " -5.511595098366152,\n",
       " -10.915099282797922)"
      ]
     },
     "execution_count": 259,
     "metadata": {},
     "output_type": "execute_result"
    }
   ],
   "source": [
    "v_sdr = compute_sdr(vocals[:n], spred[0], fs)\n",
    "b_sdr = compute_sdr(bass[:n], spred[1], fs)\n",
    "d_sdr = compute_sdr(drums[:n], spred[2], fs)\n",
    "o_sdr = compute_sdr(other[:n], spred[3], fs)\n",
    "\n",
    "sdr = (v_sdr + b_sdr + d_sdr + o_sdr)/4\n",
    "sdr, v_sdr, b_sdr, d_sdr, o_sdr"
   ]
  },
  {
   "cell_type": "code",
   "execution_count": 260,
   "id": "70c9269b",
   "metadata": {},
   "outputs": [
    {
     "data": {
      "text/plain": [
       "(array([[ 1.        ,  0.4       , -0.4       ,  0.09242999],\n",
       "        [ 0.00694033,  1.        ,  0.4       , -0.07783571],\n",
       "        [-0.00781668,  0.4       ,  1.        ,  0.08712342],\n",
       "        [ 0.00826686, -0.4       ,  0.4       ,  1.        ]]),\n",
       " array([[ 1.        ,  0.22206637,  0.4       , -0.31354435],\n",
       "        [-0.10919454,  1.        , -0.4       ,  0.24847563],\n",
       "        [-0.11315258, -0.4       ,  1.        ,  0.25739494],\n",
       "        [ 0.1165913 ,  0.4       ,  0.4       ,  1.        ]]),\n",
       " array([[ 1.        , -0.22776837, -0.4       , -0.32246864],\n",
       "        [ 0.06611228,  1.        , -0.4       , -0.24260993],\n",
       "        [ 0.06355275, -0.4       ,  1.        , -0.23197225],\n",
       "        [ 0.1235702 , -0.4       , -0.4       ,  1.        ]]))"
      ]
     },
     "execution_count": 260,
     "metadata": {},
     "output_type": "execute_result"
    }
   ],
   "source": [
    "lmbda[0], lmbda[1], lmbda[3]"
   ]
  },
  {
   "cell_type": "code",
   "execution_count": 261,
   "id": "50dced93",
   "metadata": {},
   "outputs": [
    {
     "data": {
      "text/plain": [
       "array([-3.9729321e-07,  3.2556574e-05, -2.3602612e-05,  4.4392395e-06],\n",
       "      dtype=float32)"
      ]
     },
     "execution_count": 261,
     "metadata": {},
     "output_type": "execute_result"
    }
   ],
   "source": [
    "R[:,0]"
   ]
  },
  {
   "cell_type": "code",
   "execution_count": 262,
   "id": "fca5421a",
   "metadata": {},
   "outputs": [
    {
     "data": {
      "text/plain": [
       "array([ 3.34533265e-05,  2.59035414e-05, -1.19053573e-05, -1.40513777e-05])"
      ]
     },
     "execution_count": 262,
     "metadata": {},
     "output_type": "execute_result"
    }
   ],
   "source": [
    "np.dot(lmbda[0], S[:, 0])"
   ]
  },
  {
   "cell_type": "code",
   "execution_count": 265,
   "id": "3210cdab",
   "metadata": {},
   "outputs": [
    {
     "data": {
      "text/plain": [
       "5.08848937408005e-08"
      ]
     },
     "execution_count": 265,
     "metadata": {},
     "output_type": "execute_result"
    }
   ],
   "source": [
    "error = np.linalg.norm(R[:,2] - np.dot(lmbda[2], S[:, 2])) ** 2\n",
    "error"
   ]
  },
  {
   "cell_type": "code",
   "execution_count": null,
   "id": "4f4f91d5",
   "metadata": {},
   "outputs": [],
   "source": []
  },
  {
   "cell_type": "code",
   "execution_count": null,
   "id": "e4feffad",
   "metadata": {},
   "outputs": [],
   "source": []
  },
  {
   "cell_type": "code",
   "execution_count": null,
   "id": "d0cfcd12",
   "metadata": {},
   "outputs": [],
   "source": []
  },
  {
   "cell_type": "code",
   "execution_count": 312,
   "id": "6101f22e",
   "metadata": {
    "scrolled": true
   },
   "outputs": [
    {
     "data": {
      "image/png": "[encoded data removed]",
      "text/plain": [
       "<Figure size 432x288 with 1 Axes>"
      ]
     },
     "metadata": {
      "needs_background": "light"
     },
     "output_type": "display_data"
    }
   ],
   "source": [
    "plt.plot(bvocals)\n",
    "plt.plot(vocals)\n",
    "plt.legend(['bleed', 'actual'])\n",
    "plt.show()"
   ]
  },
  {
   "cell_type": "code",
   "execution_count": 319,
   "id": "c002c41d",
   "metadata": {},
   "outputs": [
    {
     "data": {
      "text/plain": [
       "(array([ 0.        ,  0.        ,  0.        , -0.00011139]),\n",
       " array([[ 1.00000000e+00, -3.85757677e-15, -1.42877543e-16,\n",
       "          1.06447190e-01],\n",
       "        [ 3.00032676e-15,  1.00000000e+00, -1.42877543e-16,\n",
       "          1.06447190e-01],\n",
       "        [ 3.00032676e-15, -6.71499549e-15,  1.00000000e+00,\n",
       "          1.06447190e-01],\n",
       "        [ 1.18571962e-05,  1.18571962e-05,  1.18571962e-05,\n",
       "          1.00000000e+00]]),\n",
       " array([ 1.18570899e-05,  1.18570899e-05,  1.18570899e-05, -1.11389412e-04]),\n",
       " 1.720196057734855e-38,\n",
       " array([ 6.77626358e-21, -4.23519331e-20, -2.20228566e-20, -1.11388990e-04]),\n",
       " 0)"
      ]
     },
     "execution_count": 319,
     "metadata": {},
     "output_type": "execute_result"
    }
   ],
   "source": [
    "x = np.array([0, 0, 0, -1.1138899e-04])\n",
    "gamma1 = -0.13331029356045582\n",
    "gamma2 = 0.10644719\n",
    "A, s = vector_factorisation(x, gamma1, gamma2)\n",
    "error = np.linalg.norm(x - np.dot(A, s)) ** 2\n",
    "x, A, s, error,np.dot(A, s), i"
   ]
  },
  {
   "cell_type": "code",
   "execution_count": 318,
   "id": "b353b08d",
   "metadata": {},
   "outputs": [
    {
     "data": {
      "text/plain": [
       "(array([-6.1166305e-05, -6.1750339e-05, -5.5832737e-05, -1.1138899e-04],\n",
       "       dtype=float32),\n",
       " array([-1.4143027e-05, -1.6101958e-05,  2.8558563e-06, -8.4536310e-05],\n",
       "       dtype=float32))"
      ]
     },
     "execution_count": 318,
     "metadata": {},
     "output_type": "execute_result"
    }
   ],
   "source": [
    "R[:, 429975], S[:, 429975]"
   ]
  },
  {
   "cell_type": "code",
   "execution_count": 315,
   "id": "4d0f6938",
   "metadata": {},
   "outputs": [
    {
     "data": {
      "text/plain": [
       "429975.0"
      ]
     },
     "execution_count": 315,
     "metadata": {},
     "output_type": "execute_result"
    }
   ],
   "source": [
    "19.5*fs"
   ]
  },
  {
   "cell_type": "code",
   "execution_count": null,
   "id": "ecb88d2d",
   "metadata": {},
   "outputs": [],
   "source": []
  },
  {
   "cell_type": "code",
   "execution_count": null,
   "id": "e825e888",
   "metadata": {},
   "outputs": [],
   "source": []
  }
 ],
 "metadata": {
  "kernelspec": {
   "display_name": "Python 3 (ipykernel)",
   "language": "python",
   "name": "python3"
  },
  "language_info": {
   "codemirror_mode": {
    "name": "ipython",
    "version": 3
   },
   "file_extension": ".py",
   "mimetype": "text/x-python",
   "name": "python",
   "nbconvert_exporter": "python",
   "pygments_lexer": "ipython3",
   "version": "3.10.6"
  }
 },
 "nbformat": 4,
 "nbformat_minor": 5
}
