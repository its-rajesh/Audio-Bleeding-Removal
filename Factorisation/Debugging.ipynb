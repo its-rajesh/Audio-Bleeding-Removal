{
 "cells": [
  {
   "cell_type": "code",
   "execution_count": 1,
   "id": "e85c01ba",
   "metadata": {},
   "outputs": [],
   "source": [
    "import numpy as np\n",
    "import os\n",
    "import librosa as lb\n",
    "import soundfile as sf\n",
    "import museval\n",
    "from matplotlib import pyplot as plt\n",
    "from tqdm import tqdm\n",
    "import librosa.display"
   ]
  },
  {
   "cell_type": "code",
   "execution_count": null,
   "id": "7dc2d37c",
   "metadata": {},
   "outputs": [],
   "source": []
  },
  {
   "cell_type": "code",
   "execution_count": 70,
   "id": "203fc204",
   "metadata": {},
   "outputs": [],
   "source": [
    "name = 'Music Delta - Hendrix/'\n",
    "seconds = 0\n",
    "\n",
    "clean_path = \"/home/rajesh/Desktop/Datasets/musdb18hq/train/\"+name"
   ]
  },
  {
   "cell_type": "code",
   "execution_count": 99,
   "id": "ba76a939",
   "metadata": {},
   "outputs": [],
   "source": [
    "vocals, fs = lb.load(clean_path+'vocals.wav')\n",
    "bass, fs = lb.load(clean_path+'bass.wav')\n",
    "drums, fs = lb.load(clean_path+'drums.wav')\n",
    "other, fs = lb.load(clean_path+'other.wav')\n",
    "\n",
    "mixture, fs = lb.load(clean_path+'mixture.wav')\n",
    "\n",
    "b1 = int(fs*seconds)\n",
    "b2 = int(b1+(10*fs))\n",
    "\n",
    "vocals = vocals[b1:b2]\n",
    "bass = bass[b1:b2]\n",
    "drums = drums[b1:b2]\n",
    "other = other[b1:b2]\n",
    "mixture = mixture[b1:b2]"
   ]
  },
  {
   "cell_type": "code",
   "execution_count": 100,
   "id": "1fc1aeaf",
   "metadata": {},
   "outputs": [],
   "source": [
    "def genbleed(vocals, bass, drums, other, way=1):\n",
    "    \n",
    "    if way == 1: # Normal with low bleed\n",
    "        bvocals = 1 * vocals + 0.02 * bass + 0.09 * drums + 0.016 * other\n",
    "        bbass = 0.021 * vocals + 1 * bass + 0.15 * drums + 0.16 * other\n",
    "        bdrums = 0.01 * vocals + 0.12 * bass + 1 * drums + 0.16 * other\n",
    "        bother = 0.09 * vocals + 0.02 * bass + 0.015 * drums + 1 * other\n",
    "    if way == 2: # Diagonals varied with low bleed\n",
    "        bvocals = 0.82 * vocals + 0.02 * bass + 0.09 * drums + 0.016 * other\n",
    "        bbass = 0.021 * vocals + 0.71 * bass + 0.15 * drums + 0.16 * other\n",
    "        bdrums = 0.01 * vocals + 0.12 * bass + 0.9 * drums + 0.16 * other\n",
    "        bother = 0.09 * vocals + 0.02 * bass + 0.015 * drums + 0.66 * other\n",
    "    if way == 3: # Normal with High Bleed\n",
    "        bvocals = 1 * vocals + 0.2 * bass + 0.09 * drums + 0.16 * other\n",
    "        bbass = 0.21 * vocals + 1 * bass + 0.15 * drums + 0.26 * other\n",
    "        bdrums = 0.1 * vocals + 0.12 * bass + 1 * drums + 0.16 * other\n",
    "        bother = 0.09 * vocals + 0.2 * bass + 0.15 * drums + 1 * other\n",
    "    if way == 4: # Ideal high bleed\n",
    "        bvocals = 1 * vocals + 0.2 * bass + 0.2 * drums + 0.2 * other\n",
    "        bbass = 0.2 * vocals + 1 * bass + 0.2 * drums + 0.2 * other\n",
    "        bdrums = 0.2 * vocals + 0.2 * bass + 1 * drums + 0.2 * other\n",
    "        bother = 0.2 * vocals + 0.2 * bass + 0.2 * drums + 1 * other\n",
    "    if way == 5: # Ideal low bleed\n",
    "        bvocals = 1 * vocals + 0.05 * bass + 0.05 * drums + 0.05 * other\n",
    "        bbass = 0.05 * vocals + 1 * bass + 0.05 * drums + 0.05 * other\n",
    "        bdrums = 0.05 * vocals + 0.05 * bass + 1 * drums + 0.05 * other\n",
    "        bother = 0.05 * vocals + 0.05 * bass + 0.05 * drums + 1 * other\n",
    "        \n",
    "    return bvocals, bbass, bdrums, bother"
   ]
  },
  {
   "cell_type": "code",
   "execution_count": 101,
   "id": "9898a16b",
   "metadata": {},
   "outputs": [],
   "source": [
    "bvocals, bbass, bdrums, bother = genbleed(vocals, bass, drums, other, way=2)"
   ]
  },
  {
   "cell_type": "code",
   "execution_count": 102,
   "id": "0ead6148",
   "metadata": {},
   "outputs": [],
   "source": [
    "smix = vocals+bass+drums+other\n",
    "xmix = bvocals+bbass+bdrums+bother"
   ]
  },
  {
   "cell_type": "code",
   "execution_count": 103,
   "id": "ea6c878b",
   "metadata": {},
   "outputs": [
    {
     "data": {
      "text/plain": [
       "(0.00047804878076596405, 112.16503048359664)"
      ]
     },
     "execution_count": 103,
     "metadata": {},
     "output_type": "execute_result"
    }
   ],
   "source": [
    "np.linalg.norm(mixture-smix)**2, np.linalg.norm(mixture-xmix)**2"
   ]
  },
  {
   "cell_type": "code",
   "execution_count": 104,
   "id": "492178f4",
   "metadata": {},
   "outputs": [],
   "source": [
    "S = np.array([vocals, bass, drums, other])"
   ]
  },
  {
   "cell_type": "code",
   "execution_count": 105,
   "id": "8b038455",
   "metadata": {},
   "outputs": [
    {
     "data": {
      "text/plain": [
       "array([1.0000001, 1.0000002, 0.9999999, 0.999999 ], dtype=float32)"
      ]
     },
     "execution_count": 105,
     "metadata": {},
     "output_type": "execute_result"
    }
   ],
   "source": [
    "s_coeff = mixture @ np.linalg.pinv(S)\n",
    "s_coeff"
   ]
  },
  {
   "cell_type": "code",
   "execution_count": 106,
   "id": "e3097328",
   "metadata": {},
   "outputs": [
    {
     "data": {
      "text/plain": [
       "(array([1., 1., 1., 1.], dtype=float32),\n",
       " array([1., 1., 1., 1.], dtype=float32),\n",
       " array([0.941, 0.87 , 1.155, 0.996], dtype=float32))"
      ]
     },
     "execution_count": 106,
     "metadata": {},
     "output_type": "execute_result"
    }
   ],
   "source": [
    "s_coeff = mixture @ np.linalg.pinv(S)\n",
    "artmix_s_coeff = smix @ np.linalg.pinv(S)\n",
    "artmix_x_coeff = xmix @ np.linalg.pinv(S)\n",
    "\n",
    "np.round(s_coeff, 4), np.round(artmix_s_coeff, 4), np.round(artmix_x_coeff, 4)"
   ]
  },
  {
   "cell_type": "code",
   "execution_count": 107,
   "id": "1f00dfbe",
   "metadata": {},
   "outputs": [],
   "source": [
    "outpath = \"/home/rajesh/Desktop/\""
   ]
  },
  {
   "cell_type": "code",
   "execution_count": 108,
   "id": "e271e8bc",
   "metadata": {},
   "outputs": [],
   "source": [
    "sf.write(outpath+\"mixture.wav\", mixture, fs)\n",
    "sf.write(outpath+\"smix.wav\", smix, fs)\n",
    "sf.write(outpath+\"xmix.wav\", xmix, fs)"
   ]
  },
  {
   "cell_type": "code",
   "execution_count": 109,
   "id": "8db7236d",
   "metadata": {},
   "outputs": [],
   "source": [
    "sf.write(outpath+\"bvocals.wav\", bvocals, fs)\n",
    "sf.write(outpath+\"bbass.wav\", bbass, fs)\n",
    "sf.write(outpath+\"bdrums.wav\", bdrums, fs)\n",
    "sf.write(outpath+\"bother.wav\", bother, fs)"
   ]
  },
  {
   "cell_type": "code",
   "execution_count": 110,
   "id": "f5e18c96",
   "metadata": {},
   "outputs": [],
   "source": [
    "sf.write(outpath+\"vocals.wav\", vocals, fs)\n",
    "sf.write(outpath+\"bass.wav\", bass, fs)\n",
    "sf.write(outpath+\"drums.wav\", drums, fs)\n",
    "sf.write(outpath+\"other.wav\", other, fs)"
   ]
  },
  {
   "cell_type": "code",
   "execution_count": null,
   "id": "6d9c200d",
   "metadata": {},
   "outputs": [],
   "source": []
  },
  {
   "cell_type": "code",
   "execution_count": null,
   "id": "17149472",
   "metadata": {},
   "outputs": [],
   "source": []
  },
  {
   "cell_type": "code",
   "execution_count": null,
   "id": "d43b2ddc",
   "metadata": {},
   "outputs": [],
   "source": []
  }
 ],
 "metadata": {
  "kernelspec": {
   "display_name": "Python 3 (ipykernel)",
   "language": "python",
   "name": "python3"
  },
  "language_info": {
   "codemirror_mode": {
    "name": "ipython",
    "version": 3
   },
   "file_extension": ".py",
   "mimetype": "text/x-python",
   "name": "python",
   "nbconvert_exporter": "python",
   "pygments_lexer": "ipython3",
   "version": "3.10.6"
  }
 },
 "nbformat": 4,
 "nbformat_minor": 5
}
