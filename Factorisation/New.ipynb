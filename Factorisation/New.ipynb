{
 "cells": [
  {
   "cell_type": "code",
   "execution_count": 1,
   "id": "176a879b",
   "metadata": {},
   "outputs": [],
   "source": [
    "import numpy as np\n",
    "from scipy.optimize import minimize"
   ]
  },
  {
   "cell_type": "code",
   "execution_count": 267,
   "id": "6981ec2d",
   "metadata": {},
   "outputs": [],
   "source": [
    "def objective(params, X, m, gamma1, gamma2):\n",
    "    n, l = X.shape\n",
    "    A = params[:n**2].reshape((n, n))\n",
    "    S = params[n**2:].reshape((n, l))\n",
    "    t = np.sum(S, axis=0)\n",
    "    return np.linalg.norm(X - np.dot(A, S))**2 + np.linalg.norm(m - t)**2\n",
    "\n",
    "def update_A(S, X, gamma2):\n",
    "    n, l = X.shape\n",
    "    E = np.eye(n) - 1/n\n",
    "    A = np.dot(X, S.T) + gamma2 * E\n",
    "    SS = np.dot(S, S.T) + gamma2 * np.eye(l)\n",
    "    A = np.dot(A, np.linalg.inv(SS))\n",
    "    np.fill_diagonal(A, 1)\n",
    "    return A.ravel()\n",
    "\n",
    "def update_S(A, X):\n",
    "    return np.linalg.lstsq(A, X, rcond=None)[0].ravel()\n",
    "\n",
    "def minimize_function(X, m, gamma1, gamma2):\n",
    "\n",
    "    # initialize A as identity matrix and S as X\n",
    "    n, l = X.shape\n",
    "    A_init = np.eye(n)\n",
    "    S_init = X.copy()\n",
    "\n",
    "    # set bounds for A and S separately\n",
    "    A_bounds = [(1, 1) if i == j else (gamma1, gamma2) for i in range(n) for j in range(n)]\n",
    "    S_bounds = [(-np.inf, np.inf)] * (n * l)\n",
    "    bounds = A_bounds + S_bounds\n",
    "\n",
    "    # alternating optimization\n",
    "    params = np.concatenate([A_init.ravel(), S_init.ravel()])\n",
    "    res = minimize(objective, params, args=(X, m, gamma1, gamma2), method='Powell', bounds=bounds)\n",
    "\n",
    "    # extract the optimized A and S\n",
    "    A_opt = res.x[:n**2].reshape((n, n))\n",
    "    S_opt = res.x[n**2:].reshape((n, l))\n",
    "    \n",
    "    return A_opt, S_opt\n"
   ]
  },
  {
   "cell_type": "code",
   "execution_count": 144,
   "id": "11f1bb3e",
   "metadata": {},
   "outputs": [],
   "source": [
    "A = np.array([[1, 0.02, 0.22],\n",
    "             [0.1, 1, 0.02],\n",
    "             [0.1, 0.1, 1]])"
   ]
  },
  {
   "cell_type": "code",
   "execution_count": 150,
   "id": "e987ffbd",
   "metadata": {},
   "outputs": [],
   "source": [
    "S = np.random.random((3, 10))\n",
    "X = A @ S"
   ]
  },
  {
   "cell_type": "code",
   "execution_count": 151,
   "id": "691b6b6c",
   "metadata": {},
   "outputs": [],
   "source": [
    "m = S[0]+S[1]+S[2]"
   ]
  },
  {
   "cell_type": "code",
   "execution_count": 157,
   "id": "3843dc6e",
   "metadata": {},
   "outputs": [
    {
     "data": {
      "text/plain": [
       "(array([[1.        , 0.06843177, 0.12250687],\n",
       "        [0.09254738, 1.        , 0.10953054],\n",
       "        [0.10842322, 0.04973531, 1.        ]]),\n",
       " 2.082960350869624e-06,\n",
       " 2.736596681014895e-06,\n",
       " 4.8195570318845185e-06)"
      ]
     },
     "execution_count": 157,
     "metadata": {},
     "output_type": "execute_result"
    }
   ],
   "source": [
    "gamma1 = 0\n",
    "gamma2 = 1\n",
    "A_opt, S_opt = minimize_function(X, m, gamma1, gamma2)\n",
    "l1 = np.linalg.norm(X - np.dot(A_opt, S_opt))\n",
    "l2 = np.linalg.norm(m - (S_opt[0]+S_opt[1]+S_opt[2]))\n",
    "A_opt,l1, l2, l1+l2"
   ]
  },
  {
   "cell_type": "code",
   "execution_count": 149,
   "id": "5b3c6a59",
   "metadata": {},
   "outputs": [
    {
     "data": {
      "text/plain": [
       "(0.1420167871496621, 0.35506382445659007)"
      ]
     },
     "execution_count": 149,
     "metadata": {},
     "output_type": "execute_result"
    }
   ],
   "source": [
    "np.linalg.norm(A-A_opt), np.linalg.norm(S-S_opt)"
   ]
  },
  {
   "cell_type": "code",
   "execution_count": null,
   "id": "70074776",
   "metadata": {},
   "outputs": [],
   "source": []
  },
  {
   "cell_type": "code",
   "execution_count": null,
   "id": "d6397138",
   "metadata": {},
   "outputs": [],
   "source": []
  },
  {
   "cell_type": "code",
   "execution_count": null,
   "id": "2edc635c",
   "metadata": {},
   "outputs": [],
   "source": []
  },
  {
   "cell_type": "code",
   "execution_count": null,
   "id": "f414cd34",
   "metadata": {},
   "outputs": [],
   "source": []
  },
  {
   "cell_type": "code",
   "execution_count": null,
   "id": "39d0dbfc",
   "metadata": {},
   "outputs": [],
   "source": []
  },
  {
   "cell_type": "code",
   "execution_count": 40,
   "id": "30185aab",
   "metadata": {},
   "outputs": [],
   "source": [
    "import librosa as lb\n",
    "import soundfile as sf\n",
    "from matplotlib import pyplot as plt\n",
    "import os"
   ]
  },
  {
   "cell_type": "code",
   "execution_count": 168,
   "id": "914321b4",
   "metadata": {},
   "outputs": [],
   "source": [
    "bleed_path = '/home/rajesh/Desktop/Datasets/musdb18hq_bleeded/train/Music Delta - Hendrix/'\n",
    "bvocals, fs = lb.load(bleed_path+'vocals.wav')\n",
    "bbass, fs = lb.load(bleed_path+'bass.wav')\n",
    "bdrums, fs = lb.load(bleed_path+'drums.wav')\n",
    "bother, fs = lb.load(bleed_path+'other.wav')\n",
    "\n",
    "clean_path = '/home/rajesh/Desktop/Datasets/musdb18hq/train/Music Delta - Hendrix/'\n",
    "vocals, fs = lb.load(clean_path+'vocals.wav')\n",
    "bass, fs = lb.load(clean_path+'bass.wav')\n",
    "drums, fs = lb.load(clean_path+'drums.wav')\n",
    "other, fs = lb.load(clean_path+'other.wav')\n",
    "\n",
    "mixture, fs = lb.load(clean_path+'mixture.wav')"
   ]
  },
  {
   "cell_type": "code",
   "execution_count": 292,
   "id": "3edfc801",
   "metadata": {
    "scrolled": true
   },
   "outputs": [],
   "source": [
    "if len(bbass) > len(bass):\n",
    "    n_ = len(bass)\n",
    "else:\n",
    "    n_ = len(bbass)\n",
    "    \n",
    "if n_ > len(mixture):\n",
    "    n_ = len(mixture)\n",
    "    \n",
    "vocals = vocals[:n_]\n",
    "bass = bass[:n_]\n",
    "drums = drums[:n_]\n",
    "other = other[:n_]\n",
    "\n",
    "bvocals = bvocals[:n_]\n",
    "bbass = bbass[:n_]\n",
    "bdrums = bdrums[:n_]\n",
    "bother = bother[:n_]\n",
    "\n",
    "m = mixture[:n_]"
   ]
  },
  {
   "cell_type": "code",
   "execution_count": 293,
   "id": "5bb81122",
   "metadata": {},
   "outputs": [
    {
     "data": {
      "text/plain": [
       "22050"
      ]
     },
     "execution_count": 293,
     "metadata": {},
     "output_type": "execute_result"
    }
   ],
   "source": [
    "1 *fs"
   ]
  },
  {
   "cell_type": "code",
   "execution_count": 294,
   "id": "08b34100",
   "metadata": {},
   "outputs": [
    {
     "data": {
      "text/plain": [
       "((4, 437559), (4, 437559), (437559,))"
      ]
     },
     "execution_count": 294,
     "metadata": {},
     "output_type": "execute_result"
    }
   ],
   "source": [
    "X = np.array([bvocals, bbass, bdrums, bother])\n",
    "S = np.array([vocals, bass, drums, other])\n",
    "\n",
    "X.shape, S.shape, m.shape"
   ]
  },
  {
   "cell_type": "code",
   "execution_count": 295,
   "id": "9e4ebd8c",
   "metadata": {},
   "outputs": [],
   "source": [
    "X = X[:, 1200:1225]\n",
    "S = S[:, 1200:1225]\n",
    "m = m[1200:1225]"
   ]
  },
  {
   "cell_type": "code",
   "execution_count": 296,
   "id": "7f3e44b2",
   "metadata": {},
   "outputs": [
    {
     "data": {
      "text/plain": [
       "(array([[1.        , 0.28874028, 0.11956632, 0.10669804],\n",
       "        [0.39097117, 1.        , 0.16794349, 0.02533739],\n",
       "        [0.39989507, 0.12364107, 1.        , 0.174168  ],\n",
       "        [0.35299177, 0.06508365, 0.03121272, 1.        ]]),\n",
       " 5.1904028291821654e-05,\n",
       " 3.612653996495037e-05,\n",
       " 8.803056825677202e-05)"
      ]
     },
     "execution_count": 296,
     "metadata": {},
     "output_type": "execute_result"
    }
   ],
   "source": [
    "gamma1 = 0\n",
    "gamma2 = 0.4\n",
    "A_opt, S_opt = minimize_function(X, m, gamma1, gamma2)\n",
    "l1 = np.linalg.norm(X - np.dot(A_opt, S_opt))\n",
    "l2 = np.linalg.norm(m - (S_opt[0]+S_opt[1]+S_opt[2]+S_opt[3]))\n",
    "A_opt, l1, l2, l1+l2"
   ]
  },
  {
   "cell_type": "code",
   "execution_count": 286,
   "id": "81b955ca",
   "metadata": {},
   "outputs": [
    {
     "data": {
      "text/plain": [
       "0.0002051982"
      ]
     },
     "execution_count": 286,
     "metadata": {},
     "output_type": "execute_result"
    }
   ],
   "source": [
    "np.linalg.norm(m - (S[0]+S[1]+S[2]+S[3]))"
   ]
  },
  {
   "cell_type": "code",
   "execution_count": 291,
   "id": "eea98eb8",
   "metadata": {},
   "outputs": [
    {
     "data": {
      "text/plain": [
       "1200"
      ]
     },
     "execution_count": 291,
     "metadata": {},
     "output_type": "execute_result"
    }
   ],
   "source": [
    "24*50"
   ]
  },
  {
   "cell_type": "code",
   "execution_count": null,
   "id": "2a001323",
   "metadata": {},
   "outputs": [],
   "source": []
  },
  {
   "cell_type": "code",
   "execution_count": null,
   "id": "c5f60587",
   "metadata": {},
   "outputs": [],
   "source": []
  },
  {
   "cell_type": "code",
   "execution_count": null,
   "id": "4132c5de",
   "metadata": {},
   "outputs": [],
   "source": []
  },
  {
   "cell_type": "code",
   "execution_count": null,
   "id": "72914925",
   "metadata": {},
   "outputs": [],
   "source": []
  },
  {
   "cell_type": "code",
   "execution_count": 25,
   "id": "dae157f0",
   "metadata": {},
   "outputs": [],
   "source": [
    "out = '/home/rajesh/Desktop/'\n",
    "sf.write(out+'pred_vocal.wav', S_opt[0], fs)\n",
    "sf.write(out+'pred_bass.wav', S_opt[1], fs)\n",
    "sf.write(out+'pred_drums.wav', S_opt[2], fs)\n",
    "sf.write(out+'pred_other.wav', S_opt[3], fs)"
   ]
  },
  {
   "cell_type": "code",
   "execution_count": null,
   "id": "c8ddcb0e",
   "metadata": {},
   "outputs": [],
   "source": [
    "def get_metrics(y):\n",
    "    avg_y = []\n",
    "    for i in range(len(y)):\n",
    "        x = y[~np.isnan(y)]\n",
    "        avg = sum(x)/len(x)\n",
    "        avg_y.append(avg)\n",
    "    return avg_y"
   ]
  },
  {
   "cell_type": "code",
   "execution_count": null,
   "id": "5143e813",
   "metadata": {},
   "outputs": [],
   "source": [
    "def compute_sdr(true, reconstructed, fs):\n",
    "    t = np.array([true])\n",
    "    r = np.array([reconstructed])\n",
    "\n",
    "    sdr, isr, sir, sar = museval.evaluate(t, r, win=fs, hop=fs)\n",
    "        \n",
    "    avg_sdr = get_metrics(sdr)\n",
    "    avg_isr = get_metrics(isr) #Source to Spatial Distortion Image\n",
    "    avg_sir = get_metrics(sir)\n",
    "    avg_sar = get_metrics(sar)\n",
    "\n",
    "    return sum(avg_sdr)/len(avg_sdr)"
   ]
  },
  {
   "cell_type": "code",
   "execution_count": null,
   "id": "36f5da64",
   "metadata": {},
   "outputs": [],
   "source": [
    "v_sdr = compute_sdr(vocals[:n], bvocals[:n], fs)\n",
    "b_sdr = compute_sdr(bass[:n], bbass[:n], fs)\n",
    "d_sdr = compute_sdr(drums[:n], bdrums[:n], fs)\n",
    "o_sdr = compute_sdr(other[:n], bother[:n], fs)\n",
    "\n",
    "sdr = (v_sdr + b_sdr + d_sdr + o_sdr)/4\n",
    "sdr, v_sdr, b_sdr, d_sdr, o_sdr"
   ]
  },
  {
   "cell_type": "code",
   "execution_count": null,
   "id": "75cb2954",
   "metadata": {},
   "outputs": [],
   "source": [
    "v_sdr = compute_sdr(vocals[:n], S[0], fs)\n",
    "b_sdr = compute_sdr(bass[:n], S[1], fs)\n",
    "d_sdr = compute_sdr(drums[:n], S[2], fs)\n",
    "o_sdr = compute_sdr(other[:n], S[3], fs)\n",
    "\n",
    "sdr = (v_sdr + b_sdr + d_sdr + o_sdr)/4\n",
    "sdr, v_sdr, b_sdr, d_sdr, o_sdr"
   ]
  },
  {
   "cell_type": "code",
   "execution_count": null,
   "id": "acf62d1b",
   "metadata": {},
   "outputs": [],
   "source": []
  },
  {
   "cell_type": "code",
   "execution_count": null,
   "id": "bb758552",
   "metadata": {},
   "outputs": [],
   "source": []
  },
  {
   "cell_type": "code",
   "execution_count": null,
   "id": "0f2c4d8b",
   "metadata": {},
   "outputs": [],
   "source": []
  },
  {
   "cell_type": "code",
   "execution_count": null,
   "id": "1e13d9ac",
   "metadata": {},
   "outputs": [],
   "source": []
  }
 ],
 "metadata": {
  "kernelspec": {
   "display_name": "Python 3 (ipykernel)",
   "language": "python",
   "name": "python3"
  },
  "language_info": {
   "codemirror_mode": {
    "name": "ipython",
    "version": 3
   },
   "file_extension": ".py",
   "mimetype": "text/x-python",
   "name": "python",
   "nbconvert_exporter": "python",
   "pygments_lexer": "ipython3",
   "version": "3.10.6"
  }
 },
 "nbformat": 4,
 "nbformat_minor": 5
}
