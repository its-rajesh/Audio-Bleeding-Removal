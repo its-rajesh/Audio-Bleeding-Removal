{
 "cells": [
  {
   "cell_type": "markdown",
   "id": "2dfb4cc2",
   "metadata": {},
   "source": [
    "# Min Norm Solution for Bleed Removal"
   ]
  },
  {
   "cell_type": "markdown",
   "id": "8d7d9684",
   "metadata": {},
   "source": [
    "### Toy Example"
   ]
  },
  {
   "cell_type": "code",
   "execution_count": 2,
   "id": "b3ba4fdb",
   "metadata": {},
   "outputs": [],
   "source": [
    "import numpy as np\n",
    "import numpy.linalg as linalg"
   ]
  },
  {
   "cell_type": "markdown",
   "id": "2ad1405d",
   "metadata": {},
   "source": [
    "#### Inteference Matrix (lambda)"
   ]
  },
  {
   "cell_type": "code",
   "execution_count": 88,
   "id": "7d53119c",
   "metadata": {},
   "outputs": [
    {
     "data": {
      "text/plain": [
       "array([[1. , 0.2, 0.1],\n",
       "       [0.2, 1. , 0.1],\n",
       "       [0.2, 0.1, 1. ]])"
      ]
     },
     "execution_count": 88,
     "metadata": {},
     "output_type": "execute_result"
    }
   ],
   "source": [
    "lmbda = np.array([[1, 0.2, 0.1], [0.2, 1, 0.1], [0.2, 0.1, 1]])\n",
    "lmbda"
   ]
  },
  {
   "cell_type": "markdown",
   "id": "1ae91e14",
   "metadata": {},
   "source": [
    "#### Source R = lambda.S"
   ]
  },
  {
   "cell_type": "code",
   "execution_count": 101,
   "id": "b2fa687b",
   "metadata": {},
   "outputs": [
    {
     "data": {
      "text/plain": [
       "array([[0.30623236, 0.29007558, 0.32656067, ..., 0.26782798, 0.73473915,\n",
       "        0.50643876],\n",
       "       [0.48718847, 0.32256357, 0.95434424, ..., 0.77160613, 0.16073067,\n",
       "        0.12513822],\n",
       "       [0.33245031, 0.65055748, 0.49165979, ..., 0.97073451, 0.64070822,\n",
       "        0.50104996]])"
      ]
     },
     "execution_count": 101,
     "metadata": {},
     "output_type": "execute_result"
    }
   ],
   "source": [
    "R = np.random.rand(3,1000)\n",
    "R"
   ]
  },
  {
   "cell_type": "code",
   "execution_count": 103,
   "id": "bcba90ae",
   "metadata": {},
   "outputs": [
    {
     "data": {
      "text/plain": [
       "array([[0.43691508, 0.41964405, 0.5665955 , ..., 0.51922266, 0.83095611,\n",
       "        0.5815714 ],\n",
       "       [0.58167997, 0.44563444, 1.06882235, ..., 0.92224518, 0.37174932,\n",
       "        0.27653097],\n",
       "       [0.44241562, 0.74082895, 0.65240635, ..., 1.10146072, 0.80372912,\n",
       "        0.61485154]])"
      ]
     },
     "execution_count": 103,
     "metadata": {},
     "output_type": "execute_result"
    }
   ],
   "source": [
    "S = np.dot(lmbda, R)\n",
    "S"
   ]
  },
  {
   "cell_type": "markdown",
   "id": "a2f0691b",
   "metadata": {},
   "source": [
    "#### Norm Solution"
   ]
  },
  {
   "cell_type": "code",
   "execution_count": 104,
   "id": "4a726b2f",
   "metadata": {},
   "outputs": [],
   "source": [
    "def leastnormsoln(r, s):\n",
    "    b = np.array([r-s]).T\n",
    "    A = np.array([[s[1], s[2], 0, 0 ,0, 0], [0, 0, s[0], s[2], 0, 0], [0, 0, 0, 0, s[0], s[1]]])\n",
    "    soln, residual, rank, singular = linalg.lstsq(A, b, rcond=-1)\n",
    "    return np.array([[1, soln[0][0], soln[1][0]], [soln[2][0], 1, soln[3][0]], [soln[4][0], soln[5][0], 1]])"
   ]
  },
  {
   "cell_type": "code",
   "execution_count": 105,
   "id": "076f5fe7",
   "metadata": {},
   "outputs": [],
   "source": [
    "lmda = []\n",
    "for i in range(R.shape[1]):\n",
    "    r = R[:, i]\n",
    "    s = S[:, i]\n",
    "    lmda.append(leastnormsoln(r, s))"
   ]
  },
  {
   "cell_type": "markdown",
   "id": "1e4565ec",
   "metadata": {},
   "source": [
    "#### Different Solution for each column"
   ]
  },
  {
   "cell_type": "code",
   "execution_count": 107,
   "id": "d1785c2c",
   "metadata": {},
   "outputs": [
    {
     "data": {
      "text/plain": [
       "array([[ 1.        , -0.142329  , -0.10825295],\n",
       "       [-0.10678206,  1.        , -0.1081264 ],\n",
       "       [-0.09078098, -0.12085982,  1.        ]])"
      ]
     },
     "execution_count": 107,
     "metadata": {},
     "output_type": "execute_result"
    }
   ],
   "source": [
    "lmda[0]"
   ]
  },
  {
   "cell_type": "code",
   "execution_count": null,
   "id": "f28cf744",
   "metadata": {},
   "outputs": [],
   "source": []
  },
  {
   "cell_type": "code",
   "execution_count": null,
   "id": "fed5aaa2",
   "metadata": {},
   "outputs": [],
   "source": []
  },
  {
   "cell_type": "markdown",
   "id": "8fa5f87c",
   "metadata": {},
   "source": [
    "### Actual Audio (Sample from MUSDBHQ Bleeded)"
   ]
  },
  {
   "cell_type": "code",
   "execution_count": 165,
   "id": "0575f18a",
   "metadata": {},
   "outputs": [],
   "source": [
    "import os\n",
    "import librosa as lb\n",
    "import soundfile as sf"
   ]
  },
  {
   "cell_type": "markdown",
   "id": "ed8ca4b5",
   "metadata": {},
   "source": [
    "#### Loading Bleed Sources"
   ]
  },
  {
   "cell_type": "code",
   "execution_count": 130,
   "id": "f64d9646",
   "metadata": {},
   "outputs": [],
   "source": [
    "bleed_path = '/home/rajesh/Desktop/Datasets/musdb18hq_bleeded/train/A Classic Education - NightOwl/'\n",
    "bvocals, fs = lb.load(bleed_path+'vocals.wav')\n",
    "bbass, fs = lb.load(bleed_path+'bass.wav')\n",
    "bdrums, fs = lb.load(bleed_path+'drums.wav')\n",
    "bother, fs = lb.load(bleed_path+'other.wav')"
   ]
  },
  {
   "cell_type": "code",
   "execution_count": 124,
   "id": "76275e80",
   "metadata": {},
   "outputs": [
    {
     "data": {
      "text/plain": [
       "(4, 3780252)"
      ]
     },
     "execution_count": 124,
     "metadata": {},
     "output_type": "execute_result"
    }
   ],
   "source": [
    "R = np.array([bvocals, bbass, bdrums, bother])\n",
    "R.shape"
   ]
  },
  {
   "cell_type": "markdown",
   "id": "be782b81",
   "metadata": {},
   "source": [
    "#### Loading True Sources"
   ]
  },
  {
   "cell_type": "code",
   "execution_count": 126,
   "id": "1db5816f",
   "metadata": {},
   "outputs": [],
   "source": [
    "clean_path = '/home/rajesh/Desktop/Datasets/musdb18hq/train/A Classic Education - NightOwl/'\n",
    "vocals, fs = lb.load(clean_path+'vocals.wav')\n",
    "bass, fs = lb.load(clean_path+'bass.wav')\n",
    "drums, fs = lb.load(clean_path+'drums.wav')\n",
    "other, fs = lb.load(clean_path+'other.wav')"
   ]
  },
  {
   "cell_type": "code",
   "execution_count": 129,
   "id": "424e4681",
   "metadata": {},
   "outputs": [
    {
     "data": {
      "text/plain": [
       "(4, 3780252)"
      ]
     },
     "execution_count": 129,
     "metadata": {},
     "output_type": "execute_result"
    }
   ],
   "source": [
    "S = np.array([vocals[:3780252], bass[:3780252], drums[:3780252], other[:3780252]])\n",
    "S.shape"
   ]
  },
  {
   "cell_type": "markdown",
   "id": "026f285d",
   "metadata": {},
   "source": [
    "#### Min Norm Solution"
   ]
  },
  {
   "cell_type": "code",
   "execution_count": 133,
   "id": "cad1d154",
   "metadata": {},
   "outputs": [],
   "source": [
    "def leastnormsoln(r, s):\n",
    "    b = np.array([r-s]).T\n",
    "    A = np.array([[s[1], s[2], s[3], 0, 0 ,0, 0, 0, 0, 0, 0, 0], \n",
    "                  [0, 0, 0, s[0], s[2], s[3], 0, 0, 0, 0, 0, 0], \n",
    "                  [0, 0, 0, 0, 0, 0, s[0], s[1], s[3], 0, 0, 0],\n",
    "                  [0, 0, 0, 0, 0, 0, 0, 0, 0, s[0], s[1], s[2]]])\n",
    "    soln, residual, rank, singular = linalg.lstsq(A, b, rcond=-1)\n",
    "    return np.array([[1, soln[0][0], soln[1][0], soln[2][0]],\n",
    "                     [soln[3][0], 1, soln[4][0], soln[5][0]],\n",
    "                     [soln[6][0], soln[7][0], 1, soln[8][0]],\n",
    "                     [soln[9][0], soln[10][0], soln[11][0], 1]])"
   ]
  },
  {
   "cell_type": "code",
   "execution_count": 134,
   "id": "2b96465f",
   "metadata": {},
   "outputs": [],
   "source": [
    "lmda = []\n",
    "for i in range(R.shape[1]):\n",
    "    r = R[:, i]\n",
    "    s = S[:, i]\n",
    "    lmda.append(leastnormsoln(r, s))"
   ]
  },
  {
   "cell_type": "code",
   "execution_count": 136,
   "id": "5016fe2c",
   "metadata": {},
   "outputs": [
    {
     "data": {
      "text/plain": [
       "array([[ 1.        ,  0.15573787,  0.02468029,  0.02048064],\n",
       "       [-0.10313342,  1.        ,  0.07998507,  0.06637464],\n",
       "       [-0.02391373,  0.11703096,  1.        ,  0.01539041],\n",
       "       [-0.02336321,  0.11433679,  0.01811933,  1.        ]])"
      ]
     },
     "execution_count": 136,
     "metadata": {},
     "output_type": "execute_result"
    }
   ],
   "source": [
    "lmda[0]"
   ]
  },
  {
   "cell_type": "markdown",
   "id": "78593ae1",
   "metadata": {},
   "source": [
    "#### Getting Back Sources (Lambda Inverse)"
   ]
  },
  {
   "cell_type": "code",
   "execution_count": 139,
   "id": "a0cec9a2",
   "metadata": {},
   "outputs": [],
   "source": [
    "def predict(r, l):\n",
    "    lambda_inv = linalg.inv(l)\n",
    "    soln = np.dot(lambda_inv,r)\n",
    "    return soln"
   ]
  },
  {
   "cell_type": "code",
   "execution_count": 160,
   "id": "9e3d325b",
   "metadata": {},
   "outputs": [],
   "source": [
    "coln_soln = []\n",
    "for i in range(R.shape[1]):\n",
    "    r = R[:, i]\n",
    "    l = lmda[i]\n",
    "    coln_soln.append(predict(r, l))"
   ]
  },
  {
   "cell_type": "code",
   "execution_count": 161,
   "id": "1c6c1959",
   "metadata": {},
   "outputs": [],
   "source": [
    "unbleeded = np.array(coln_soln).T"
   ]
  },
  {
   "cell_type": "code",
   "execution_count": 163,
   "id": "8d8dadc6",
   "metadata": {},
   "outputs": [],
   "source": [
    "unbleed_vocal = unbleeded[0]\n",
    "unbleed_bass = unbleeded[1]\n",
    "unbleed_drum = unbleeded[2]\n",
    "unbleed_other = unbleeded[3]"
   ]
  },
  {
   "cell_type": "code",
   "execution_count": 167,
   "id": "e5926074",
   "metadata": {},
   "outputs": [],
   "source": [
    "sf.write('/home/rajesh/Desktop/vocal.wav', unbleed_vocal, fs)\n",
    "sf.write('/home/rajesh/Desktop/bass.wav', unbleed_bass, fs)\n",
    "sf.write('/home/rajesh/Desktop/drum.wav', unbleed_drum, fs)\n",
    "sf.write('/home/rajesh/Desktop/other.wav', unbleed_other, fs)"
   ]
  },
  {
   "cell_type": "code",
   "execution_count": 168,
   "id": "a728e503",
   "metadata": {},
   "outputs": [],
   "source": [
    "sf.write('/home/rajesh/Desktop/bleed_vocal.wav', bvocals, fs)\n",
    "sf.write('/home/rajesh/Desktop/bleed_bass.wav', bbass, fs)\n",
    "sf.write('/home/rajesh/Desktop/bleed_drum.wav', bdrums, fs)\n",
    "sf.write('/home/rajesh/Desktop/bleed_other.wav', bother, fs)"
   ]
  },
  {
   "cell_type": "code",
   "execution_count": 169,
   "id": "cb18edf4",
   "metadata": {},
   "outputs": [],
   "source": [
    "sf.write('/home/rajesh/Desktop/true_vocal.wav', vocals, fs)\n",
    "sf.write('/home/rajesh/Desktop/true_bass.wav', bass, fs)\n",
    "sf.write('/home/rajesh/Desktop/true_drum.wav', drums, fs)\n",
    "sf.write('/home/rajesh/Desktop/true_other.wav', other, fs)"
   ]
  },
  {
   "cell_type": "markdown",
   "id": "9c0ead18",
   "metadata": {},
   "source": [
    "#### Average Lambda Soln"
   ]
  },
  {
   "cell_type": "code",
   "execution_count": 180,
   "id": "42a4490c",
   "metadata": {},
   "outputs": [],
   "source": [
    "avg_lmda = np.average(lmda, axis=0)"
   ]
  },
  {
   "cell_type": "code",
   "execution_count": 181,
   "id": "9063b893",
   "metadata": {},
   "outputs": [],
   "source": [
    "coln_soln = []\n",
    "for i in range(R.shape[1]):\n",
    "    r = R[:, i]\n",
    "    l = avg_lmda\n",
    "    coln_soln.append(predict(r, l))"
   ]
  },
  {
   "cell_type": "code",
   "execution_count": 182,
   "id": "88e4d3a0",
   "metadata": {},
   "outputs": [],
   "source": [
    "unbleeded = np.array(coln_soln).T"
   ]
  },
  {
   "cell_type": "code",
   "execution_count": 183,
   "id": "d0d34bd2",
   "metadata": {},
   "outputs": [],
   "source": [
    "unbleed_vocal = unbleeded[0]\n",
    "unbleed_bass = unbleeded[1]\n",
    "unbleed_drum = unbleeded[2]\n",
    "unbleed_other = unbleeded[3]"
   ]
  },
  {
   "cell_type": "code",
   "execution_count": 184,
   "id": "c24dd5c8",
   "metadata": {},
   "outputs": [],
   "source": [
    "sf.write('/home/rajesh/Desktop/avg_vocal.wav', unbleed_vocal, fs)\n",
    "sf.write('/home/rajesh/Desktop/avg_bass.wav', unbleed_bass, fs)\n",
    "sf.write('/home/rajesh/Desktop/avg_drum.wav', unbleed_drum, fs)\n",
    "sf.write('/home/rajesh/Desktop/avg_other.wav', unbleed_other, fs)"
   ]
  },
  {
   "cell_type": "markdown",
   "id": "b9519842",
   "metadata": {},
   "source": [
    "#### Max Val Lambda Soln"
   ]
  },
  {
   "cell_type": "code",
   "execution_count": 185,
   "id": "aba3ff0b",
   "metadata": {},
   "outputs": [
    {
     "data": {
      "text/plain": [
       "array([[1.        , 0.55743289, 0.52545245, 0.5616802 ],\n",
       "       [0.5277841 , 1.        , 0.66251278, 1.01806751],\n",
       "       [0.63701754, 1.10782773, 1.        , 1.63168299],\n",
       "       [0.64120316, 1.14406766, 0.66863615, 1.        ]])"
      ]
     },
     "execution_count": 185,
     "metadata": {},
     "output_type": "execute_result"
    }
   ],
   "source": [
    "max_lmda = np.amax(lmda, axis=0)\n",
    "max_lmda"
   ]
  },
  {
   "cell_type": "code",
   "execution_count": 186,
   "id": "a1aaca9f",
   "metadata": {},
   "outputs": [],
   "source": [
    "coln_soln = []\n",
    "for i in range(R.shape[1]):\n",
    "    r = R[:, i]\n",
    "    l = max_lmda\n",
    "    coln_soln.append(predict(r, l))"
   ]
  },
  {
   "cell_type": "code",
   "execution_count": 187,
   "id": "2bae7cfa",
   "metadata": {},
   "outputs": [],
   "source": [
    "unbleeded = np.array(coln_soln).T"
   ]
  },
  {
   "cell_type": "code",
   "execution_count": 188,
   "id": "22ca03f5",
   "metadata": {},
   "outputs": [],
   "source": [
    "unbleed_vocal = unbleeded[0]\n",
    "unbleed_bass = unbleeded[1]\n",
    "unbleed_drum = unbleeded[2]\n",
    "unbleed_other = unbleeded[3]"
   ]
  },
  {
   "cell_type": "code",
   "execution_count": 189,
   "id": "eaf9459b",
   "metadata": {},
   "outputs": [],
   "source": [
    "sf.write('/home/rajesh/Desktop/max_vocal.wav', unbleed_vocal, fs)\n",
    "sf.write('/home/rajesh/Desktop/max_bass.wav', unbleed_bass, fs)\n",
    "sf.write('/home/rajesh/Desktop/max_drum.wav', unbleed_drum, fs)\n",
    "sf.write('/home/rajesh/Desktop/max_other.wav', unbleed_other, fs)"
   ]
  },
  {
   "cell_type": "markdown",
   "id": "ee9aa1bf",
   "metadata": {},
   "source": [
    "#### Min Val Lambda Soln"
   ]
  },
  {
   "cell_type": "code",
   "execution_count": 191,
   "id": "8a6c2339",
   "metadata": {},
   "outputs": [
    {
     "data": {
      "text/plain": [
       "array([[ 1.        , -1.12310153, -0.39259231, -1.32638088],\n",
       "       [-2.62817349,  1.        , -0.38083775, -0.86411535],\n",
       "       [-0.83620876, -0.57315082,  1.        , -0.7267434 ],\n",
       "       [-1.62901102, -0.55622151, -1.42703541,  1.        ]])"
      ]
     },
     "execution_count": 191,
     "metadata": {},
     "output_type": "execute_result"
    }
   ],
   "source": [
    "min_lmda = np.amin(lmda, axis=0)\n",
    "min_lmda"
   ]
  },
  {
   "cell_type": "code",
   "execution_count": 192,
   "id": "8ad52fad",
   "metadata": {},
   "outputs": [],
   "source": [
    "coln_soln = []\n",
    "for i in range(R.shape[1]):\n",
    "    r = R[:, i]\n",
    "    l = min_lmda\n",
    "    coln_soln.append(predict(r, l))"
   ]
  },
  {
   "cell_type": "code",
   "execution_count": 193,
   "id": "60c50758",
   "metadata": {},
   "outputs": [],
   "source": [
    "unbleeded = np.array(coln_soln).T"
   ]
  },
  {
   "cell_type": "code",
   "execution_count": 194,
   "id": "68637292",
   "metadata": {},
   "outputs": [],
   "source": [
    "unbleed_vocal = unbleeded[0]\n",
    "unbleed_bass = unbleeded[1]\n",
    "unbleed_drum = unbleeded[2]\n",
    "unbleed_other = unbleeded[3]"
   ]
  },
  {
   "cell_type": "code",
   "execution_count": 195,
   "id": "070b1e2a",
   "metadata": {},
   "outputs": [],
   "source": [
    "sf.write('/home/rajesh/Desktop/min_vocal.wav', unbleed_vocal, fs)\n",
    "sf.write('/home/rajesh/Desktop/min_bass.wav', unbleed_bass, fs)\n",
    "sf.write('/home/rajesh/Desktop/min_drum.wav', unbleed_drum, fs)\n",
    "sf.write('/home/rajesh/Desktop/min_other.wav', unbleed_other, fs)"
   ]
  },
  {
   "cell_type": "code",
   "execution_count": null,
   "id": "e3155280",
   "metadata": {},
   "outputs": [],
   "source": []
  },
  {
   "cell_type": "code",
   "execution_count": null,
   "id": "b64f008c",
   "metadata": {},
   "outputs": [],
   "source": []
  },
  {
   "cell_type": "code",
   "execution_count": null,
   "id": "f04378af",
   "metadata": {},
   "outputs": [],
   "source": []
  }
 ],
 "metadata": {
  "kernelspec": {
   "display_name": "Python 3 (ipykernel)",
   "language": "python",
   "name": "python3"
  },
  "language_info": {
   "codemirror_mode": {
    "name": "ipython",
    "version": 3
   },
   "file_extension": ".py",
   "mimetype": "text/x-python",
   "name": "python",
   "nbconvert_exporter": "python",
   "pygments_lexer": "ipython3",
   "version": "3.10.6"
  }
 },
 "nbformat": 4,
 "nbformat_minor": 5
}
