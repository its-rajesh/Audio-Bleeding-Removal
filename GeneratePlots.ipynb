{
 "cells": [
  {
   "cell_type": "code",
   "execution_count": 86,
   "id": "5bdc04ef",
   "metadata": {},
   "outputs": [],
   "source": [
    "import numpy as np\n",
    "import numpy.linalg as linalg\n",
    "import os\n",
    "import librosa as lb\n",
    "import soundfile as sf\n",
    "import museval\n",
    "from matplotlib import pyplot as plt\n",
    "import itertools\n",
    "import random\n",
    "from tqdm import tqdm"
   ]
  },
  {
   "cell_type": "markdown",
   "id": "7fc5a312",
   "metadata": {},
   "source": [
    "## Frame-wise"
   ]
  },
  {
   "cell_type": "code",
   "execution_count": 2,
   "id": "5cc23384",
   "metadata": {},
   "outputs": [],
   "source": [
    "def leastnormsoln(r, s):\n",
    "    b = np.array([r-s]).T\n",
    "    A = np.array([[s[1], s[2], s[3], 0, 0 ,0, 0, 0, 0, 0, 0, 0], \n",
    "                  [0, 0, 0, s[0], s[2], s[3], 0, 0, 0, 0, 0, 0], \n",
    "                  [0, 0, 0, 0, 0, 0, s[0], s[1], s[3], 0, 0, 0],\n",
    "                  [0, 0, 0, 0, 0, 0, 0, 0, 0, s[0], s[1], s[2]]])\n",
    "    soln, residual, rank, singular = linalg.lstsq(A, b, rcond=-1)\n",
    "    return np.array([[1, soln[0][0], soln[1][0], soln[2][0]],\n",
    "                     [soln[3][0], 1, soln[4][0], soln[5][0]],\n",
    "                     [soln[6][0], soln[7][0], 1, soln[8][0]],\n",
    "                     [soln[9][0], soln[10][0], soln[11][0], 1]])"
   ]
  },
  {
   "cell_type": "code",
   "execution_count": 3,
   "id": "9f31924f",
   "metadata": {},
   "outputs": [],
   "source": [
    "def norm(A):\n",
    "    forb = linalg.norm(A, ord='fro')\n",
    "    l1 = linalg.norm(A, ord=1)\n",
    "    return l1, forb"
   ]
  },
  {
   "cell_type": "code",
   "execution_count": 20,
   "id": "58cc6ef9",
   "metadata": {},
   "outputs": [],
   "source": [
    "def framewise(R, S):\n",
    "    lmda = []\n",
    "    for i in range(R.shape[1]):\n",
    "        r = R[:, i]\n",
    "        s = S[:, i]\n",
    "        lmda.append(leastnormsoln(r, s))\n",
    "        \n",
    "    l1, forb = [], []\n",
    "    for i in lmda:\n",
    "        l_1, forbn = norm(i)\n",
    "        l1.append(l_1)\n",
    "        forb.append(forbn)\n",
    "        \n",
    "    d_l1, d_forb = differenceNorm(lmda)\n",
    "    \n",
    "    return l1, forb, d_l1, d_forb"
   ]
  },
  {
   "cell_type": "markdown",
   "id": "3d47f662",
   "metadata": {},
   "source": [
    "## Block-wise"
   ]
  },
  {
   "cell_type": "code",
   "execution_count": 55,
   "id": "950d711e",
   "metadata": {},
   "outputs": [],
   "source": [
    "def blockleastnormsoln(r, s):\n",
    "    r = r.flatten()\n",
    "    s = s.flatten()\n",
    "    b = r-s\n",
    "    \n",
    "    val = int(r.shape[0]/4)\n",
    "    s0 = s[0:val]\n",
    "    s1 = s[val:2*val]\n",
    "    s2 = s[2*val:3*val]\n",
    "    s3 = s[3*val:4*val]\n",
    "    \n",
    "    z = np.zeros(val)\n",
    "\n",
    "    c1 = np.hstack((s1, z, z, z))\n",
    "    c2 = np.hstack((s2, z, z, z))\n",
    "    c3 = np.hstack((s3, z, z, z))\n",
    "\n",
    "    c4 = np.hstack((z, s0, z, z))\n",
    "    c5 = np.hstack((z, s2, z, z))\n",
    "    c6 = np.hstack((z, s3, z, z))\n",
    "\n",
    "    c7 = np.hstack((z, z, s0, z))\n",
    "    c8 = np.hstack((z, z, s1, z))\n",
    "    c9 = np.hstack((z, z, s3, z))\n",
    "\n",
    "    c10 = np.hstack((z, z, z, s0))\n",
    "    c11 = np.hstack((z, z, z, s1))\n",
    "    c12 = np.hstack((z, z, z, s2))\n",
    "    \n",
    "    A = np.stack((c1, c2, c3, c4, c5, c6, c7, c8, c9, c10, c11, c12), axis=1)\n",
    "    \n",
    "    soln, residual, rank, singular = linalg.lstsq(A, b, rcond=-1)\n",
    "    \n",
    "    return np.array([[1, soln[0], soln[1], soln[2]],\n",
    "                     [soln[3], 1, soln[4], soln[5]],\n",
    "                     [soln[6], soln[7], 1, soln[8]],\n",
    "                     [soln[9], soln[10], soln[11], 1]])"
   ]
  },
  {
   "cell_type": "code",
   "execution_count": 56,
   "id": "596fc399",
   "metadata": {},
   "outputs": [],
   "source": [
    "def blockwise(R, S, time=0.5):\n",
    "\n",
    "    block = int(time * fs)\n",
    "\n",
    "    block_lamda = []\n",
    "    for i in range(0, R.shape[1], block):\n",
    "        r = R[: ,i:i+block]\n",
    "        s = S[: ,i:i+block]\n",
    "        block_lamda.append(blockleastnormsoln(r, s))\n",
    "        \n",
    "    l1, forb = [], []\n",
    "    for i in block_lamda:\n",
    "        l_1, forbn = norm(i)\n",
    "        l1.append(l_1)\n",
    "        forb.append(forbn)\n",
    "        \n",
    "    d_l1, d_forb = differenceNorm(block_lamda)\n",
    "    \n",
    "    return l1, forb, d_l1, d_forb"
   ]
  },
  {
   "cell_type": "markdown",
   "id": "0a5f2e3d",
   "metadata": {},
   "source": [
    "## Plotting "
   ]
  },
  {
   "cell_type": "code",
   "execution_count": 84,
   "id": "ad68c6d8",
   "metadata": {},
   "outputs": [],
   "source": [
    "def plot_time(y, norm, method, out_path):\n",
    "    if method == 'frame':\n",
    "        x = np.arange(len(y))/22050\n",
    "        plt.plot(x, y)\n",
    "        plt.title(norm + ' norm')\n",
    "        plt.xlabel('seconds')\n",
    "        plt.ylabel('norm')\n",
    "        plt.savefig(out_path, dpi = 1000)\n",
    "        plt.show()\n",
    "    else:\n",
    "        x = np.arange(len(y))/2\n",
    "        plt.plot(x, y)\n",
    "        plt.title(norm + ' norm')\n",
    "        plt.xlabel('seconds')\n",
    "        plt.ylabel('norm')\n",
    "        plt.savefig(out_path, dpi = 1000)\n",
    "        plt.show()\n"
   ]
  },
  {
   "cell_type": "code",
   "execution_count": 85,
   "id": "4cd4c196",
   "metadata": {},
   "outputs": [],
   "source": [
    "def plot_hist(x, norm, out_path):\n",
    "    plt.hist(x)\n",
    "    plt.title(norm + ' Histogram')\n",
    "    plt.xlabel('Norm')\n",
    "    plt.ylabel('frequency')\n",
    "    plt.savefig(out_path, dpi = 1000)\n",
    "    plt.show()\n"
   ]
  },
  {
   "cell_type": "markdown",
   "id": "2cab7e36",
   "metadata": {},
   "source": [
    "## Difference Norm"
   ]
  },
  {
   "cell_type": "code",
   "execution_count": 68,
   "id": "4cf8b25c",
   "metadata": {},
   "outputs": [],
   "source": [
    "def differenceNorm(lmbda):\n",
    "    random.shuffle(lmbda)\n",
    "    lamda_comb = list(itertools.combinations(lmbda[:1000], 2))\n",
    "    \n",
    "    diff = []\n",
    "    for everyblock in lamda_comb:\n",
    "        diff.append(everyblock[0]-everyblock[1])\n",
    "        \n",
    "    l1, forb = [], []\n",
    "    for i in diff:\n",
    "        l_1, forbn = norm(i)\n",
    "        l1.append(l_1)\n",
    "        forb.append(forbn)\n",
    "    \n",
    "    return l1, forb"
   ]
  },
  {
   "cell_type": "markdown",
   "id": "19909eca",
   "metadata": {},
   "source": [
    "## Script"
   ]
  },
  {
   "cell_type": "code",
   "execution_count": 64,
   "id": "8880e87d",
   "metadata": {},
   "outputs": [],
   "source": [
    "def obtain_norms(bleed_path, clean_path):\n",
    "    \n",
    "    bvocals, fs = lb.load(bleed_path+'vocals.wav')\n",
    "    bbass, fs = lb.load(bleed_path+'bass.wav')\n",
    "    bdrums, fs = lb.load(bleed_path+'drums.wav')\n",
    "    bother, fs = lb.load(bleed_path+'other.wav')\n",
    "\n",
    "    vocals, fs = lb.load(clean_path+'vocals.wav')\n",
    "    bass, fs = lb.load(clean_path+'bass.wav')\n",
    "    drums, fs = lb.load(clean_path+'drums.wav')\n",
    "    other, fs = lb.load(clean_path+'other.wav')\n",
    "\n",
    "    if len(bbass) > len(bass):\n",
    "        n = len(bass)\n",
    "    else:\n",
    "        n = len(bbass)\n",
    "\n",
    "    R = np.array([bvocals[:n], bbass[:n], bdrums[:n], bother[:n]])\n",
    "    S = np.array([vocals[:n], bass[:n], drums[:n], other[:n]])\n",
    "    \n",
    "    l1_frame, forb_frame, diff_l1_frame, diff_forb_frame = framewise(R, S)\n",
    "    l1_block, forb_block, diff_l1_block, diff_forb_block = blockwise(R, S, 0.5)\n",
    "    \n",
    "    frame = [l1_frame, forb_frame, diff_l1_frame, diff_forb_frame]\n",
    "    block = [l1_block, forb_block, diff_l1_block, diff_forb_block]\n",
    "    return frame, block"
   ]
  },
  {
   "cell_type": "code",
   "execution_count": 75,
   "id": "7a3041c7",
   "metadata": {},
   "outputs": [],
   "source": [
    "def obtain_plots(frame, block, folder, dest_path):\n",
    "    l1_frame, forb_frame, diff_l1_frame, diff_forb_frame = frame[0], frame[1], frame[2], frame[3]\n",
    "    l1_block, forb_block, diff_l1_block, diff_forb_block = block[0], block[1], block[2], block[3]\n",
    "    \n",
    "    out_path = dest_path+folder\n",
    "    \n",
    "    os.makedirs(out_path, exist_ok=True)\n",
    "    \n",
    "    #Frame-wise\n",
    "    plot_time(l1_frame, norm='l1', method='frame', out_path=out_path+'/l1.png')\n",
    "    plot_time(forb_frame, norm='forb', method='frame', out_path=out_path+'/forb.png')\n",
    "    \n",
    "    plot_hist(l1_frame, norm='l1', out_path=out_path+'/hist_l1.png')\n",
    "    plot_hist(forb_frame, norm='forb', out_path=out_path+'/hist_forb.png')\n",
    "    plot_hist(diff_l1_frame, norm='Difference l1', out_path=out_path+'/diffhist_l1.png')\n",
    "    plot_hist(diff_forb_frame, norm='Difference forb', out_path=out_path+'/diffhist_forb.png')\n",
    "    \n",
    "    #Block-wise\n",
    "    plot_time(l1_block, norm='l1', method='block', out_path=out_path+'/l1_block.png')\n",
    "    plot_time(forb_block, norm='forb', method='block', out_path=out_path+'/forb_block.png')\n",
    "    \n",
    "    plot_hist(l1_block, norm='l1', out_path=out_path+'/hist_l1_block.png')\n",
    "    plot_hist(forb_block, norm='forb', out_path=out_path+'/hist_forb_block.png')\n",
    "    plot_hist(diff_l1_block, norm='Difference l1', out_path=out_path+'/diffhist_l1_block.png')\n",
    "    plot_hist(diff_forb_block, norm='Difference forb', out_path=out_path+'/diffhist_forb_block.png')"
   ]
  },
  {
   "cell_type": "markdown",
   "id": "dafadc63",
   "metadata": {},
   "source": [
    "## Driver Code"
   ]
  },
  {
   "cell_type": "code",
   "execution_count": 83,
   "id": "2d287656",
   "metadata": {},
   "outputs": [],
   "source": [
    "bleed_path = '/home/rajesh/Desktop/Datasets/musdb18hq_bleeded/train/'\n",
    "clean_path = '/home/rajesh/Desktop/Datasets/musdb18hq/train/'\n",
    "dest_path = '/home/rajesh/Desktop/Results/'"
   ]
  },
  {
   "cell_type": "code",
   "execution_count": null,
   "id": "35025796",
   "metadata": {},
   "outputs": [],
   "source": [
    "files = sorted(os.listdir(bleed_path))\n",
    "\n",
    "for i in tqdm(files[:10]):\n",
    "    frame, block = obtain_norms(bleed_path+i+'/', clean_path+i+'/')\n",
    "    obtain_plots(frame, block, i , dest_path)"
   ]
  },
  {
   "cell_type": "code",
   "execution_count": null,
   "id": "07642d2f",
   "metadata": {},
   "outputs": [],
   "source": []
  },
  {
   "cell_type": "code",
   "execution_count": null,
   "id": "2038253c",
   "metadata": {},
   "outputs": [],
   "source": []
  },
  {
   "cell_type": "code",
   "execution_count": null,
   "id": "41a270c9",
   "metadata": {},
   "outputs": [],
   "source": []
  },
  {
   "cell_type": "code",
   "execution_count": null,
   "id": "915af9cd",
   "metadata": {},
   "outputs": [],
   "source": []
  },
  {
   "cell_type": "code",
   "execution_count": null,
   "id": "a485d4f7",
   "metadata": {},
   "outputs": [],
   "source": []
  },
  {
   "cell_type": "code",
   "execution_count": null,
   "id": "429f73b5",
   "metadata": {},
   "outputs": [],
   "source": []
  },
  {
   "cell_type": "code",
   "execution_count": null,
   "id": "c3852e25",
   "metadata": {},
   "outputs": [],
   "source": []
  },
  {
   "cell_type": "markdown",
   "id": "e7d2034a",
   "metadata": {},
   "source": [
    "# Generate PDF Document"
   ]
  },
  {
   "cell_type": "code",
   "execution_count": null,
   "id": "644d85cd",
   "metadata": {},
   "outputs": [],
   "source": []
  },
  {
   "cell_type": "code",
   "execution_count": null,
   "id": "23315d80",
   "metadata": {},
   "outputs": [],
   "source": []
  },
  {
   "cell_type": "code",
   "execution_count": null,
   "id": "cb45cf3e",
   "metadata": {},
   "outputs": [],
   "source": []
  },
  {
   "cell_type": "code",
   "execution_count": null,
   "id": "2cc258b4",
   "metadata": {},
   "outputs": [],
   "source": []
  },
  {
   "cell_type": "code",
   "execution_count": null,
   "id": "8393e929",
   "metadata": {},
   "outputs": [],
   "source": []
  }
 ],
 "metadata": {
  "kernelspec": {
   "display_name": "Python 3 (ipykernel)",
   "language": "python",
   "name": "python3"
  },
  "language_info": {
   "codemirror_mode": {
    "name": "ipython",
    "version": 3
   },
   "file_extension": ".py",
   "mimetype": "text/x-python",
   "name": "python",
   "nbconvert_exporter": "python",
   "pygments_lexer": "ipython3",
   "version": "3.10.6"
  }
 },
 "nbformat": 4,
 "nbformat_minor": 5
}
