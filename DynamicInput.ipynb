{
 "cells": [
  {
   "cell_type": "code",
   "execution_count": 1,
   "id": "819cf326",
   "metadata": {},
   "outputs": [],
   "source": [
    "import os\n",
    "import numpy as np\n",
    "import pandas as pd\n",
    "from matplotlib import pyplot as plt\n",
    "import librosa as lb"
   ]
  },
  {
   "cell_type": "code",
   "execution_count": 2,
   "id": "96d8e437",
   "metadata": {},
   "outputs": [
    {
     "data": {
      "text/plain": [
       "['vocals.wav',\n",
       " 'violin.wav',\n",
       " 'mixture.wav',\n",
       " 'mridangam.wav',\n",
       " 'accompaniment.wav']"
      ]
     },
     "execution_count": 2,
     "metadata": {},
     "output_type": "execute_result"
    }
   ],
   "source": [
    "path = \"/home/rajesh/Desktop/Datasets/Saraga3stem/train/Aaniraimekkani/\"\n",
    "files = os.listdir(path)\n",
    "files"
   ]
  },
  {
   "cell_type": "code",
   "execution_count": 3,
   "id": "336a250d",
   "metadata": {},
   "outputs": [
    {
     "data": {
      "text/plain": [
       "(array([-0.00065906, -0.00089022, -0.00050186, ..., -0.00017095,\n",
       "        -0.00015366,  0.        ], dtype=float32),\n",
       " 22050)"
      ]
     },
     "execution_count": 3,
     "metadata": {},
     "output_type": "execute_result"
    }
   ],
   "source": [
    "audio, fs = lb.load(path+'vocals.wav')\n",
    "audio, fs"
   ]
  },
  {
   "cell_type": "code",
   "execution_count": 4,
   "id": "f315c108",
   "metadata": {},
   "outputs": [
    {
     "data": {
      "text/plain": [
       "(1025, 12365)"
      ]
     },
     "execution_count": 4,
     "metadata": {},
     "output_type": "execute_result"
    }
   ],
   "source": [
    "stft = lb.stft(audio)\n",
    "stft.shape"
   ]
  },
  {
   "cell_type": "code",
   "execution_count": 5,
   "id": "9119b6c0",
   "metadata": {},
   "outputs": [],
   "source": [
    "magnitude = np.abs(stft)"
   ]
  },
  {
   "cell_type": "code",
   "execution_count": 6,
   "id": "3511b82c",
   "metadata": {},
   "outputs": [
    {
     "data": {
      "text/plain": [
       "12365"
      ]
     },
     "execution_count": 6,
     "metadata": {},
     "output_type": "execute_result"
    }
   ],
   "source": [
    "magnitude.shape[1]"
   ]
  },
  {
   "cell_type": "code",
   "execution_count": 31,
   "id": "65195eb8",
   "metadata": {},
   "outputs": [],
   "source": [
    "'''\n",
    "FUNCTION: ENCODES (SPLITS & MERGE) THE INPUT SPECTOGRAM INTO VARIOUS BINS (See Ref. Figure)\n",
    "USE: To handle dynamic inputs to neural netwok.\n",
    "Parameters:\n",
    "(1) array: Input spectogram of size m*n\n",
    "(2) frame: No of bins to be grouped together. Default is 3, If frame = no of columns in input spect/3, \n",
    "    and skip=3, then output is same as input.\n",
    "(3) skip: Overlap within the bins (1<=skip<=3), default is 1 to maintain loss of info.\n",
    "    either use skip =1 or frame = 1 for no loss of info.\n",
    "\n",
    "Note: Batches/Grouping is always 3.\n",
    "'''\n",
    "\n",
    "def encode(array, frame=3, skip=1):\n",
    "    \n",
    "    data = []\n",
    "    for i in range(0, array.shape[1]-(3*frame-1), skip):\n",
    "        y_ = array[:, i:i+frame]\n",
    "        y = array[:, i+frame:i+(2*frame)]\n",
    "        y__ = array[:, i+(2*frame):i+(3*frame)]\n",
    "        concat = np.concatenate((y_, y, y__), axis=0, casting=\"same_kind\")\n",
    "        data.append(concat)\n",
    "        \n",
    "    return np.array(data)"
   ]
  },
  {
   "cell_type": "code",
   "execution_count": 32,
   "id": "284c471c",
   "metadata": {
    "scrolled": true
   },
   "outputs": [
    {
     "data": {
      "text/plain": [
       "(12357, 3075, 3)"
      ]
     },
     "execution_count": 32,
     "metadata": {},
     "output_type": "execute_result"
    }
   ],
   "source": [
    "inp = encode(magnitude, 3, 1)\n",
    "inp.shape"
   ]
  },
  {
   "cell_type": "code",
   "execution_count": 33,
   "id": "bde8d0b5",
   "metadata": {},
   "outputs": [],
   "source": [
    "'''\n",
    "FUNCTION: DECODES (REVERSE OF ENCODE) THE SPLIT BINS INTO ORIGINAL SPECTOGRAM (See Ref. Figure)\n",
    "USE: To handle dynamic inputs to neural netwok.\n",
    "Parameters:\n",
    "(1) array: Input spectogram bins of size l*m*n\n",
    "(2) frame: Same value as given in encode function\n",
    "(3) skip: Same value as given in encode function\n",
    "\n",
    "Note: Batches/Grouping is always 3.\n",
    "'''\n",
    "\n",
    "def decode(array, frame=3, skip=1):\n",
    "    reconst = []\n",
    "    l, m, n = array.shape\n",
    "    flag = False\n",
    "    for i in array:\n",
    "        \n",
    "        y_ = i[:int(m/3)]\n",
    "        y = i[int(m/3):int(2*(m/3))]\n",
    "        y__ = i[int(2*(m/3)):m]\n",
    "\n",
    "        if skip == 1:\n",
    "            if flag:\n",
    "                t = np.array([y_[:, 2]]).T\n",
    "                reconst = np.concatenate((reconst, t), axis=1, casting=\"same_kind\")\n",
    "            else:\n",
    "                reconst = y_\n",
    "                \n",
    "        if skip == 2:\n",
    "            if flag:\n",
    "                t = np.array([y_[:, 1:2]]).T\n",
    "                reconst = np.concatenate((reconst, t), axis=1, casting=\"same_kind\")\n",
    "            else:\n",
    "                reconst = y_\n",
    "                \n",
    "        if skip == 3:\n",
    "            if flag:\n",
    "                reconst = np.concatenate((reconst, y_), axis=1, casting=\"same_kind\")\n",
    "            else:\n",
    "                reconst = y_\n",
    "                \n",
    "        flag = True\n",
    "        \n",
    "    if skip == 1:\n",
    "        reconst = np.concatenate((reconst, y, y__), axis=1, casting=\"same_kind\")\n",
    "\n",
    "    return np.array(reconst)"
   ]
  },
  {
   "cell_type": "code",
   "execution_count": 34,
   "id": "a0f65e49",
   "metadata": {},
   "outputs": [
    {
     "data": {
      "text/plain": [
       "((1025, 12365), (1025, 12365))"
      ]
     },
     "execution_count": 34,
     "metadata": {},
     "output_type": "execute_result"
    }
   ],
   "source": [
    "reconst = decode(inp)\n",
    "reconst.shape, magnitude.shape"
   ]
  },
  {
   "cell_type": "code",
   "execution_count": 25,
   "id": "eab00134",
   "metadata": {},
   "outputs": [
    {
     "data": {
      "text/plain": [
       "array([[1.21750738e-02, 3.63594014e-03, 5.33618825e-03, ...,\n",
       "        1.94633771e-02, 8.41832720e-03, 4.48640343e-03],\n",
       "       [1.47315767e-02, 1.05061112e-02, 2.40587187e-03, ...,\n",
       "        1.31324315e-02, 1.45874638e-02, 7.93578476e-03],\n",
       "       [1.76880620e-02, 1.41496817e-02, 1.12638343e-02, ...,\n",
       "        8.40157829e-03, 8.84553231e-03, 1.28661422e-02],\n",
       "       ...,\n",
       "       [3.02451172e-05, 1.57026971e-05, 6.27625019e-09, ...,\n",
       "        4.37095782e-09, 1.67638882e-05, 6.62301973e-05],\n",
       "       [3.01385462e-05, 1.56496753e-05, 1.06499725e-08, ...,\n",
       "        3.48854279e-09, 1.67573526e-05, 6.62284219e-05],\n",
       "       [3.01076107e-05, 1.56377064e-05, 1.70433356e-09, ...,\n",
       "        5.39927481e-09, 1.67656544e-05, 6.62283564e-05]], dtype=float32)"
      ]
     },
     "execution_count": 25,
     "metadata": {},
     "output_type": "execute_result"
    }
   ],
   "source": [
    "magnitude"
   ]
  },
  {
   "cell_type": "code",
   "execution_count": 26,
   "id": "89e5bf04",
   "metadata": {},
   "outputs": [
    {
     "data": {
      "text/plain": [
       "array([[1.21750738e-02, 3.63594014e-03, 5.33618825e-03, ...,\n",
       "        1.94633771e-02, 8.41832720e-03, 4.48640343e-03],\n",
       "       [1.47315767e-02, 1.05061112e-02, 2.40587187e-03, ...,\n",
       "        1.31324315e-02, 1.45874638e-02, 7.93578476e-03],\n",
       "       [1.76880620e-02, 1.41496817e-02, 1.12638343e-02, ...,\n",
       "        8.40157829e-03, 8.84553231e-03, 1.28661422e-02],\n",
       "       ...,\n",
       "       [3.02451172e-05, 1.57026971e-05, 6.27625019e-09, ...,\n",
       "        4.37095782e-09, 1.67638882e-05, 6.62301973e-05],\n",
       "       [3.01385462e-05, 1.56496753e-05, 1.06499725e-08, ...,\n",
       "        3.48854279e-09, 1.67573526e-05, 6.62284219e-05],\n",
       "       [3.01076107e-05, 1.56377064e-05, 1.70433356e-09, ...,\n",
       "        5.39927481e-09, 1.67656544e-05, 6.62283564e-05]], dtype=float32)"
      ]
     },
     "execution_count": 26,
     "metadata": {},
     "output_type": "execute_result"
    }
   ],
   "source": [
    "reconst"
   ]
  },
  {
   "cell_type": "code",
   "execution_count": 27,
   "id": "d89abb1e",
   "metadata": {},
   "outputs": [
    {
     "data": {
      "text/plain": [
       "array([[ True,  True,  True, ...,  True,  True,  True],\n",
       "       [ True,  True,  True, ...,  True,  True,  True],\n",
       "       [ True,  True,  True, ...,  True,  True,  True],\n",
       "       ...,\n",
       "       [ True,  True,  True, ...,  True,  True,  True],\n",
       "       [ True,  True,  True, ...,  True,  True,  True],\n",
       "       [ True,  True,  True, ...,  True,  True,  True]])"
      ]
     },
     "execution_count": 27,
     "metadata": {},
     "output_type": "execute_result"
    }
   ],
   "source": [
    "magnitude == reconst"
   ]
  },
  {
   "cell_type": "code",
   "execution_count": null,
   "id": "b214f879",
   "metadata": {},
   "outputs": [],
   "source": []
  },
  {
   "cell_type": "code",
   "execution_count": null,
   "id": "ce45c896",
   "metadata": {},
   "outputs": [],
   "source": []
  },
  {
   "cell_type": "code",
   "execution_count": 40,
   "id": "eed988ad",
   "metadata": {},
   "outputs": [],
   "source": [
    "import DynamicInput as dp"
   ]
  },
  {
   "cell_type": "code",
   "execution_count": 45,
   "id": "90377f77",
   "metadata": {},
   "outputs": [
    {
     "data": {
      "text/plain": [
       "(12357, 3075, 3)"
      ]
     },
     "execution_count": 45,
     "metadata": {},
     "output_type": "execute_result"
    }
   ],
   "source": [
    "inp = dp.DynamicInput.encode(DynamicInput, array=magnitude, frame=3, skip=1)\n",
    "inp.shape"
   ]
  },
  {
   "cell_type": "code",
   "execution_count": 47,
   "id": "493fa2f1",
   "metadata": {},
   "outputs": [
    {
     "data": {
      "text/plain": [
       "(1025, 12365)"
      ]
     },
     "execution_count": 47,
     "metadata": {},
     "output_type": "execute_result"
    }
   ],
   "source": [
    "out = dp.DynamicInput.decode(DynamicInput, array=inp, frame=3, skip=1)\n",
    "out.shape"
   ]
  },
  {
   "cell_type": "code",
   "execution_count": null,
   "id": "a09a1c90",
   "metadata": {},
   "outputs": [],
   "source": []
  },
  {
   "cell_type": "code",
   "execution_count": null,
   "id": "0e7b9527",
   "metadata": {},
   "outputs": [],
   "source": []
  },
  {
   "cell_type": "code",
   "execution_count": null,
   "id": "7c87fb10",
   "metadata": {},
   "outputs": [],
   "source": []
  },
  {
   "cell_type": "code",
   "execution_count": null,
   "id": "fbb817ba",
   "metadata": {},
   "outputs": [],
   "source": []
  },
  {
   "cell_type": "code",
   "execution_count": null,
   "id": "fad62384",
   "metadata": {},
   "outputs": [],
   "source": []
  },
  {
   "cell_type": "code",
   "execution_count": null,
   "id": "8250ee15",
   "metadata": {},
   "outputs": [],
   "source": []
  },
  {
   "cell_type": "code",
   "execution_count": null,
   "id": "36cb262a",
   "metadata": {},
   "outputs": [],
   "source": []
  },
  {
   "cell_type": "code",
   "execution_count": null,
   "id": "c992c7dd",
   "metadata": {},
   "outputs": [],
   "source": []
  },
  {
   "cell_type": "code",
   "execution_count": null,
   "id": "79cfc674",
   "metadata": {},
   "outputs": [],
   "source": []
  },
  {
   "cell_type": "code",
   "execution_count": null,
   "id": "4ecbc478",
   "metadata": {},
   "outputs": [],
   "source": []
  },
  {
   "cell_type": "code",
   "execution_count": null,
   "id": "09a7a701",
   "metadata": {},
   "outputs": [],
   "source": []
  },
  {
   "cell_type": "code",
   "execution_count": null,
   "id": "452dace4",
   "metadata": {},
   "outputs": [],
   "source": []
  },
  {
   "cell_type": "code",
   "execution_count": null,
   "id": "3fdd56d4",
   "metadata": {},
   "outputs": [],
   "source": []
  },
  {
   "cell_type": "code",
   "execution_count": null,
   "id": "532308ca",
   "metadata": {},
   "outputs": [],
   "source": []
  }
 ],
 "metadata": {
  "kernelspec": {
   "display_name": "Python 3 (ipykernel)",
   "language": "python",
   "name": "python3"
  },
  "language_info": {
   "codemirror_mode": {
    "name": "ipython",
    "version": 3
   },
   "file_extension": ".py",
   "mimetype": "text/x-python",
   "name": "python",
   "nbconvert_exporter": "python",
   "pygments_lexer": "ipython3",
   "version": "3.10.6"
  }
 },
 "nbformat": 4,
 "nbformat_minor": 5
}
