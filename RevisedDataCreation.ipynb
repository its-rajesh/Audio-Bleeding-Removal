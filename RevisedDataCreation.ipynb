{
 "cells": [
  {
   "cell_type": "markdown",
   "id": "b95b0414",
   "metadata": {},
   "source": [
    "# Creating MUSDBHQ Artifical Bleed Dataset"
   ]
  },
  {
   "cell_type": "code",
   "execution_count": 1,
   "id": "6ef1bcd5",
   "metadata": {},
   "outputs": [],
   "source": [
    "import librosa as lb"
   ]
  },
  {
   "cell_type": "code",
   "execution_count": 44,
   "id": "d43132e8",
   "metadata": {},
   "outputs": [],
   "source": [
    "import numpy as np\n",
    "import pandas as pd\n",
    "from matplotlib import pyplot as plot\n",
    "import os\n",
    "import soundfile as sf"
   ]
  },
  {
   "cell_type": "code",
   "execution_count": 31,
   "id": "35dcfb29",
   "metadata": {},
   "outputs": [],
   "source": [
    "from pydub import AudioSegment\n",
    "from tqdm import tqdm"
   ]
  },
  {
   "cell_type": "markdown",
   "id": "094c5230",
   "metadata": {},
   "source": [
    "### Read files, choose first 12 files alone and restricting to 2min"
   ]
  },
  {
   "cell_type": "code",
   "execution_count": 39,
   "id": "ff57b6df",
   "metadata": {},
   "outputs": [],
   "source": [
    "path = \"/home/rajesh/Desktop/Datasets/musdb18hq/train/\"\n",
    "files = [path+i+'/' for i in os.listdir(path)]\n",
    "files = [files[i] for i in range(13)]"
   ]
  },
  {
   "cell_type": "code",
   "execution_count": 46,
   "id": "4483375a",
   "metadata": {},
   "outputs": [],
   "source": [
    "dest_path = '/home/rajesh/Desktop/Datasets/revised_musdbbleed/Actual/'"
   ]
  },
  {
   "cell_type": "code",
   "execution_count": 47,
   "id": "40e3aa00",
   "metadata": {},
   "outputs": [],
   "source": [
    "sample_rate = 8000\n",
    "minutes_to_crop = 2"
   ]
  },
  {
   "cell_type": "code",
   "execution_count": 49,
   "id": "b1335ffe",
   "metadata": {},
   "outputs": [
    {
     "name": "stderr",
     "output_type": "stream",
     "text": [
      " 92%|███████████████████████████████████████▋   | 12/13 [00:34<00:02,  2.88s/it]\n"
     ]
    }
   ],
   "source": [
    "vocals, bass = [], []\n",
    "\n",
    "k = 1\n",
    "for i in tqdm(files):\n",
    "    vpath = i+'vocals.wav'\n",
    "    bpath = i+'bass.wav'\n",
    "    \n",
    "    vocal, fs = lb.load(vpath, sr=sample_rate) #Downsampling for lesser memory\n",
    "    bass, fs = lb.load(bpath, sr=sample_rate)\n",
    "    \n",
    "    scale = sample_rate*60*minutes_to_crop\n",
    "    vocal = vocal[:scale] #Clipping to 2 minutes. 8000*60*2\n",
    "    bass = bass[:scale]\n",
    "    \n",
    "    if len(vocal) == scale and len(bass) == scale:\n",
    "        sf.write(dest_path+'vocal{}.wav'.format(str(k)), vocal, sample_rate)\n",
    "        sf.write(dest_path+'bass{}.wav'.format(str(k)), bass, sample_rate)\n",
    "        k+=1\n",
    "        if k>=11:\n",
    "            break"
   ]
  },
  {
   "cell_type": "markdown",
   "id": "36058e7b",
   "metadata": {},
   "source": [
    "### Generating bleed and creating 100 files out of 10 each"
   ]
  },
  {
   "cell_type": "code",
   "execution_count": 60,
   "id": "c577179b",
   "metadata": {},
   "outputs": [],
   "source": [
    "files = [dest_path+i for i in sorted(os.listdir(dest_path))]"
   ]
  },
  {
   "cell_type": "code",
   "execution_count": 68,
   "id": "899f79cc",
   "metadata": {},
   "outputs": [],
   "source": [
    "save_path = '/home/rajesh/Desktop/Datasets/revised_musdbbleed/AIbleed/'"
   ]
  },
  {
   "cell_type": "code",
   "execution_count": 76,
   "id": "4d5ff86c",
   "metadata": {},
   "outputs": [],
   "source": [
    "bass_files, vocal_files = [], []\n",
    "for i in files:\n",
    "    start = i.split('/')[-1][0]\n",
    "    if start == 'b':\n",
    "        bass_files.append(i)\n",
    "    else:\n",
    "        vocal_files.append(i)"
   ]
  },
  {
   "cell_type": "code",
   "execution_count": 82,
   "id": "48366e22",
   "metadata": {},
   "outputs": [
    {
     "name": "stderr",
     "output_type": "stream",
     "text": [
      "100%|███████████████████████████████████████████| 10/10 [00:01<00:00,  9.80it/s]\n"
     ]
    }
   ],
   "source": [
    "ic = 0\n",
    "for i in tqdm(vocal_files):\n",
    "    s1 = AudioSegment.from_file(i, format=\"wav\")\n",
    "    for j in bass_files:\n",
    "        vdname = (i.split('/')[-1]).split('.')[0]\n",
    "        bbname = (j.split('/')[-1])\n",
    "        bdname = (j.split('/')[-1]).split('.')[0]\n",
    "        vbname = (i.split('/')[-1])\n",
    "        s2 = AudioSegment.from_file(j, format=\"wav\")\n",
    "        \n",
    "        if ic%2 == 0:\n",
    "            dominant = s1+20\n",
    "            bleed = s2-5\n",
    "            vocal_flag = True\n",
    "        else:\n",
    "            dominant = s2+20\n",
    "            bleed = s1-2\n",
    "            vocal_flag = False\n",
    "            \n",
    "        out = dominant.overlay(bleed, position=0)\n",
    "        if vocal_flag:\n",
    "            out.export(save_path+vdname+bbname, format=\"wav\")\n",
    "        else:\n",
    "            out.export(save_path+bdname+vbname, format=\"wav\")\n",
    "            \n",
    "    ic+=1\n"
   ]
  },
  {
   "cell_type": "markdown",
   "id": "b05e2d7c",
   "metadata": {},
   "source": [
    "### Saving it into .npy file as train & test"
   ]
  },
  {
   "cell_type": "code",
   "execution_count": 85,
   "id": "1940e066",
   "metadata": {},
   "outputs": [],
   "source": [
    "import re"
   ]
  },
  {
   "cell_type": "code",
   "execution_count": 83,
   "id": "d92e1dfa",
   "metadata": {},
   "outputs": [],
   "source": [
    "files = os.listdir(save_path)"
   ]
  },
  {
   "cell_type": "code",
   "execution_count": 92,
   "id": "4c82ca5e",
   "metadata": {},
   "outputs": [],
   "source": [
    "gt_path = dest_path\n",
    "bleed_path = save_path"
   ]
  },
  {
   "cell_type": "code",
   "execution_count": 94,
   "id": "a53f7c0a",
   "metadata": {},
   "outputs": [
    {
     "name": "stderr",
     "output_type": "stream",
     "text": [
      "100%|█████████████████████████████████████████| 100/100 [01:52<00:00,  1.13s/it]\n"
     ]
    }
   ],
   "source": [
    "train, test, gt_train, gt_test = [], [], [], []\n",
    "\n",
    "count = 1\n",
    "for i in tqdm(files):\n",
    "    name = re.split('(\\d+)', i)\n",
    "    dominant = name[0]+name[1]+name[-1]\n",
    "    #bleed = name[2]+name[3]+name[-1]\n",
    "    #print(i, dominant)\n",
    "    \n",
    "    bleeded = bleed_path+i\n",
    "    gt = gt_path + dominant\n",
    "    \n",
    "    b, fs = lb.load(bleeded)\n",
    "    g, fs = lb.load(gt)\n",
    "    \n",
    "    stft_b = lb.stft(b)\n",
    "    stft_g = lb.stft(g)\n",
    "    \n",
    "    if count<=80:\n",
    "        train.append(stft_b)\n",
    "        gt_train.append(stft_g)\n",
    "    else:\n",
    "        test.append(stft_b)\n",
    "        gt_test.append(stft_g)\n",
    "        \n",
    "    count+=1"
   ]
  },
  {
   "cell_type": "code",
   "execution_count": 95,
   "id": "c828725b",
   "metadata": {},
   "outputs": [],
   "source": [
    "train = np.array(train)\n",
    "gt_train = np.array(gt_train)\n",
    "test = np.array(test)\n",
    "gt_test = np.array(gt_test)"
   ]
  },
  {
   "cell_type": "code",
   "execution_count": 96,
   "id": "78beebdf",
   "metadata": {},
   "outputs": [
    {
     "data": {
      "text/plain": [
       "((80, 1025, 5168), (80, 1025, 5168), (20, 1025, 5168), (20, 1025, 5168))"
      ]
     },
     "execution_count": 96,
     "metadata": {},
     "output_type": "execute_result"
    }
   ],
   "source": [
    "train.shape, gt_train.shape, test.shape, gt_test.shape"
   ]
  },
  {
   "cell_type": "code",
   "execution_count": 98,
   "id": "44bcd851",
   "metadata": {},
   "outputs": [],
   "source": [
    "outpath = '/home/rajesh/Desktop/Datasets/revised_musdbbleed/'\n",
    "np.save(outpath+'train.npy', train)\n",
    "np.save(outpath+'gt_train.npy', gt_train)\n",
    "np.save(outpath+'test.npy', test)\n",
    "np.save(outpath+'gt_test.npy', gt_test)"
   ]
  },
  {
   "cell_type": "code",
   "execution_count": null,
   "id": "72ff169f",
   "metadata": {},
   "outputs": [],
   "source": []
  },
  {
   "cell_type": "code",
   "execution_count": null,
   "id": "6471bcb6",
   "metadata": {},
   "outputs": [],
   "source": []
  },
  {
   "cell_type": "code",
   "execution_count": null,
   "id": "974205c4",
   "metadata": {},
   "outputs": [],
   "source": []
  },
  {
   "cell_type": "code",
   "execution_count": null,
   "id": "3dcd352d",
   "metadata": {},
   "outputs": [],
   "source": []
  },
  {
   "cell_type": "code",
   "execution_count": null,
   "id": "1207bee2",
   "metadata": {},
   "outputs": [],
   "source": []
  }
 ],
 "metadata": {
  "kernelspec": {
   "display_name": "Python 3 (ipykernel)",
   "language": "python",
   "name": "python3"
  },
  "language_info": {
   "codemirror_mode": {
    "name": "ipython",
    "version": 3
   },
   "file_extension": ".py",
   "mimetype": "text/x-python",
   "name": "python",
   "nbconvert_exporter": "python",
   "pygments_lexer": "ipython3",
   "version": "3.10.6"
  }
 },
 "nbformat": 4,
 "nbformat_minor": 5
}
