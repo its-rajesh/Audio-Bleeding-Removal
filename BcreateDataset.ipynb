{
  "nbformat": 4,
  "nbformat_minor": 0,
  "metadata": {
    "colab": {
      "provenance": [],
      "authorship_tag": "ABX9TyOlHEeTjyu+sI3at3k/iQaS",
      "include_colab_link": true
    },
    "kernelspec": {
      "name": "python3",
      "display_name": "Python 3"
    },
    "language_info": {
      "name": "python"
    }
  },
  "cells": [
    {
      "cell_type": "markdown",
      "metadata": {
        "id": "view-in-github",
        "colab_type": "text"
      },
      "source": [
        "<a href=\"https://colab.research.google.com/github/its-rajesh/Audio-Bleeding-Removal/blob/main/BcreateDataset.ipynb\" target=\"_parent\"><img src=\"https://colab.research.google.com/assets/colab-badge.svg\" alt=\"Open In Colab\"/></a>"
      ]
    },
    {
      "cell_type": "code",
      "execution_count": null,
      "metadata": {
        "id": "w2bdiibcDIGF"
      },
      "outputs": [],
      "source": [
        "import soundfile as sf\n",
        "import librosa as lb\n",
        "import numpy as np\n",
        "from matplotlib import pyplot as plt\n",
        "import os\n",
        "import pandas as pd\n",
        "import re\n",
        "import cmath"
      ]
    },
    {
      "cell_type": "code",
      "source": [
        "import shutil"
      ],
      "metadata": {
        "id": "88wyBFXHf2nT"
      },
      "execution_count": null,
      "outputs": []
    },
    {
      "cell_type": "code",
      "source": [
        "from pydub import AudioSegment"
      ],
      "metadata": {
        "id": "kGV0VNPjDNt1"
      },
      "execution_count": null,
      "outputs": []
    },
    {
      "cell_type": "code",
      "source": [
        "from google.colab import drive\n",
        "drive.mount('/drive', force_remount=True)"
      ],
      "metadata": {
        "colab": {
          "base_uri": "https://localhost:8080/"
        },
        "id": "b2VAL6IJDkij",
        "outputId": "286e885a-0831-4dfc-bb4e-08f83eb21f04"
      },
      "execution_count": null,
      "outputs": [
        {
          "output_type": "stream",
          "name": "stdout",
          "text": [
            "Mounted at /drive\n"
          ]
        }
      ]
    },
    {
      "cell_type": "code",
      "source": [
        "path = '/drive/My Drive/Projects/Bleeding-Removal/musdb18/train/'\n",
        "files_path = [path+i+'/' for i in os.listdir(path) if i!= '.DS_Store']"
      ],
      "metadata": {
        "id": "jkFjVtdEDSB6"
      },
      "execution_count": null,
      "outputs": []
    },
    {
      "cell_type": "code",
      "source": [
        "out_path = '/drive/My Drive/Projects/Bleeding-Removal/Dataset/musdb18bleeded/'\n",
        "dest_path = '/drive/My Drive/Projects/Bleeding-Removal/Dataset/GroundTruth/'"
      ],
      "metadata": {
        "id": "fHfLZg6HD5Sj"
      },
      "execution_count": null,
      "outputs": []
    },
    {
      "cell_type": "code",
      "source": [
        "vocals, bass = [], []\n",
        "c = 1\n",
        "for k in range(len(files_path)):\n",
        "    for i in os.listdir(files_path[k]):\n",
        "        name = i.split('.')\n",
        "        if name[0] == 'vocals':\n",
        "            v = AudioSegment.from_file(files_path[k]+i, format=\"wav\")\n",
        "            vocals.append(v)\n",
        "            shutil.copy(files_path[k]+i, dest_path+'vocal'+str(c)+'.wav')\n",
        "        if name[0] == 'bass':\n",
        "            b = AudioSegment.from_file(files_path[k]+i, format=\"wav\")\n",
        "            bass.append(b)\n",
        "            shutil.copy(files_path[k]+i, dest_path+'bass'+str(c)+'.wav')\n",
        "        c += 1"
      ],
      "metadata": {
        "id": "1zLxHrxhD7Zc"
      },
      "execution_count": null,
      "outputs": []
    },
    {
      "cell_type": "code",
      "source": [
        "len(vocals), len(bass)"
      ],
      "metadata": {
        "colab": {
          "base_uri": "https://localhost:8080/"
        },
        "id": "stfuYtKWETaX",
        "outputId": "bc1b44b8-3da1-45ad-829b-75d50aa8fff2"
      },
      "execution_count": null,
      "outputs": [
        {
          "output_type": "execute_result",
          "data": {
            "text/plain": [
              "(100, 100)"
            ]
          },
          "metadata": {},
          "execution_count": 11
        }
      ]
    },
    {
      "cell_type": "code",
      "source": [
        "k = 1\n",
        "for i in range(0, 50): # first 50 files in vocals\n",
        "    n = np.random.randint(0, 90)\n",
        "    print('Taking bass from {} to {}'.format(n, n+10))\n",
        "    for j in range(n, n+10): #random 10 files in bass. \n",
        "        s1 = vocals[i] + 10\n",
        "        s2 = bass[j] - 10\n",
        "        out = s1.overlay(s2, position=0)\n",
        "        out.export(out_path+\"vocal{}bass{}.wav\".format(i+1, j+1), format=\"wav\")\n",
        "        k+=1\n",
        "    print('{} files created.'.format(k-1))"
      ],
      "metadata": {
        "colab": {
          "base_uri": "https://localhost:8080/"
        },
        "id": "3tKsziripXLc",
        "outputId": "1d061500-1758-4303-f7c1-d28e473e0684"
      },
      "execution_count": null,
      "outputs": [
        {
          "output_type": "stream",
          "name": "stdout",
          "text": [
            "Taking bass from 3 to 13\n",
            "99 files created.\n",
            "Taking bass from 79 to 89\n",
            "99 files created.\n",
            "Taking bass from 72 to 82\n",
            "99 files created.\n",
            "Taking bass from 54 to 64\n",
            "99 files created.\n",
            "Taking bass from 3 to 13\n",
            "99 files created.\n",
            "Taking bass from 72 to 82\n",
            "99 files created.\n",
            "Taking bass from 86 to 96\n",
            "99 files created.\n",
            "Taking bass from 24 to 34\n",
            "99 files created.\n",
            "Taking bass from 10 to 20\n",
            "99 files created.\n",
            "Taking bass from 55 to 65\n",
            "99 files created.\n",
            "Taking bass from 58 to 68\n",
            "99 files created.\n",
            "Taking bass from 42 to 52\n",
            "99 files created.\n",
            "Taking bass from 9 to 19\n",
            "99 files created.\n",
            "Taking bass from 57 to 67\n",
            "99 files created.\n",
            "Taking bass from 65 to 75\n",
            "99 files created.\n",
            "Taking bass from 27 to 37\n",
            "99 files created.\n",
            "Taking bass from 61 to 71\n",
            "99 files created.\n",
            "Taking bass from 19 to 29\n",
            "99 files created.\n",
            "Taking bass from 62 to 72\n",
            "99 files created.\n",
            "Taking bass from 49 to 59\n",
            "99 files created.\n",
            "Taking bass from 19 to 29\n",
            "99 files created.\n",
            "Taking bass from 65 to 75\n",
            "99 files created.\n",
            "Taking bass from 67 to 77\n",
            "99 files created.\n",
            "Taking bass from 53 to 63\n",
            "99 files created.\n",
            "Taking bass from 25 to 35\n",
            "99 files created.\n",
            "Taking bass from 54 to 64\n",
            "99 files created.\n",
            "Taking bass from 81 to 91\n",
            "99 files created.\n",
            "Taking bass from 37 to 47\n",
            "99 files created.\n",
            "Taking bass from 17 to 27\n",
            "99 files created.\n",
            "Taking bass from 47 to 57\n",
            "99 files created.\n",
            "Taking bass from 80 to 90\n",
            "99 files created.\n",
            "Taking bass from 85 to 95\n",
            "99 files created.\n",
            "Taking bass from 51 to 61\n",
            "99 files created.\n",
            "Taking bass from 70 to 80\n",
            "99 files created.\n",
            "Taking bass from 59 to 69\n",
            "99 files created.\n",
            "Taking bass from 6 to 16\n",
            "99 files created.\n",
            "Taking bass from 28 to 38\n",
            "99 files created.\n",
            "Taking bass from 66 to 76\n",
            "99 files created.\n",
            "Taking bass from 40 to 50\n",
            "99 files created.\n",
            "Taking bass from 0 to 10\n",
            "99 files created.\n",
            "Taking bass from 77 to 87\n",
            "99 files created.\n",
            "Taking bass from 85 to 95\n",
            "99 files created.\n",
            "Taking bass from 17 to 27\n",
            "99 files created.\n",
            "Taking bass from 73 to 83\n",
            "99 files created.\n",
            "Taking bass from 15 to 25\n",
            "99 files created.\n",
            "Taking bass from 74 to 84\n",
            "99 files created.\n",
            "Taking bass from 80 to 90\n",
            "99 files created.\n",
            "Taking bass from 59 to 69\n",
            "99 files created.\n",
            "Taking bass from 79 to 89\n",
            "99 files created.\n",
            "Taking bass from 87 to 97\n",
            "99 files created.\n"
          ]
        }
      ]
    },
    {
      "cell_type": "code",
      "source": [
        "k = 1\n",
        "for i in range(0, 50): # first 50 files in bass\n",
        "    n = np.random.randint(0, 90)\n",
        "    print('Taking vocal from {} to {}'.format(n, n+10))\n",
        "    for j in range(n, n+10): #random 10 files in vocal. \n",
        "        s1 = bass[i] + 10\n",
        "        s2 = vocals[j] - 10\n",
        "        out = s1.overlay(s2, position=0)\n",
        "        out.export(out_path+\"bass{}vocal{}.wav\".format(i+1, j+1), format=\"wav\")\n",
        "        k+= 1\n",
        "\n",
        "    print('{} files created.'.format(k-1))"
      ],
      "metadata": {
        "colab": {
          "base_uri": "https://localhost:8080/"
        },
        "id": "892T6-r2EW1z",
        "outputId": "13eca9e8-20de-4ab3-9ab5-63a629890e34"
      },
      "execution_count": null,
      "outputs": [
        {
          "output_type": "stream",
          "name": "stdout",
          "text": [
            "Taking vocal from 24 to 34\n",
            "11 files created.\n",
            "Taking vocal from 18 to 28\n",
            "21 files created.\n",
            "Taking vocal from 68 to 78\n",
            "31 files created.\n",
            "Taking vocal from 6 to 16\n",
            "41 files created.\n",
            "Taking vocal from 11 to 21\n",
            "51 files created.\n",
            "Taking vocal from 58 to 68\n",
            "61 files created.\n",
            "Taking vocal from 20 to 30\n",
            "71 files created.\n",
            "Taking vocal from 53 to 63\n",
            "81 files created.\n",
            "Taking vocal from 5 to 15\n",
            "91 files created.\n",
            "Taking vocal from 89 to 99\n",
            "101 files created.\n",
            "Taking vocal from 43 to 53\n",
            "111 files created.\n",
            "Taking vocal from 56 to 66\n",
            "121 files created.\n",
            "Taking vocal from 64 to 74\n",
            "131 files created.\n",
            "Taking vocal from 51 to 61\n",
            "141 files created.\n",
            "Taking vocal from 25 to 35\n",
            "151 files created.\n",
            "Taking vocal from 56 to 66\n",
            "161 files created.\n",
            "Taking vocal from 40 to 50\n",
            "171 files created.\n",
            "Taking vocal from 87 to 97\n",
            "181 files created.\n",
            "Taking vocal from 77 to 87\n",
            "191 files created.\n",
            "Taking vocal from 60 to 70\n",
            "201 files created.\n",
            "Taking vocal from 8 to 18\n",
            "211 files created.\n",
            "Taking vocal from 42 to 52\n",
            "221 files created.\n",
            "Taking vocal from 26 to 36\n",
            "231 files created.\n",
            "Taking vocal from 48 to 58\n",
            "241 files created.\n",
            "Taking vocal from 82 to 92\n",
            "251 files created.\n",
            "Taking vocal from 57 to 67\n",
            "261 files created.\n",
            "Taking vocal from 41 to 51\n",
            "271 files created.\n",
            "Taking vocal from 24 to 34\n",
            "281 files created.\n",
            "Taking vocal from 76 to 86\n",
            "291 files created.\n",
            "Taking vocal from 71 to 81\n",
            "301 files created.\n",
            "Taking vocal from 48 to 58\n",
            "311 files created.\n",
            "Taking vocal from 41 to 51\n",
            "321 files created.\n",
            "Taking vocal from 37 to 47\n",
            "331 files created.\n",
            "Taking vocal from 37 to 47\n",
            "341 files created.\n",
            "Taking vocal from 32 to 42\n",
            "351 files created.\n",
            "Taking vocal from 11 to 21\n",
            "361 files created.\n",
            "Taking vocal from 18 to 28\n",
            "371 files created.\n",
            "Taking vocal from 70 to 80\n",
            "381 files created.\n",
            "Taking vocal from 29 to 39\n",
            "391 files created.\n",
            "Taking vocal from 56 to 66\n",
            "401 files created.\n",
            "Taking vocal from 31 to 41\n",
            "411 files created.\n",
            "Taking vocal from 17 to 27\n",
            "421 files created.\n",
            "Taking vocal from 57 to 67\n",
            "431 files created.\n",
            "Taking vocal from 87 to 97\n",
            "441 files created.\n",
            "Taking vocal from 78 to 88\n",
            "451 files created.\n",
            "Taking vocal from 41 to 51\n",
            "461 files created.\n",
            "Taking vocal from 82 to 92\n",
            "471 files created.\n",
            "Taking vocal from 89 to 99\n",
            "481 files created.\n",
            "Taking vocal from 10 to 20\n",
            "491 files created.\n",
            "Taking vocal from 42 to 52\n",
            "501 files created.\n"
          ]
        }
      ]
    },
    {
      "cell_type": "code",
      "source": [
        "files_path[0], files_path[2], files_path[6], files_path[23]"
      ],
      "metadata": {
        "id": "nuiBi3RoEWgk",
        "colab": {
          "base_uri": "https://localhost:8080/"
        },
        "outputId": "c1aba4ce-9c49-420f-c0a9-2dfc7c53e718"
      },
      "execution_count": 19,
      "outputs": [
        {
          "output_type": "execute_result",
          "data": {
            "text/plain": [
              "('/drive/My Drive/Projects/Bleeding-Removal/musdb18/train/The Districts - Vermont/',\n",
              " \"/drive/My Drive/Projects/Bleeding-Removal/musdb18/train/Phre The Eon - Everybody's Falling Apart/\",\n",
              " '/drive/My Drive/Projects/Bleeding-Removal/musdb18/train/Johnny Lokke - Promises & Lies/',\n",
              " '/drive/My Drive/Projects/Bleeding-Removal/musdb18/train/Dark Ride - Burning Bridges/')"
            ]
          },
          "metadata": {},
          "execution_count": 19
        }
      ]
    },
    {
      "cell_type": "code",
      "source": [],
      "metadata": {
        "id": "XZvNsV3DHZEQ"
      },
      "execution_count": null,
      "outputs": []
    }
  ]
}