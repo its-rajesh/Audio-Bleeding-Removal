{
  "nbformat": 4,
  "nbformat_minor": 0,
  "metadata": {
    "colab": {
      "provenance": [],
      "authorship_tag": "ABX9TyMnBRHW/vLATunD8USDMv9J",
      "include_colab_link": true
    },
    "kernelspec": {
      "name": "python3",
      "display_name": "Python 3"
    },
    "language_info": {
      "name": "python"
    }
  },
  "cells": [
    {
      "cell_type": "markdown",
      "metadata": {
        "id": "view-in-github",
        "colab_type": "text"
      },
      "source": [
        "<a href=\"https://colab.research.google.com/github/its-rajesh/Audio-Bleeding-Removal/blob/main/BcreateDatasetV2.ipynb\" target=\"_parent\"><img src=\"https://colab.research.google.com/assets/colab-badge.svg\" alt=\"Open In Colab\"/></a>"
      ]
    },
    {
      "cell_type": "markdown",
      "source": [
        "# Creating Artifical Bleeding from MUSDB18 dataset"
      ],
      "metadata": {
        "id": "QWpYcVSWeJD-"
      }
    },
    {
      "cell_type": "markdown",
      "source": [
        "### Imports"
      ],
      "metadata": {
        "id": "g2oa_LTcPqwO"
      }
    },
    {
      "cell_type": "code",
      "execution_count": 1,
      "metadata": {
        "id": "w2bdiibcDIGF"
      },
      "outputs": [],
      "source": [
        "import soundfile as sf\n",
        "import librosa as lb\n",
        "import numpy as np\n",
        "from matplotlib import pyplot as plt\n",
        "import os\n",
        "import pandas as pd\n",
        "import re\n",
        "import cmath"
      ]
    },
    {
      "cell_type": "code",
      "source": [
        "import shutil"
      ],
      "metadata": {
        "id": "88wyBFXHf2nT"
      },
      "execution_count": 2,
      "outputs": []
    },
    {
      "cell_type": "code",
      "source": [
        "from pydub import AudioSegment"
      ],
      "metadata": {
        "id": "kGV0VNPjDNt1"
      },
      "execution_count": 5,
      "outputs": []
    },
    {
      "cell_type": "code",
      "source": [
        "from google.colab import drive\n",
        "drive.mount('/drive', force_remount=True)"
      ],
      "metadata": {
        "colab": {
          "base_uri": "https://localhost:8080/"
        },
        "id": "b2VAL6IJDkij",
        "outputId": "e5494ede-dfec-4580-ef86-5a341ad7455e"
      },
      "execution_count": 6,
      "outputs": [
        {
          "output_type": "stream",
          "name": "stdout",
          "text": [
            "Mounted at /drive\n"
          ]
        }
      ]
    },
    {
      "cell_type": "markdown",
      "source": [
        "### Define Paths"
      ],
      "metadata": {
        "id": "Jf3odIVKPu-a"
      }
    },
    {
      "cell_type": "code",
      "source": [
        "path = '/drive/My Drive/Projects/Bleeding-Removal/musdb18/train/'\n",
        "files_path = [path+i+'/' for i in os.listdir(path) if i!= '.DS_Store']"
      ],
      "metadata": {
        "id": "jkFjVtdEDSB6"
      },
      "execution_count": 7,
      "outputs": []
    },
    {
      "cell_type": "code",
      "source": [
        "train_path = '/drive/My Drive/Projects/Bleeding-Removal/MusdbV2/train/'\n",
        "groundtruth_train_path = '/drive/My Drive/Projects/Bleeding-Removal/MusdbV2/groundtruth_train/'\n",
        "test_path = '/drive/My Drive/Projects/Bleeding-Removal/MusdbV2/test/'\n",
        "groundtruth_test_path = '/drive/My Drive/Projects/Bleeding-Removal/MusdbV2/groundtruth_test/'"
      ],
      "metadata": {
        "id": "fHfLZg6HD5Sj"
      },
      "execution_count": 9,
      "outputs": []
    },
    {
      "cell_type": "markdown",
      "source": [
        "### Reading Vocals and Bass"
      ],
      "metadata": {
        "id": "w0k2mrKaeAko"
      }
    },
    {
      "cell_type": "code",
      "source": [
        "vocals, bass = [], []\n",
        "vocals_path = []\n",
        "bass_path = []\n",
        "c = 0\n",
        "for k in range(len(files_path)):\n",
        "  for i in os.listdir(files_path[k]):\n",
        "    c += 1\n",
        "    name = i.split('.')\n",
        "    if name[0] == 'vocals':\n",
        "        v = AudioSegment.from_file(files_path[k]+i, format=\"wav\")\n",
        "        vocals.append(v)\n",
        "        vocals_path.append(files_path[k]+i)\n",
        "    if name[0] == 'bass':\n",
        "        b = AudioSegment.from_file(files_path[k]+i, format=\"wav\")\n",
        "        bass.append(b)\n",
        "        bass_path.append(files_path[k]+i)"
      ],
      "metadata": {
        "id": "1zLxHrxhD7Zc"
      },
      "execution_count": 13,
      "outputs": []
    },
    {
      "cell_type": "code",
      "source": [
        "len(vocals), len(bass), len(vocals_path), len(bass_path)"
      ],
      "metadata": {
        "colab": {
          "base_uri": "https://localhost:8080/"
        },
        "id": "stfuYtKWETaX",
        "outputId": "ffacad32-22fb-4d82-9e7d-7e651019ea11"
      },
      "execution_count": 16,
      "outputs": [
        {
          "output_type": "execute_result",
          "data": {
            "text/plain": [
              "(100, 100, 100, 100)"
            ]
          },
          "metadata": {},
          "execution_count": 16
        }
      ]
    },
    {
      "cell_type": "markdown",
      "source": [
        "### Creating Dataset"
      ],
      "metadata": {
        "id": "vZPUPGkYeE6D"
      }
    },
    {
      "cell_type": "code",
      "source": [
        "k = 1\n",
        "for i in range(0, 100): # all 100 files in vocals\n",
        "    n = np.random.randint(0, 90)\n",
        "    print('Taking bass from {} to {}'.format(n, n+10))\n",
        "    for j in range(n, n+10): #random 10 files in bass. \n",
        "        s1 = vocals[i] + 10\n",
        "        s2 = bass[j] - 10\n",
        "        out = s1.overlay(s2, position=0)\n",
        "        if k<= 750:\n",
        "          out.export(train_path+\"vocal{}bass{}.wav\".format(i+1, j+1), format=\"wav\")\n",
        "          shutil.copy(vocals_path[i], groundtruth_train_path+'vocal'+str(i+1)+'.wav')\n",
        "        else:\n",
        "          out.export(test_path+\"vocal{}bass{}.wav\".format(i+1, j+1), format=\"wav\")\n",
        "          shutil.copy(vocals_path[i], groundtruth_test_path+'vocal'+str(i+1)+'.wav')\n",
        "        k+=1\n",
        "    print('{} files created.'.format(k-1))"
      ],
      "metadata": {
        "colab": {
          "base_uri": "https://localhost:8080/"
        },
        "id": "3tKsziripXLc",
        "outputId": "0b0b1c44-ef3b-4856-cfc9-e9a2dd308c25"
      },
      "execution_count": 17,
      "outputs": [
        {
          "output_type": "stream",
          "name": "stdout",
          "text": [
            "Taking bass from 56 to 66\n",
            "10 files created.\n",
            "Taking bass from 84 to 94\n",
            "20 files created.\n",
            "Taking bass from 13 to 23\n",
            "30 files created.\n",
            "Taking bass from 4 to 14\n",
            "40 files created.\n",
            "Taking bass from 7 to 17\n",
            "50 files created.\n",
            "Taking bass from 37 to 47\n",
            "60 files created.\n",
            "Taking bass from 35 to 45\n",
            "70 files created.\n",
            "Taking bass from 52 to 62\n",
            "80 files created.\n",
            "Taking bass from 79 to 89\n",
            "90 files created.\n",
            "Taking bass from 65 to 75\n",
            "100 files created.\n",
            "Taking bass from 4 to 14\n",
            "110 files created.\n",
            "Taking bass from 71 to 81\n",
            "120 files created.\n",
            "Taking bass from 79 to 89\n",
            "130 files created.\n",
            "Taking bass from 35 to 45\n",
            "140 files created.\n",
            "Taking bass from 52 to 62\n",
            "150 files created.\n",
            "Taking bass from 8 to 18\n",
            "160 files created.\n",
            "Taking bass from 22 to 32\n",
            "170 files created.\n",
            "Taking bass from 57 to 67\n",
            "180 files created.\n",
            "Taking bass from 68 to 78\n",
            "190 files created.\n",
            "Taking bass from 44 to 54\n",
            "200 files created.\n",
            "Taking bass from 18 to 28\n",
            "210 files created.\n",
            "Taking bass from 70 to 80\n",
            "220 files created.\n",
            "Taking bass from 42 to 52\n",
            "230 files created.\n",
            "Taking bass from 42 to 52\n",
            "240 files created.\n",
            "Taking bass from 24 to 34\n",
            "250 files created.\n",
            "Taking bass from 34 to 44\n",
            "260 files created.\n",
            "Taking bass from 2 to 12\n",
            "270 files created.\n",
            "Taking bass from 47 to 57\n",
            "280 files created.\n",
            "Taking bass from 16 to 26\n",
            "290 files created.\n",
            "Taking bass from 7 to 17\n",
            "300 files created.\n",
            "Taking bass from 88 to 98\n",
            "310 files created.\n",
            "Taking bass from 33 to 43\n",
            "320 files created.\n",
            "Taking bass from 45 to 55\n",
            "330 files created.\n",
            "Taking bass from 51 to 61\n",
            "340 files created.\n",
            "Taking bass from 22 to 32\n",
            "350 files created.\n",
            "Taking bass from 21 to 31\n",
            "360 files created.\n",
            "Taking bass from 9 to 19\n",
            "370 files created.\n",
            "Taking bass from 37 to 47\n",
            "380 files created.\n",
            "Taking bass from 67 to 77\n",
            "390 files created.\n",
            "Taking bass from 11 to 21\n",
            "400 files created.\n",
            "Taking bass from 63 to 73\n",
            "410 files created.\n",
            "Taking bass from 6 to 16\n",
            "420 files created.\n",
            "Taking bass from 2 to 12\n",
            "430 files created.\n",
            "Taking bass from 75 to 85\n",
            "440 files created.\n",
            "Taking bass from 28 to 38\n",
            "450 files created.\n",
            "Taking bass from 58 to 68\n",
            "460 files created.\n",
            "Taking bass from 58 to 68\n",
            "470 files created.\n",
            "Taking bass from 71 to 81\n",
            "480 files created.\n",
            "Taking bass from 72 to 82\n",
            "490 files created.\n",
            "Taking bass from 75 to 85\n",
            "500 files created.\n",
            "Taking bass from 0 to 10\n",
            "510 files created.\n",
            "Taking bass from 6 to 16\n",
            "520 files created.\n",
            "Taking bass from 66 to 76\n",
            "530 files created.\n",
            "Taking bass from 43 to 53\n",
            "540 files created.\n",
            "Taking bass from 2 to 12\n",
            "550 files created.\n",
            "Taking bass from 18 to 28\n",
            "560 files created.\n",
            "Taking bass from 16 to 26\n",
            "570 files created.\n",
            "Taking bass from 15 to 25\n",
            "580 files created.\n",
            "Taking bass from 55 to 65\n",
            "590 files created.\n",
            "Taking bass from 15 to 25\n",
            "600 files created.\n",
            "Taking bass from 15 to 25\n",
            "610 files created.\n",
            "Taking bass from 35 to 45\n",
            "620 files created.\n",
            "Taking bass from 81 to 91\n",
            "630 files created.\n",
            "Taking bass from 23 to 33\n",
            "640 files created.\n",
            "Taking bass from 20 to 30\n",
            "650 files created.\n",
            "Taking bass from 5 to 15\n",
            "660 files created.\n",
            "Taking bass from 72 to 82\n",
            "670 files created.\n",
            "Taking bass from 48 to 58\n",
            "680 files created.\n",
            "Taking bass from 35 to 45\n",
            "690 files created.\n",
            "Taking bass from 16 to 26\n",
            "700 files created.\n",
            "Taking bass from 74 to 84\n",
            "710 files created.\n",
            "Taking bass from 22 to 32\n",
            "720 files created.\n",
            "Taking bass from 9 to 19\n",
            "730 files created.\n",
            "Taking bass from 10 to 20\n",
            "740 files created.\n",
            "Taking bass from 44 to 54\n",
            "750 files created.\n",
            "Taking bass from 19 to 29\n",
            "760 files created.\n",
            "Taking bass from 27 to 37\n",
            "770 files created.\n",
            "Taking bass from 82 to 92\n",
            "780 files created.\n",
            "Taking bass from 87 to 97\n",
            "790 files created.\n",
            "Taking bass from 69 to 79\n",
            "800 files created.\n",
            "Taking bass from 28 to 38\n",
            "810 files created.\n",
            "Taking bass from 70 to 80\n",
            "820 files created.\n",
            "Taking bass from 59 to 69\n",
            "830 files created.\n",
            "Taking bass from 14 to 24\n",
            "840 files created.\n",
            "Taking bass from 23 to 33\n",
            "850 files created.\n",
            "Taking bass from 8 to 18\n",
            "860 files created.\n",
            "Taking bass from 70 to 80\n",
            "870 files created.\n",
            "Taking bass from 25 to 35\n",
            "880 files created.\n",
            "Taking bass from 27 to 37\n",
            "890 files created.\n",
            "Taking bass from 4 to 14\n",
            "900 files created.\n",
            "Taking bass from 33 to 43\n",
            "910 files created.\n",
            "Taking bass from 24 to 34\n",
            "920 files created.\n",
            "Taking bass from 54 to 64\n",
            "930 files created.\n",
            "Taking bass from 40 to 50\n",
            "940 files created.\n",
            "Taking bass from 13 to 23\n",
            "950 files created.\n",
            "Taking bass from 26 to 36\n",
            "960 files created.\n",
            "Taking bass from 78 to 88\n",
            "970 files created.\n",
            "Taking bass from 68 to 78\n",
            "980 files created.\n",
            "Taking bass from 41 to 51\n",
            "990 files created.\n",
            "Taking bass from 56 to 66\n",
            "1000 files created.\n"
          ]
        }
      ]
    },
    {
      "cell_type": "code",
      "source": [
        "k = 1\n",
        "for i in range(0, 100): # first 100 files in bass\n",
        "    n = np.random.randint(0, 90)\n",
        "    print('Taking vocal from {} to {}'.format(n, n+10))\n",
        "    for j in range(n, n+10): #random 10 files in vocal. \n",
        "        s1 = bass[i] + 10\n",
        "        s2 = vocals[j] - 10\n",
        "        out = s1.overlay(s2, position=0)\n",
        "        if k<= 750:\n",
        "          out.export(train_path+\"bass{}vocal{}.wav\".format(i+1, j+1), format=\"wav\")\n",
        "          shutil.copy(bass_path[i], groundtruth_train_path+'bass'+str(i+1)+'.wav')\n",
        "        else:\n",
        "          out.export(test_path+\"bass{}vocal{}.wav\".format(i+1, j+1), format=\"wav\")\n",
        "          shutil.copy(bass_path[i], groundtruth_test_path+'bass'+str(i+1)+'.wav')\n",
        "        k+= 1\n",
        "\n",
        "    print('{} files created.'.format(k-1))"
      ],
      "metadata": {
        "colab": {
          "base_uri": "https://localhost:8080/"
        },
        "id": "892T6-r2EW1z",
        "outputId": "56c15993-f088-4fb3-9de7-43f3a943bfff"
      },
      "execution_count": 18,
      "outputs": [
        {
          "output_type": "stream",
          "name": "stdout",
          "text": [
            "Taking vocal from 80 to 90\n",
            "10 files created.\n",
            "Taking vocal from 41 to 51\n",
            "20 files created.\n",
            "Taking vocal from 55 to 65\n",
            "30 files created.\n",
            "Taking vocal from 63 to 73\n",
            "40 files created.\n",
            "Taking vocal from 78 to 88\n",
            "50 files created.\n",
            "Taking vocal from 24 to 34\n",
            "60 files created.\n",
            "Taking vocal from 29 to 39\n",
            "70 files created.\n",
            "Taking vocal from 61 to 71\n",
            "80 files created.\n",
            "Taking vocal from 72 to 82\n",
            "90 files created.\n",
            "Taking vocal from 55 to 65\n",
            "100 files created.\n",
            "Taking vocal from 2 to 12\n",
            "110 files created.\n",
            "Taking vocal from 87 to 97\n",
            "120 files created.\n",
            "Taking vocal from 15 to 25\n",
            "130 files created.\n",
            "Taking vocal from 11 to 21\n",
            "140 files created.\n",
            "Taking vocal from 56 to 66\n",
            "150 files created.\n",
            "Taking vocal from 15 to 25\n",
            "160 files created.\n",
            "Taking vocal from 40 to 50\n",
            "170 files created.\n",
            "Taking vocal from 69 to 79\n",
            "180 files created.\n",
            "Taking vocal from 78 to 88\n",
            "190 files created.\n",
            "Taking vocal from 1 to 11\n",
            "200 files created.\n",
            "Taking vocal from 50 to 60\n",
            "210 files created.\n",
            "Taking vocal from 62 to 72\n",
            "220 files created.\n",
            "Taking vocal from 17 to 27\n",
            "230 files created.\n",
            "Taking vocal from 70 to 80\n",
            "240 files created.\n",
            "Taking vocal from 44 to 54\n",
            "250 files created.\n",
            "Taking vocal from 84 to 94\n",
            "260 files created.\n",
            "Taking vocal from 30 to 40\n",
            "270 files created.\n",
            "Taking vocal from 1 to 11\n",
            "280 files created.\n",
            "Taking vocal from 71 to 81\n",
            "290 files created.\n",
            "Taking vocal from 80 to 90\n",
            "300 files created.\n",
            "Taking vocal from 62 to 72\n",
            "310 files created.\n",
            "Taking vocal from 41 to 51\n",
            "320 files created.\n",
            "Taking vocal from 16 to 26\n",
            "330 files created.\n",
            "Taking vocal from 23 to 33\n",
            "340 files created.\n",
            "Taking vocal from 78 to 88\n",
            "350 files created.\n",
            "Taking vocal from 26 to 36\n",
            "360 files created.\n",
            "Taking vocal from 1 to 11\n",
            "370 files created.\n",
            "Taking vocal from 71 to 81\n",
            "380 files created.\n",
            "Taking vocal from 82 to 92\n",
            "390 files created.\n",
            "Taking vocal from 67 to 77\n",
            "400 files created.\n",
            "Taking vocal from 31 to 41\n",
            "410 files created.\n",
            "Taking vocal from 81 to 91\n",
            "420 files created.\n",
            "Taking vocal from 43 to 53\n",
            "430 files created.\n",
            "Taking vocal from 51 to 61\n",
            "440 files created.\n",
            "Taking vocal from 3 to 13\n",
            "450 files created.\n",
            "Taking vocal from 78 to 88\n",
            "460 files created.\n",
            "Taking vocal from 59 to 69\n",
            "470 files created.\n",
            "Taking vocal from 48 to 58\n",
            "480 files created.\n",
            "Taking vocal from 30 to 40\n",
            "490 files created.\n",
            "Taking vocal from 34 to 44\n",
            "500 files created.\n",
            "Taking vocal from 18 to 28\n",
            "510 files created.\n",
            "Taking vocal from 84 to 94\n",
            "520 files created.\n",
            "Taking vocal from 79 to 89\n",
            "530 files created.\n",
            "Taking vocal from 42 to 52\n",
            "540 files created.\n",
            "Taking vocal from 22 to 32\n",
            "550 files created.\n",
            "Taking vocal from 12 to 22\n",
            "560 files created.\n",
            "Taking vocal from 47 to 57\n",
            "570 files created.\n",
            "Taking vocal from 43 to 53\n",
            "580 files created.\n",
            "Taking vocal from 83 to 93\n",
            "590 files created.\n",
            "Taking vocal from 87 to 97\n",
            "600 files created.\n",
            "Taking vocal from 66 to 76\n",
            "610 files created.\n",
            "Taking vocal from 88 to 98\n",
            "620 files created.\n",
            "Taking vocal from 23 to 33\n",
            "630 files created.\n",
            "Taking vocal from 42 to 52\n",
            "640 files created.\n",
            "Taking vocal from 51 to 61\n",
            "650 files created.\n",
            "Taking vocal from 11 to 21\n",
            "660 files created.\n",
            "Taking vocal from 59 to 69\n",
            "670 files created.\n",
            "Taking vocal from 85 to 95\n",
            "680 files created.\n",
            "Taking vocal from 19 to 29\n",
            "690 files created.\n",
            "Taking vocal from 78 to 88\n",
            "700 files created.\n",
            "Taking vocal from 17 to 27\n",
            "710 files created.\n",
            "Taking vocal from 53 to 63\n",
            "720 files created.\n",
            "Taking vocal from 80 to 90\n",
            "730 files created.\n",
            "Taking vocal from 77 to 87\n",
            "740 files created.\n",
            "Taking vocal from 40 to 50\n",
            "750 files created.\n",
            "Taking vocal from 7 to 17\n",
            "760 files created.\n",
            "Taking vocal from 11 to 21\n",
            "770 files created.\n",
            "Taking vocal from 50 to 60\n",
            "780 files created.\n",
            "Taking vocal from 73 to 83\n",
            "790 files created.\n",
            "Taking vocal from 30 to 40\n",
            "800 files created.\n",
            "Taking vocal from 81 to 91\n",
            "810 files created.\n",
            "Taking vocal from 8 to 18\n",
            "820 files created.\n",
            "Taking vocal from 68 to 78\n",
            "830 files created.\n",
            "Taking vocal from 55 to 65\n",
            "840 files created.\n",
            "Taking vocal from 36 to 46\n",
            "850 files created.\n",
            "Taking vocal from 11 to 21\n",
            "860 files created.\n",
            "Taking vocal from 67 to 77\n",
            "870 files created.\n",
            "Taking vocal from 14 to 24\n",
            "880 files created.\n",
            "Taking vocal from 46 to 56\n",
            "890 files created.\n",
            "Taking vocal from 45 to 55\n",
            "900 files created.\n",
            "Taking vocal from 62 to 72\n",
            "910 files created.\n",
            "Taking vocal from 50 to 60\n",
            "920 files created.\n",
            "Taking vocal from 66 to 76\n",
            "930 files created.\n",
            "Taking vocal from 46 to 56\n",
            "940 files created.\n",
            "Taking vocal from 25 to 35\n",
            "950 files created.\n",
            "Taking vocal from 5 to 15\n",
            "960 files created.\n",
            "Taking vocal from 70 to 80\n",
            "970 files created.\n",
            "Taking vocal from 68 to 78\n",
            "980 files created.\n",
            "Taking vocal from 76 to 86\n",
            "990 files created.\n",
            "Taking vocal from 33 to 43\n",
            "1000 files created.\n"
          ]
        }
      ]
    },
    {
      "cell_type": "code",
      "source": [],
      "metadata": {
        "id": "XZvNsV3DHZEQ"
      },
      "execution_count": null,
      "outputs": []
    }
  ]
}