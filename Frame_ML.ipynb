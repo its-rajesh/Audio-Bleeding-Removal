{
 "cells": [
  {
   "cell_type": "markdown",
   "id": "25cda7d6",
   "metadata": {},
   "source": [
    "# Min Norm Solution for Bleed Removal"
   ]
  },
  {
   "cell_type": "code",
   "execution_count": 1,
   "id": "d0b3434e",
   "metadata": {},
   "outputs": [],
   "source": [
    "import numpy as np\n",
    "import numpy.linalg as linalg"
   ]
  },
  {
   "cell_type": "code",
   "execution_count": 17,
   "id": "feb64998",
   "metadata": {},
   "outputs": [],
   "source": [
    "import os\n",
    "import librosa as lb\n",
    "import soundfile as sf\n",
    "import museval\n",
    "from matplotlib import pyplot as plt"
   ]
  },
  {
   "cell_type": "markdown",
   "id": "65579de9",
   "metadata": {
    "tags": []
   },
   "source": [
    "#### Loading Bleed Sources"
   ]
  },
  {
   "cell_type": "code",
   "execution_count": 49,
   "id": "b2c201bd",
   "metadata": {},
   "outputs": [],
   "source": [
    "#Music Delta - Hendrix/\n",
    "#Hollow Ground - Left Blind"
   ]
  },
  {
   "cell_type": "code",
   "execution_count": 4,
   "id": "74d288da",
   "metadata": {},
   "outputs": [],
   "source": [
    "#os.listdir('/home/rajesh/Desktop/Datasets/musdb18hq_bleeded/train/')"
   ]
  },
  {
   "cell_type": "code",
   "execution_count": 107,
   "id": "fa86ec83",
   "metadata": {},
   "outputs": [],
   "source": [
    "bleed_path = '/home/rajesh/Desktop/MoreBleed/Music Delta - Hendrix/'\n",
    "bvocals, fs = lb.load(bleed_path+'vocals.wav')\n",
    "bbass, fs = lb.load(bleed_path+'bass.wav')\n",
    "bdrums, fs = lb.load(bleed_path+'drums.wav')\n",
    "bother, fs = lb.load(bleed_path+'other.wav')"
   ]
  },
  {
   "cell_type": "markdown",
   "id": "eb51b254",
   "metadata": {
    "tags": []
   },
   "source": [
    "#### Loading True Sources"
   ]
  },
  {
   "cell_type": "code",
   "execution_count": 108,
   "id": "fb896ce2",
   "metadata": {},
   "outputs": [],
   "source": [
    "clean_path = '/home/rajesh/Desktop/Datasets/musdb18hq/train/Music Delta - Hendrix/'\n",
    "vocals, fs = lb.load(clean_path+'vocals.wav')\n",
    "bass, fs = lb.load(clean_path+'bass.wav')\n",
    "drums, fs = lb.load(clean_path+'drums.wav')\n",
    "other, fs = lb.load(clean_path+'other.wav')"
   ]
  },
  {
   "cell_type": "code",
   "execution_count": 109,
   "id": "330dc419",
   "metadata": {},
   "outputs": [],
   "source": [
    "if len(bbass) > len(bass):\n",
    "    n = len(bass)\n",
    "else:\n",
    "    n = len(bbass)"
   ]
  },
  {
   "cell_type": "code",
   "execution_count": 110,
   "id": "ec96668c",
   "metadata": {},
   "outputs": [
    {
     "data": {
      "text/plain": [
       "(4, 437559)"
      ]
     },
     "execution_count": 110,
     "metadata": {},
     "output_type": "execute_result"
    }
   ],
   "source": [
    "R = np.array([bvocals[:n], bbass[:n], bdrums[:n], bother[:n]]) #two min\n",
    "R.shape"
   ]
  },
  {
   "cell_type": "code",
   "execution_count": 111,
   "id": "a5824dbd",
   "metadata": {},
   "outputs": [
    {
     "data": {
      "text/plain": [
       "(4, 437559)"
      ]
     },
     "execution_count": 111,
     "metadata": {},
     "output_type": "execute_result"
    }
   ],
   "source": [
    "S = np.array([vocals[:n], bass[:n], drums[:n], other[:n]])\n",
    "S.shape"
   ]
  },
  {
   "cell_type": "markdown",
   "id": "6d6690a6",
   "metadata": {
    "jp-MarkdownHeadingCollapsed": true,
    "tags": []
   },
   "source": [
    "#### Min Norm Solution"
   ]
  },
  {
   "cell_type": "code",
   "execution_count": 112,
   "id": "348c8837",
   "metadata": {},
   "outputs": [],
   "source": [
    "def leastnormsoln(r, s):\n",
    "    b = np.array([r-s]).T\n",
    "    A = np.array([[s[1], s[2], s[3], 0, 0 ,0, 0, 0, 0, 0, 0, 0], \n",
    "                  [0, 0, 0, s[0], s[2], s[3], 0, 0, 0, 0, 0, 0], \n",
    "                  [0, 0, 0, 0, 0, 0, s[0], s[1], s[3], 0, 0, 0],\n",
    "                  [0, 0, 0, 0, 0, 0, 0, 0, 0, s[0], s[1], s[2]]])\n",
    "    soln, residual, rank, singular = linalg.lstsq(A, b, rcond=-1)\n",
    "    return np.array([[1, soln[0][0], soln[1][0], soln[2][0]],\n",
    "                     [soln[3][0], 1, soln[4][0], soln[5][0]],\n",
    "                     [soln[6][0], soln[7][0], 1, soln[8][0]],\n",
    "                     [soln[9][0], soln[10][0], soln[11][0], 1]])"
   ]
  },
  {
   "cell_type": "code",
   "execution_count": 113,
   "id": "a3928588",
   "metadata": {},
   "outputs": [],
   "source": [
    "lmda = []\n",
    "for i in range(R.shape[1]):\n",
    "    r = R[:, i]\n",
    "    s = S[:, i]\n",
    "    lmda.append(leastnormsoln(r, s))"
   ]
  },
  {
   "cell_type": "code",
   "execution_count": 114,
   "id": "56a19920",
   "metadata": {},
   "outputs": [
    {
     "data": {
      "text/plain": [
       "array([[ 1.        ,  0.11436704, -0.08459189,  0.03726413],\n",
       "       [-0.14808077,  1.        ,  0.72059239, -0.31743287],\n",
       "       [ 0.1454642 ,  0.95701619,  1.        ,  0.31182387],\n",
       "       [ 0.00147583,  0.00970953, -0.00718168,  1.        ]])"
      ]
     },
     "execution_count": 114,
     "metadata": {},
     "output_type": "execute_result"
    }
   ],
   "source": [
    "lmda[0]"
   ]
  },
  {
   "cell_type": "code",
   "execution_count": 120,
   "id": "1a076f0d",
   "metadata": {},
   "outputs": [
    {
     "data": {
      "text/plain": [
       "(330750, 3087000)"
      ]
     },
     "execution_count": 120,
     "metadata": {},
     "output_type": "execute_result"
    }
   ],
   "source": [
    "15*22050, 140*22050"
   ]
  },
  {
   "cell_type": "code",
   "execution_count": 121,
   "id": "a66ed683",
   "metadata": {},
   "outputs": [
    {
     "data": {
      "text/plain": [
       "array([[1.        , 0.59512247, 0.35804433, 0.34035071],\n",
       "       [0.45519196, 1.        , 0.42535759, 0.4162051 ],\n",
       "       [0.4007661 , 0.58128202, 1.        , 0.31275027],\n",
       "       [0.3909633 , 0.56812139, 0.34010266, 1.        ]])"
      ]
     },
     "execution_count": 121,
     "metadata": {},
     "output_type": "execute_result"
    }
   ],
   "source": [
    "avg = np.average(lmda[0:330750], axis=0)\n",
    "avg"
   ]
  },
  {
   "cell_type": "markdown",
   "id": "d29d4af7",
   "metadata": {
    "jp-MarkdownHeadingCollapsed": true,
    "tags": []
   },
   "source": [
    "#### Getting Back Sources (Lambda Inverse)"
   ]
  },
  {
   "cell_type": "code",
   "execution_count": 115,
   "id": "02cf2c05",
   "metadata": {},
   "outputs": [],
   "source": [
    "def predict(r, l):\n",
    "    lambda_inv = linalg.inv(l)\n",
    "    soln = np.dot(lambda_inv,r)\n",
    "    return soln"
   ]
  },
  {
   "cell_type": "code",
   "execution_count": 122,
   "id": "2aceeff4",
   "metadata": {},
   "outputs": [],
   "source": [
    "coln_soln = []\n",
    "for i in range(R.shape[1]):\n",
    "    r = R[:, i]\n",
    "    l = avg #lmda[i]\n",
    "    coln_soln.append(predict(r, l))"
   ]
  },
  {
   "cell_type": "code",
   "execution_count": 123,
   "id": "9a5305e2",
   "metadata": {},
   "outputs": [],
   "source": [
    "unbleeded = np.array(coln_soln).T"
   ]
  },
  {
   "cell_type": "code",
   "execution_count": 124,
   "id": "95ac8205",
   "metadata": {},
   "outputs": [],
   "source": [
    "unbleed_vocal = unbleeded[0]\n",
    "unbleed_bass = unbleeded[1]\n",
    "unbleed_drum = unbleeded[2]\n",
    "unbleed_other = unbleeded[3]"
   ]
  },
  {
   "cell_type": "code",
   "execution_count": 125,
   "id": "5b20696e",
   "metadata": {},
   "outputs": [],
   "source": [
    "sf.write('/home/rajesh/Desktop/cleaned_vocal.wav', unbleed_vocal, fs)\n",
    "sf.write('/home/rajesh/Desktop/cleaned_bass.wav', unbleed_bass, fs)\n",
    "sf.write('/home/rajesh/Desktop/cleaned_drum.wav', unbleed_drum, fs)\n",
    "sf.write('/home/rajesh/Desktop/cleaned_other.wav', unbleed_other, fs)"
   ]
  },
  {
   "cell_type": "code",
   "execution_count": 44,
   "id": "65d62684",
   "metadata": {},
   "outputs": [],
   "source": [
    "def get_metrics(y):\n",
    "    avg_y = []\n",
    "    for i in range(len(y)):\n",
    "        x = y[~np.isnan(y)]\n",
    "        avg = sum(x)/len(x)\n",
    "        avg_y.append(avg)\n",
    "    return avg_y"
   ]
  },
  {
   "cell_type": "code",
   "execution_count": 45,
   "id": "50a13ae8",
   "metadata": {},
   "outputs": [],
   "source": [
    "def compute_sdr(true, reconstructed, fs):\n",
    "    t = np.array([true])\n",
    "    r = np.array([reconstructed])\n",
    "\n",
    "    sdr, isr, sir, sar = museval.evaluate(t, r, win=fs, hop=fs)\n",
    "        \n",
    "    avg_sdr = get_metrics(sdr)\n",
    "    avg_isr = get_metrics(isr) #Source to Spatial Distortion Image\n",
    "    avg_sir = get_metrics(sir)\n",
    "    avg_sar = get_metrics(sar)\n",
    "\n",
    "    return sum(avg_sdr)/len(avg_sdr)"
   ]
  },
  {
   "cell_type": "code",
   "execution_count": 46,
   "id": "39c8c408",
   "metadata": {},
   "outputs": [
    {
     "data": {
      "text/plain": [
       "(437559, 437559)"
      ]
     },
     "execution_count": 46,
     "metadata": {},
     "output_type": "execute_result"
    }
   ],
   "source": [
    "len(vocals), len(unbleed_vocal)"
   ]
  },
  {
   "cell_type": "code",
   "execution_count": 47,
   "id": "b7329bde",
   "metadata": {},
   "outputs": [
    {
     "data": {
      "text/plain": [
       "(17.620198619704446,\n",
       " 16.342885021458613,\n",
       " 18.64509684017519,\n",
       " 21.27312815229399,\n",
       " 14.219684464889994)"
      ]
     },
     "execution_count": 47,
     "metadata": {},
     "output_type": "execute_result"
    }
   ],
   "source": [
    "v_sdr = compute_sdr(vocals[:437559], unbleed_vocal, fs)\n",
    "b_sdr = compute_sdr(bass[:437559], unbleed_bass, fs)\n",
    "d_sdr = compute_sdr(drums[:437559], unbleed_drum, fs)\n",
    "o_sdr = compute_sdr(other[:437559], unbleed_other, fs)\n",
    "\n",
    "sdr = (v_sdr + b_sdr + d_sdr + o_sdr)/4\n",
    "sdr, v_sdr, b_sdr, d_sdr, o_sdr"
   ]
  },
  {
   "cell_type": "code",
   "execution_count": null,
   "id": "c50091a5",
   "metadata": {},
   "outputs": [],
   "source": []
  },
  {
   "cell_type": "code",
   "execution_count": null,
   "id": "0e04d2b8",
   "metadata": {},
   "outputs": [],
   "source": []
  },
  {
   "cell_type": "markdown",
   "id": "405512c8",
   "metadata": {},
   "source": [
    "#### Time domain plots"
   ]
  },
  {
   "cell_type": "code",
   "execution_count": 126,
   "id": "10a706e3",
   "metadata": {},
   "outputs": [],
   "source": [
    "def norm(A):\n",
    "    forb = linalg.norm(A, ord='fro')\n",
    "    l1 = linalg.norm(A, ord=1)\n",
    "    l2 = linalg.norm(A, ord=2)\n",
    "    return l1, l2, forb"
   ]
  },
  {
   "cell_type": "code",
   "execution_count": 127,
   "id": "7f9d7b74",
   "metadata": {},
   "outputs": [],
   "source": [
    "l1, l2, forb = [], [], []\n",
    "for i in lmda:\n",
    "    l_1, l_2, forbn = norm(i)\n",
    "    l1.append(l_1)\n",
    "    l2.append(l_2)\n",
    "    forb.append(forbn)"
   ]
  },
  {
   "cell_type": "code",
   "execution_count": 128,
   "id": "e4355884",
   "metadata": {},
   "outputs": [],
   "source": [
    "x = np.arange(len(l1))/fs"
   ]
  },
  {
   "cell_type": "code",
   "execution_count": 129,
   "id": "1afdac03",
   "metadata": {
    "scrolled": true
   },
   "outputs": [
    {
     "data": {
      "image/png": "[encoded data removed]",
      "text/plain": [
       "<Figure size 432x288 with 1 Axes>"
      ]
     },
     "metadata": {
      "needs_background": "light"
     },
     "output_type": "display_data"
    }
   ],
   "source": [
    "plt.plot(x, l1)\n",
    "plt.title('l1 norm')\n",
    "plt.xlabel('seconds')\n",
    "plt.ylabel('norm')\n",
    "plt.savefig('/home/rajesh/Desktop/l1.png', dpi = 1000)\n",
    "plt.show()"
   ]
  },
  {
   "cell_type": "code",
   "execution_count": 130,
   "id": "87a9384f",
   "metadata": {},
   "outputs": [
    {
     "data": {
      "image/png": "[encoded data removed]",
      "text/plain": [
       "<Figure size 432x288 with 1 Axes>"
      ]
     },
     "metadata": {
      "needs_background": "light"
     },
     "output_type": "display_data"
    }
   ],
   "source": [
    "plt.plot(x, forb)\n",
    "plt.title('forb norm')\n",
    "plt.xlabel('seconds')\n",
    "plt.ylabel('norm')\n",
    "plt.savefig('/home/rajesh/Desktop/forb.png', dpi = 1000)\n",
    "plt.show()"
   ]
  },
  {
   "cell_type": "code",
   "execution_count": null,
   "id": "5d52914f",
   "metadata": {},
   "outputs": [],
   "source": []
  },
  {
   "cell_type": "markdown",
   "id": "868ef03b-80a3-40b3-98b3-9cd447c6f429",
   "metadata": {
    "tags": []
   },
   "source": [
    "#### Difference Histograms"
   ]
  },
  {
   "cell_type": "code",
   "execution_count": 37,
   "id": "afd973ef-e44d-4f0b-a76a-d324f5f06ad6",
   "metadata": {},
   "outputs": [],
   "source": [
    "import itertools\n",
    "from matplotlib import pyplot as plt"
   ]
  },
  {
   "cell_type": "code",
   "execution_count": 63,
   "id": "d4c0ae80",
   "metadata": {},
   "outputs": [],
   "source": [
    "def norm(A):\n",
    "    forb = linalg.norm(A, ord='fro')\n",
    "    l1 = linalg.norm(A, ord=1)\n",
    "    l2 = linalg.norm(A, ord=2)\n",
    "    return l1, l2, forb"
   ]
  },
  {
   "cell_type": "code",
   "execution_count": 42,
   "id": "5934386f",
   "metadata": {},
   "outputs": [],
   "source": [
    "lamda_comb = list(itertools.combinations(lmda[:1000], 2))"
   ]
  },
  {
   "cell_type": "code",
   "execution_count": 43,
   "id": "faf6e3b3",
   "metadata": {},
   "outputs": [],
   "source": [
    "diff = []\n",
    "for everyblock in lamda_comb:\n",
    "    diff.append(everyblock[0]-everyblock[1])"
   ]
  },
  {
   "cell_type": "code",
   "execution_count": 44,
   "id": "af5a3636",
   "metadata": {},
   "outputs": [],
   "source": [
    "l1, l2, forb = [], [], []\n",
    "for i in range(len(diff)):\n",
    "    l_1, l_2, forbn = norm(diff[i])\n",
    "    l1.append(l_1)\n",
    "    l2.append(l_2)\n",
    "    forb.append(forbn)"
   ]
  },
  {
   "cell_type": "code",
   "execution_count": 45,
   "id": "e214fa35",
   "metadata": {},
   "outputs": [
    {
     "data": {
      "image/png": "[encoded data removed]",
      "text/plain": [
       "<Figure size 432x288 with 1 Axes>"
      ]
     },
     "metadata": {
      "needs_background": "light"
     },
     "output_type": "display_data"
    }
   ],
   "source": [
    "plt.hist(l1)\n",
    "plt.title('L1 norm')\n",
    "plt.xlabel('Norm')\n",
    "plt.ylabel('Frequency')\n",
    "plt.show()"
   ]
  },
  {
   "cell_type": "code",
   "execution_count": 46,
   "id": "fc3b518b-87f1-4483-89ea-f27e133bfc11",
   "metadata": {},
   "outputs": [
    {
     "data": {
      "image/png": "[encoded data removed]",
      "text/plain": [
       "<Figure size 432x288 with 1 Axes>"
      ]
     },
     "metadata": {
      "needs_background": "light"
     },
     "output_type": "display_data"
    }
   ],
   "source": [
    "plt.hist(l2)\n",
    "plt.title('L2 norm')\n",
    "plt.xlabel('Norm')\n",
    "plt.ylabel('Frequency')\n",
    "plt.show()"
   ]
  },
  {
   "cell_type": "code",
   "execution_count": 47,
   "id": "ddac6e11-101d-44c4-9c65-ac0b1d1af9f2",
   "metadata": {},
   "outputs": [
    {
     "data": {
      "image/png": "[encoded data removed]",
      "text/plain": [
       "<Figure size 432x288 with 1 Axes>"
      ]
     },
     "metadata": {
      "needs_background": "light"
     },
     "output_type": "display_data"
    }
   ],
   "source": [
    "plt.hist(forb)\n",
    "plt.title('Forb norm')\n",
    "plt.xlabel('Norm')\n",
    "plt.ylabel('Frequency')\n",
    "plt.show()"
   ]
  },
  {
   "cell_type": "code",
   "execution_count": null,
   "id": "38dc4492-c165-4e56-9a36-59348c094e93",
   "metadata": {},
   "outputs": [],
   "source": []
  },
  {
   "cell_type": "code",
   "execution_count": null,
   "id": "21da8003",
   "metadata": {},
   "outputs": [],
   "source": []
  },
  {
   "cell_type": "code",
   "execution_count": null,
   "id": "a5bac6ed",
   "metadata": {},
   "outputs": [],
   "source": []
  },
  {
   "cell_type": "code",
   "execution_count": null,
   "id": "4d17e6bd",
   "metadata": {},
   "outputs": [],
   "source": []
  },
  {
   "cell_type": "code",
   "execution_count": null,
   "id": "eb0b2ae5",
   "metadata": {},
   "outputs": [],
   "source": []
  },
  {
   "cell_type": "code",
   "execution_count": null,
   "id": "d6277c4c",
   "metadata": {},
   "outputs": [],
   "source": []
  },
  {
   "cell_type": "code",
   "execution_count": null,
   "id": "b4d93fc2",
   "metadata": {},
   "outputs": [],
   "source": []
  },
  {
   "cell_type": "markdown",
   "id": "be0b2111",
   "metadata": {},
   "source": [
    "### Add more bleed"
   ]
  },
  {
   "cell_type": "code",
   "execution_count": 102,
   "id": "1fa4f9ff",
   "metadata": {},
   "outputs": [],
   "source": [
    "bleed_path = '/home/rajesh/Desktop/Datasets/musdb18hq_bleeded/train/Music Delta - Hendrix/'"
   ]
  },
  {
   "cell_type": "code",
   "execution_count": 103,
   "id": "ec4b40d8",
   "metadata": {},
   "outputs": [],
   "source": [
    "from pydub import AudioSegment"
   ]
  },
  {
   "cell_type": "code",
   "execution_count": 104,
   "id": "1a62480f",
   "metadata": {},
   "outputs": [],
   "source": [
    "factor = 0 #Volume reduction in dB"
   ]
  },
  {
   "cell_type": "code",
   "execution_count": 105,
   "id": "95395ab6",
   "metadata": {},
   "outputs": [],
   "source": [
    "def overlay_files(f1, f2, f3, f4):\n",
    "    y1 = f1.overlay(f2)\n",
    "    y2 = y1.overlay(f3)\n",
    "    y3 = y2.overlay(f4)\n",
    "    return y3"
   ]
  },
  {
   "cell_type": "code",
   "execution_count": 106,
   "id": "78df2139",
   "metadata": {},
   "outputs": [
    {
     "data": {
      "text/plain": [
       "<_io.BufferedRandom name='/home/rajesh/Desktop//other.wav'>"
      ]
     },
     "execution_count": 106,
     "metadata": {},
     "output_type": "execute_result"
    }
   ],
   "source": [
    "folder = bleed_path\n",
    "vocals = AudioSegment.from_file(os.path.join(folder, \"vocals.wav\"), \"wav\")\n",
    "drums = AudioSegment.from_file(os.path.join(folder, \"drums.wav\"), \"wav\")\n",
    "bass = AudioSegment.from_file(os.path.join(folder, \"bass.wav\"), \"wav\")\n",
    "other = AudioSegment.from_file(os.path.join(folder, \"other.wav\"), \"wav\")\n",
    "\n",
    "vocals_mmm = vocals-factor\n",
    "drums_mmm = drums-factor\n",
    "bass_mmm = bass-factor\n",
    "other_mmm = other-factor\n",
    "\n",
    "vocals_bleeded = overlay_files(vocals, drums_mmm, bass_mmm, other_mmm)\n",
    "drums_bleeded = overlay_files(drums, vocals_mmm, bass_mmm, other_mmm)\n",
    "bass_bleeded = overlay_files(bass, drums_mmm, vocals_mmm, other_mmm)\n",
    "other_bleeded = overlay_files(other, drums_mmm, bass_mmm, vocals_mmm)\n",
    "\n",
    "curr_path = \"/home/rajesh/Desktop/\"\n",
    "vocals_bleeded.export(curr_path+\"/vocals.wav\", \"wav\")\n",
    "drums_bleeded.export(curr_path+\"/drums.wav\", \"wav\")\n",
    "bass_bleeded.export(curr_path+\"/bass.wav\", \"wav\")\n",
    "other_bleeded.export(curr_path+\"/other.wav\", \"wav\")"
   ]
  },
  {
   "cell_type": "code",
   "execution_count": null,
   "id": "e6a22261",
   "metadata": {},
   "outputs": [],
   "source": []
  },
  {
   "cell_type": "code",
   "execution_count": null,
   "id": "164acd2d",
   "metadata": {},
   "outputs": [],
   "source": []
  },
  {
   "cell_type": "code",
   "execution_count": null,
   "id": "bd81ff58",
   "metadata": {},
   "outputs": [],
   "source": []
  },
  {
   "cell_type": "code",
   "execution_count": null,
   "id": "c8be14a0",
   "metadata": {},
   "outputs": [],
   "source": []
  },
  {
   "cell_type": "code",
   "execution_count": null,
   "id": "a8ce5a61",
   "metadata": {},
   "outputs": [],
   "source": []
  },
  {
   "cell_type": "code",
   "execution_count": null,
   "id": "785e2d7f",
   "metadata": {},
   "outputs": [],
   "source": []
  },
  {
   "cell_type": "code",
   "execution_count": null,
   "id": "66a9fa1b",
   "metadata": {},
   "outputs": [],
   "source": [
    "\n"
   ]
  },
  {
   "cell_type": "code",
   "execution_count": null,
   "id": "40abc98a",
   "metadata": {},
   "outputs": [],
   "source": []
  },
  {
   "cell_type": "code",
   "execution_count": null,
   "id": "5c6a0dd0",
   "metadata": {},
   "outputs": [],
   "source": []
  }
 ],
 "metadata": {
  "kernelspec": {
   "display_name": "Python 3 (ipykernel)",
   "language": "python",
   "name": "python3"
  },
  "language_info": {
   "codemirror_mode": {
    "name": "ipython",
    "version": 3
   },
   "file_extension": ".py",
   "mimetype": "text/x-python",
   "name": "python",
   "nbconvert_exporter": "python",
   "pygments_lexer": "ipython3",
   "version": "3.10.6"
  }
 },
 "nbformat": 4,
 "nbformat_minor": 5
}
