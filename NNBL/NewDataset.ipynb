{
 "cells": [
  {
   "cell_type": "markdown",
   "id": "987a22e4",
   "metadata": {},
   "source": [
    "# Creates Audio and Numpy files of 20 sec each. Removes silence audios"
   ]
  },
  {
   "cell_type": "code",
   "execution_count": 2,
   "id": "28f6c12b",
   "metadata": {},
   "outputs": [],
   "source": [
    "import numpy as np\n",
    "import os\n",
    "import librosa as lb\n",
    "import soundfile as sf\n",
    "import museval\n",
    "from matplotlib import pyplot as plt\n",
    "from tqdm import tqdm\n",
    "import librosa.display"
   ]
  },
  {
   "cell_type": "code",
   "execution_count": 86,
   "id": "e11b56ff",
   "metadata": {},
   "outputs": [],
   "source": [
    "def random_gen():\n",
    "    k = np.round(np.random.uniform(0.05, 0.31), 3)\n",
    "    return k\n",
    "def random_diag():\n",
    "    k = np.round(np.random.uniform(0.6, 1), 3)\n",
    "    return k\n",
    "\n",
    "def gen_A():\n",
    "    A = np.array([[random_diag(), random_gen(), random_gen(), random_gen()],\n",
    "                  [random_gen(), random_diag(), random_gen(), random_gen()],\n",
    "                  [random_gen(), random_gen(), random_diag(), random_gen()],\n",
    "                  [random_gen(), random_gen(), random_gen(), random_diag()]])\n",
    "    return np.round(A, 2)"
   ]
  },
  {
   "cell_type": "code",
   "execution_count": 111,
   "id": "5b2a02e1",
   "metadata": {},
   "outputs": [],
   "source": [
    "def conditions(vx, bx, dx, block):\n",
    "    flag = True\n",
    "    if vx.shape[0] != block:\n",
    "        flag = False\n",
    "    if np.linalg.norm(vx) <= 0.9 or np.linalg.norm(bx) <= 0.9 or np.linalg.norm(dx) <= 0.9:\n",
    "        flag = False\n",
    "    return flag"
   ]
  },
  {
   "cell_type": "code",
   "execution_count": 113,
   "id": "f5df4616",
   "metadata": {},
   "outputs": [],
   "source": [
    "clean_path = \"/home/rajesh/Desktop/Datasets/musdb18hq/train/\"\n",
    "outpath = \"/home/rajesh/Desktop/Datasets/musdb18hq_extensivebleed/\""
   ]
  },
  {
   "cell_type": "code",
   "execution_count": 128,
   "id": "0687de57",
   "metadata": {},
   "outputs": [
    {
     "name": "stderr",
     "output_type": "stream",
     "text": [
      "100%|██████████████████████████████████████████████████████████████| 100/100 [32:20<00:00, 19.41s/it]\n"
     ]
    }
   ],
   "source": [
    "files = sorted(os.listdir(clean_path))\n",
    "\n",
    "for file in tqdm(files):\n",
    "    vocal, fs = lb.load(clean_path+file+\"/vocals.wav\")\n",
    "    bass, fs = lb.load(clean_path+file+\"/bass.wav\")\n",
    "    drums, fs = lb.load(clean_path+file+\"/drums.wav\")\n",
    "    other, fs = lb.load(clean_path+file+\"/other.wav\")\n",
    "    \n",
    "    path = outpath+file\n",
    "    os.makedirs(path, exist_ok=True)\n",
    "    os.makedirs(path+'/Audio', exist_ok=True)\n",
    "    os.makedirs(path+'/Numpy', exist_ok=True)\n",
    "    A = gen_A()\n",
    "    np.save(path+'/mixing.npy', A)\n",
    "    \n",
    "    sec = 10\n",
    "    block = sec*fs\n",
    "    length = vocal.shape[0]\n",
    "    for i in range(0, length, block):\n",
    "        vx = vocal[i:i+block]\n",
    "        bx = bass[i:i+block]\n",
    "        dx = drums[i:i+block]\n",
    "        ox = other[i:i+block]\n",
    "\n",
    "        if conditions(vx, bx, dx, block):\n",
    "\n",
    "            fapath = path+'/Audio/{}_{}/'.format(int(i/fs), int(i/fs)+sec)\n",
    "            fnpath = path+'/Numpy/{}_{}/'.format(int(i/fs), int(i/fs)+sec)\n",
    "            os.makedirs(fapath, exist_ok=True)\n",
    "            os.makedirs(fnpath, exist_ok=True)\n",
    "\n",
    "            np.save(fnpath+'vocal.npy', vx)\n",
    "            np.save(fnpath+'bass.npy', bx)\n",
    "            np.save(fnpath+'drums.npy', dx)\n",
    "            np.save(fnpath+'other.npy', ox)\n",
    "\n",
    "            s = np.array([vx, bx, dx, ox])\n",
    "            x = A @ s\n",
    "\n",
    "            np.save(fnpath+'bvocal.npy', x[0])\n",
    "            np.save(fnpath+'bbass.npy', x[1])\n",
    "            np.save(fnpath+'bdrums.npy', x[2])\n",
    "            np.save(fnpath+'bother.npy', x[3])\n",
    "\n",
    "            sf.write(fapath+'vocal.wav', vx, fs)\n",
    "            sf.write(fapath+'bass.wav', bx, fs)\n",
    "            sf.write(fapath+'drums.wav', dx, fs)\n",
    "            sf.write(fapath+'other.wav', ox, fs)\n",
    "\n",
    "            sf.write(fapath+'bvocal.wav', x[0], fs)\n",
    "            sf.write(fapath+'bbass.wav', x[1], fs)\n",
    "            sf.write(fapath+'bdrums.wav', x[2], fs)\n",
    "            sf.write(fapath+'bother.wav', x[3], fs)"
   ]
  },
  {
   "cell_type": "code",
   "execution_count": null,
   "id": "36d48691",
   "metadata": {},
   "outputs": [],
   "source": []
  },
  {
   "cell_type": "code",
   "execution_count": null,
   "id": "7babcd50",
   "metadata": {},
   "outputs": [],
   "source": []
  },
  {
   "cell_type": "markdown",
   "id": "58e850e9",
   "metadata": {},
   "source": [
    "# Converting all individual numpy arrays to single array for training"
   ]
  },
  {
   "cell_type": "code",
   "execution_count": 1,
   "id": "3f0f1ff5",
   "metadata": {},
   "outputs": [],
   "source": [
    "import numpy as np\n",
    "import os\n",
    "import librosa as lb\n",
    "import soundfile as sf\n",
    "import museval\n",
    "from matplotlib import pyplot as plt\n",
    "from tqdm import tqdm\n",
    "import librosa.display"
   ]
  },
  {
   "cell_type": "code",
   "execution_count": 2,
   "id": "9af01dbb",
   "metadata": {},
   "outputs": [],
   "source": [
    "path = \"/home/rajesh/Desktop/Datasets/musdb18hq_extensivebleed/\""
   ]
  },
  {
   "cell_type": "code",
   "execution_count": 3,
   "id": "a1a26e82",
   "metadata": {},
   "outputs": [],
   "source": [
    "mainfolder = sorted(os.listdir(path))"
   ]
  },
  {
   "cell_type": "code",
   "execution_count": 4,
   "id": "e62d3958",
   "metadata": {},
   "outputs": [
    {
     "name": "stderr",
     "output_type": "stream",
     "text": [
      "100%|████████████████████████████████████████████████████████████████| 10/10 [00:46<00:00,  4.66s/it]\n"
     ]
    }
   ],
   "source": [
    "xtrain, ytrain = [], []\n",
    "for folder in tqdm(mainfolder[90:100]):\n",
    "    dept_path = path+folder+'/Numpy/'\n",
    "    subfolder = sorted(os.listdir(dept_path))\n",
    "    for files in subfolder:\n",
    "        v = np.load(dept_path+files+'/vocal.npy')\n",
    "        b = np.load(dept_path+files+'/bass.npy')\n",
    "        d = np.load(dept_path+files+'/drums.npy')\n",
    "        o = np.load(dept_path+files+'/other.npy')\n",
    "        \n",
    "        bv = np.load(dept_path+files+'/bvocal.npy')\n",
    "        bb = np.load(dept_path+files+'/bbass.npy')\n",
    "        bd = np.load(dept_path+files+'/bdrums.npy')\n",
    "        bo = np.load(dept_path+files+'/bother.npy')\n",
    "        \n",
    "        S = np.array([v, b, d, o])\n",
    "        X = np.array([bv, bb, bd, bo])\n",
    "        xtrain.append(X)\n",
    "        ytrain.append(S)"
   ]
  },
  {
   "cell_type": "code",
   "execution_count": 5,
   "id": "1963afc9",
   "metadata": {},
   "outputs": [],
   "source": [
    "np.save(path+'xtrain_90_100.npy', xtrain)\n",
    "np.save(path+'ytrain_90_100.npy', ytrain)"
   ]
  },
  {
   "cell_type": "code",
   "execution_count": null,
   "id": "7175a8c2",
   "metadata": {},
   "outputs": [],
   "source": []
  },
  {
   "cell_type": "code",
   "execution_count": null,
   "id": "2c2643bb",
   "metadata": {},
   "outputs": [],
   "source": []
  },
  {
   "cell_type": "code",
   "execution_count": null,
   "id": "559284fb",
   "metadata": {},
   "outputs": [],
   "source": []
  },
  {
   "cell_type": "code",
   "execution_count": null,
   "id": "927196a0",
   "metadata": {},
   "outputs": [],
   "source": []
  }
 ],
 "metadata": {
  "kernelspec": {
   "display_name": "Python 3 (ipykernel)",
   "language": "python",
   "name": "python3"
  },
  "language_info": {
   "codemirror_mode": {
    "name": "ipython",
    "version": 3
   },
   "file_extension": ".py",
   "mimetype": "text/x-python",
   "name": "python",
   "nbconvert_exporter": "python",
   "pygments_lexer": "ipython3",
   "version": "3.10.6"
  }
 },
 "nbformat": 4,
 "nbformat_minor": 5
}
