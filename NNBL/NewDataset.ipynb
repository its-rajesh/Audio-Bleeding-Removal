{
 "cells": [
  {
   "cell_type": "code",
   "execution_count": 1,
   "id": "af5dcfcd",
   "metadata": {},
   "outputs": [],
   "source": [
    "import numpy as np\n",
    "import os\n",
    "import librosa as lb\n",
    "import soundfile as sf\n",
    "import museval\n",
    "from matplotlib import pyplot as plt\n",
    "from tqdm import tqdm\n",
    "import librosa.display"
   ]
  },
  {
   "cell_type": "code",
   "execution_count": 86,
   "id": "ddad9f36",
   "metadata": {},
   "outputs": [],
   "source": [
    "def random_gen():\n",
    "    k = np.round(np.random.uniform(0.05, 0.31), 3)\n",
    "    return k\n",
    "def random_diag():\n",
    "    k = np.round(np.random.uniform(0.6, 1), 3)\n",
    "    return k\n",
    "\n",
    "def gen_A():\n",
    "    A = np.array([[random_diag(), random_gen(), random_gen(), random_gen()],\n",
    "                  [random_gen(), random_diag(), random_gen(), random_gen()],\n",
    "                  [random_gen(), random_gen(), random_diag(), random_gen()],\n",
    "                  [random_gen(), random_gen(), random_gen(), random_diag()]])\n",
    "    return np.round(A, 2)"
   ]
  },
  {
   "cell_type": "code",
   "execution_count": 111,
   "id": "d7f90d91",
   "metadata": {},
   "outputs": [],
   "source": [
    "def conditions(vx, bx, dx, block):\n",
    "    flag = True\n",
    "    if vx.shape[0] != block:\n",
    "        flag = False\n",
    "    if np.linalg.norm(vx) <= 0.9 or np.linalg.norm(bx) <= 0.9 or np.linalg.norm(dx) <= 0.9:\n",
    "        flag = False\n",
    "    return flag"
   ]
  },
  {
   "cell_type": "code",
   "execution_count": 113,
   "id": "2e98e0cf",
   "metadata": {},
   "outputs": [],
   "source": [
    "clean_path = \"/home/rajesh/Desktop/Datasets/musdb18hq/train/\"\n",
    "outpath = \"/home/rajesh/Desktop/Datasets/musdb18hq_extensivebleed/\""
   ]
  },
  {
   "cell_type": "code",
   "execution_count": 114,
   "id": "3be702ca",
   "metadata": {},
   "outputs": [
    {
     "name": "stderr",
     "output_type": "stream",
     "text": [
      "100%|██████████████████████████████████████████████████████████████| 100/100 [33:33<00:00, 20.13s/it]\n"
     ]
    }
   ],
   "source": [
    "files = sorted(os.listdir(clean_path))\n",
    "\n",
    "for file in tqdm(files):\n",
    "    vocal, fs = lb.load(clean_path+file+\"/vocals.wav\")\n",
    "    bass, fs = lb.load(clean_path+file+\"/bass.wav\")\n",
    "    drums, fs = lb.load(clean_path+file+\"/drums.wav\")\n",
    "    other, fs = lb.load(clean_path+file+\"/other.wav\")\n",
    "    \n",
    "    path = outpath+file\n",
    "    os.makedirs(path, exist_ok=True)\n",
    "    os.makedirs(path+'/Audio', exist_ok=True)\n",
    "    os.makedirs(path+'/Numpy', exist_ok=True)\n",
    "    A = gen_A()\n",
    "    np.save(path+'/mixing.npy', A)\n",
    "    \n",
    "    sec = 10\n",
    "    block = sec*fs\n",
    "    length = vocal.shape[0]\n",
    "    for i in range(0, length, block):\n",
    "        vx = vocal[i:i+block]\n",
    "        bx = bass[i:i+block]\n",
    "        dx = drums[i:i+block]\n",
    "        ox = other[i:i+block]\n",
    "\n",
    "        if conditions(vx, bx, dx, block):\n",
    "\n",
    "            fapath = path+'/Audio/{}_{}/'.format(int(i/fs), int(i/fs)+sec)\n",
    "            fnpath = path+'/Numpy/{}_{}/'.format(int(i/fs), int(i/fs)+sec)\n",
    "            os.makedirs(fapath, exist_ok=True)\n",
    "            os.makedirs(fnpath, exist_ok=True)\n",
    "\n",
    "            np.save(fnpath+'vocal.npy', vx)\n",
    "            np.save(fnpath+'bass.npy', bx)\n",
    "            np.save(fnpath+'drums.npy', dx)\n",
    "            np.save(fnpath+'other.npy', ox)\n",
    "\n",
    "            s = np.array([vx, bx, dx, ox])\n",
    "            x = A @ s\n",
    "\n",
    "            np.save(fnpath+'bvocal.npy', x[0])\n",
    "            np.save(fnpath+'bbass.npy', x[1])\n",
    "            np.save(fnpath+'bdrums.npy', x[2])\n",
    "            np.save(fnpath+'bdrums.npy', x[3])\n",
    "\n",
    "            sf.write(fapath+'vocal.wav', vx, fs)\n",
    "            sf.write(fapath+'bass.wav', bx, fs)\n",
    "            sf.write(fapath+'drums.wav', dx, fs)\n",
    "            sf.write(fapath+'other.wav', ox, fs)\n",
    "\n",
    "            sf.write(fapath+'bvocal.wav', x[0], fs)\n",
    "            sf.write(fapath+'bbass.wav', x[1], fs)\n",
    "            sf.write(fapath+'bdrums.wav', x[2], fs)\n",
    "            sf.write(fapath+'bother.wav', x[3], fs)"
   ]
  },
  {
   "cell_type": "code",
   "execution_count": null,
   "id": "3c11ca1d",
   "metadata": {},
   "outputs": [],
   "source": []
  },
  {
   "cell_type": "code",
   "execution_count": null,
   "id": "c2c9fc3a",
   "metadata": {},
   "outputs": [],
   "source": []
  },
  {
   "cell_type": "code",
   "execution_count": null,
   "id": "9a18be6a",
   "metadata": {},
   "outputs": [],
   "source": []
  },
  {
   "cell_type": "code",
   "execution_count": null,
   "id": "71dafec4",
   "metadata": {},
   "outputs": [],
   "source": []
  },
  {
   "cell_type": "code",
   "execution_count": null,
   "id": "640ef614",
   "metadata": {},
   "outputs": [],
   "source": []
  },
  {
   "cell_type": "code",
   "execution_count": null,
   "id": "67f9206c",
   "metadata": {},
   "outputs": [],
   "source": []
  },
  {
   "cell_type": "code",
   "execution_count": null,
   "id": "964ca33c",
   "metadata": {},
   "outputs": [],
   "source": []
  },
  {
   "cell_type": "code",
   "execution_count": null,
   "id": "7ac980d1",
   "metadata": {},
   "outputs": [],
   "source": []
  },
  {
   "cell_type": "code",
   "execution_count": null,
   "id": "4b77ce9f",
   "metadata": {},
   "outputs": [],
   "source": []
  },
  {
   "cell_type": "code",
   "execution_count": null,
   "id": "bf8e8e2f",
   "metadata": {},
   "outputs": [],
   "source": []
  },
  {
   "cell_type": "code",
   "execution_count": null,
   "id": "85fb00c0",
   "metadata": {},
   "outputs": [],
   "source": []
  },
  {
   "cell_type": "code",
   "execution_count": null,
   "id": "60e2f956",
   "metadata": {},
   "outputs": [],
   "source": []
  },
  {
   "cell_type": "code",
   "execution_count": null,
   "id": "c49cab9c",
   "metadata": {},
   "outputs": [],
   "source": []
  },
  {
   "cell_type": "code",
   "execution_count": null,
   "id": "bc0aa336",
   "metadata": {},
   "outputs": [],
   "source": []
  }
 ],
 "metadata": {
  "kernelspec": {
   "display_name": "Python 3 (ipykernel)",
   "language": "python",
   "name": "python3"
  },
  "language_info": {
   "codemirror_mode": {
    "name": "ipython",
    "version": 3
   },
   "file_extension": ".py",
   "mimetype": "text/x-python",
   "name": "python",
   "nbconvert_exporter": "python",
   "pygments_lexer": "ipython3",
   "version": "3.10.6"
  }
 },
 "nbformat": 4,
 "nbformat_minor": 5
}
