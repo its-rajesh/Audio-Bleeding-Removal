{
  "nbformat": 4,
  "nbformat_minor": 0,
  "metadata": {
    "colab": {
      "provenance": [],
      "authorship_tag": "ABX9TyOk9iUxHIei8WAdFm8WmaM0",
      "include_colab_link": true
    },
    "kernelspec": {
      "name": "python3",
      "display_name": "Python 3"
    },
    "language_info": {
      "name": "python"
    }
  },
  "cells": [
    {
      "cell_type": "markdown",
      "metadata": {
        "id": "view-in-github",
        "colab_type": "text"
      },
      "source": [
        "<a href=\"https://colab.research.google.com/github/its-rajesh/Audio-Bleeding-Removal/blob/main/CreatingDataSet.ipynb\" target=\"_parent\"><img src=\"https://colab.research.google.com/assets/colab-badge.svg\" alt=\"Open In Colab\"/></a>"
      ]
    },
    {
      "cell_type": "markdown",
      "source": [
        "# **Creating Dataset for Training**"
      ],
      "metadata": {
        "id": "GZAWij4l_TQE"
      }
    },
    {
      "cell_type": "markdown",
      "source": [
        "### Imports"
      ],
      "metadata": {
        "id": "DUFnCi8wFaxz"
      }
    },
    {
      "cell_type": "code",
      "execution_count": 43,
      "metadata": {
        "id": "Fgx6WoTC_GTi"
      },
      "outputs": [],
      "source": [
        "import numpy as np\n",
        "import os\n",
        "from pydub import AudioSegment"
      ]
    },
    {
      "cell_type": "code",
      "source": [
        "from google.colab import drive\n",
        "drive.mount('/drive')"
      ],
      "metadata": {
        "colab": {
          "base_uri": "https://localhost:8080/"
        },
        "id": "wNETSzCs_fBg",
        "outputId": "b3707793-8f16-4884-bb13-19597051e24a"
      },
      "execution_count": 2,
      "outputs": [
        {
          "output_type": "stream",
          "name": "stdout",
          "text": [
            "Mounted at /drive\n"
          ]
        }
      ]
    },
    {
      "cell_type": "markdown",
      "source": [
        "### Reading Files & Grouping by 3 and Limiting to 15 sec"
      ],
      "metadata": {
        "id": "O0hNUqWoFdMC"
      }
    },
    {
      "cell_type": "code",
      "source": [
        "path = \"/drive/My Drive/Projects/Bleeding-Removal/Dataset/instrument_sounds/\"\n",
        "os.listdir(path)"
      ],
      "metadata": {
        "colab": {
          "base_uri": "https://localhost:8080/"
        },
        "id": "516nrkadovd4",
        "outputId": "e05c99a5-0a85-4159-9759-5570891a95d0"
      },
      "execution_count": 60,
      "outputs": [
        {
          "output_type": "execute_result",
          "data": {
            "text/plain": [
              "['flute', 'bass', 'trumpet', 'clarinet', 'violin', 'cello']"
            ]
          },
          "metadata": {},
          "execution_count": 60
        }
      ]
    },
    {
      "cell_type": "code",
      "source": [
        "def groupbythree(path, folder):\n",
        "  files = sorted(os.listdir(path+folder))\n",
        "  k = 1\n",
        "  for i in range(0, len(files), 3):\n",
        "    f1 = AudioSegment.from_file(path+folder+'/'+files[i], format=\"wav\")\n",
        "    f2 = AudioSegment.from_file(path+folder+'/'+files[i+1], format=\"wav\")\n",
        "    f3 = AudioSegment.from_file(path+folder+'/'+files[i+2], format=\"wav\")\n",
        "    y = f1+f2+f3\n",
        "    y[:15000].export(\"/drive/My Drive/Projects/Bleeding-Removal/Dataset/grouped_by_three/\"+folder+\"/\"+str(k)+\".wav\", format=\"wav\")\n",
        "    k += 1"
      ],
      "metadata": {
        "id": "aHU6znj42CzH"
      },
      "execution_count": 79,
      "outputs": []
    },
    {
      "cell_type": "code",
      "source": [
        "folders = os.listdir(path)\n",
        "groupbythree(path, folders[0])\n",
        "groupbythree(path, folders[1])\n",
        "groupbythree(path, folders[2])\n",
        "groupbythree(path, folders[3])\n",
        "groupbythree(path, folders[4])\n",
        "groupbythree(path, folders[5])"
      ],
      "metadata": {
        "id": "VUuiwVrBpBYS"
      },
      "execution_count": 80,
      "outputs": []
    },
    {
      "cell_type": "markdown",
      "source": [
        "### Creating Artificial bledding"
      ],
      "metadata": {
        "id": "3rUllScFFgtI"
      }
    },
    {
      "cell_type": "code",
      "source": [
        "labels = {}\n",
        "k = 1\n",
        "for i in os.listdir(path):\n",
        "  labels[i] = k\n",
        "  k += 1\n",
        "\n",
        "labels"
      ],
      "metadata": {
        "colab": {
          "base_uri": "https://localhost:8080/"
        },
        "id": "iTCwNrZUAihB",
        "outputId": "277d4d15-a995-4a6d-9009-4736a563e523"
      },
      "execution_count": 84,
      "outputs": [
        {
          "output_type": "execute_result",
          "data": {
            "text/plain": [
              "{'flute': 1, 'bass': 2, 'trumpet': 3, 'clarinet': 4, 'violin': 5, 'cello': 6}"
            ]
          },
          "metadata": {},
          "execution_count": 84
        }
      ]
    },
    {
      "cell_type": "code",
      "source": [
        "# Grouped by 3 files\n",
        "audios_path = \"/drive/My Drive/Projects/Bleeding-Removal/Dataset/grouped_by_three/\"\n",
        "folders"
      ],
      "metadata": {
        "colab": {
          "base_uri": "https://localhost:8080/"
        },
        "id": "kp1KW5BZBxfa",
        "outputId": "5fa598ce-bb9b-4880-9160-f8e80aec5561"
      },
      "execution_count": 91,
      "outputs": [
        {
          "output_type": "execute_result",
          "data": {
            "text/plain": [
              "['flute', 'bass', 'trumpet', 'clarinet', 'violin', 'cello']"
            ]
          },
          "metadata": {},
          "execution_count": 91
        }
      ]
    },
    {
      "cell_type": "code",
      "source": [
        "x_path = audios_path+'flute/'\n",
        "y_path = audios_path+'bass/'\n",
        "x_files = os.listdir(x_path)\n",
        "y_files = os.listdir(y_path)\n",
        "\n",
        "masterlabel = []\n",
        "for i in range(20):\n",
        "  r1 = AudioSegment.from_file(x_path+x_files[i], format=\"wav\")\n",
        "  s1 = r1 + 10\n",
        "  for j in range(20):\n",
        "    r2 = AudioSegment.from_file(y_path+y_files[j], format=\"wav\")\n",
        "    s2 = r2 - 10\n",
        "    out = s1.overlay(s2, position=0)\n",
        "    out.export(\"/drive/My Drive/Projects/Bleeding-Removal/Dataset/bleeded/\"+'flute'+str(i+1)+'bass'+str(j+1)+\".wav\", format=\"wav\")\n",
        "    masterlabel.append('flute')"
      ],
      "metadata": {
        "id": "FQHwvwZKEHbc"
      },
      "execution_count": 101,
      "outputs": []
    },
    {
      "cell_type": "code",
      "source": [
        "len(masterlabel)"
      ],
      "metadata": {
        "colab": {
          "base_uri": "https://localhost:8080/"
        },
        "id": "EMvseUzRIYBC",
        "outputId": "543e70a7-6c54-40de-a2ca-753e6b1e51c6"
      },
      "execution_count": 102,
      "outputs": [
        {
          "output_type": "execute_result",
          "data": {
            "text/plain": [
              "400"
            ]
          },
          "metadata": {},
          "execution_count": 102
        }
      ]
    },
    {
      "cell_type": "code",
      "source": [
        "def apply_artificial_bleed(x, y):\n",
        "  x_path = audios_path+x+'/'\n",
        "  y_path = audios_path+y+'/'\n",
        "  x_files = os.listdir(x_path)\n",
        "  y_files = os.listdir(y_path)\n",
        "  for i in range(20):\n",
        "    r1 = AudioSegment.from_file(x_path+x_files[i], format=\"wav\")\n",
        "    s1 = r1 + 10\n",
        "    for j in range(20):\n",
        "      r2 = AudioSegment.from_file(y_path+y_files[j], format=\"wav\")\n",
        "      s2 = r2 - 10\n",
        "      out = s1.overlay(s2, position=0)\n",
        "      out.export(\"/drive/My Drive/Projects/Bleeding-Removal/Dataset/bleeded/\"+x+str(i+1)+y+str(j+1)+\".wav\", format=\"wav\")\n"
      ],
      "metadata": {
        "id": "5icSejwWDYe7"
      },
      "execution_count": 107,
      "outputs": []
    },
    {
      "cell_type": "code",
      "source": [
        "for i in folders:\n",
        "  for j in folders:\n",
        "    if i != j:\n",
        "      apply_artificial_bleed(i, j)"
      ],
      "metadata": {
        "id": "wekfRYe0Cw0i"
      },
      "execution_count": 108,
      "outputs": []
    },
    {
      "cell_type": "code",
      "source": [
        "len(os.listdir('/drive/My Drive/Projects/Bleeding-Removal/Dataset/bleeded/'))"
      ],
      "metadata": {
        "colab": {
          "base_uri": "https://localhost:8080/"
        },
        "id": "RM4367i5AFFa",
        "outputId": "2a310a49-dbbe-4e70-8d91-057cfe807510"
      },
      "execution_count": 109,
      "outputs": [
        {
          "output_type": "execute_result",
          "data": {
            "text/plain": [
              "12000"
            ]
          },
          "metadata": {},
          "execution_count": 109
        }
      ]
    },
    {
      "cell_type": "code",
      "source": [
        "for i in folders:\n",
        "  for j in folders:\n",
        "    if i != j:\n",
        "      #print(i, j)\n",
        "      pass"
      ],
      "metadata": {
        "id": "-u6i_xl_DXGE"
      },
      "execution_count": 113,
      "outputs": []
    },
    {
      "cell_type": "code",
      "source": [
        "30*400"
      ],
      "metadata": {
        "colab": {
          "base_uri": "https://localhost:8080/"
        },
        "id": "TrjODuMHPVbP",
        "outputId": "19c7b16b-3870-4063-8aa9-300373d9ba25"
      },
      "execution_count": 112,
      "outputs": [
        {
          "output_type": "execute_result",
          "data": {
            "text/plain": [
              "12000"
            ]
          },
          "metadata": {},
          "execution_count": 112
        }
      ]
    },
    {
      "cell_type": "markdown",
      "source": [],
      "metadata": {
        "id": "P7iWPyJiQ1OJ"
      }
    },
    {
      "cell_type": "code",
      "source": [],
      "metadata": {
        "id": "7AWQVLKTPcBz"
      },
      "execution_count": null,
      "outputs": []
    }
  ]
}