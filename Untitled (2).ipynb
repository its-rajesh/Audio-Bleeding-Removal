{
 "cells": [
  {
   "cell_type": "code",
   "execution_count": 26,
   "id": "24593528-d479-47b6-ac98-089d96518f59",
   "metadata": {},
   "outputs": [],
   "source": [
    "import soundfile as sf\n",
    "import librosa as lb\n",
    "import numpy as np\n",
    "from matplotlib import pyplot as plt\n",
    "import os\n",
    "import pandas as pd\n",
    "import cmath"
   ]
  },
  {
   "cell_type": "code",
   "execution_count": 2,
   "id": "6c955cd9-fee1-4201-a0bc-233f6a10449e",
   "metadata": {},
   "outputs": [],
   "source": [
    "test = np.load('/Users/rajeshr/Desktop/test.npy')\n",
    "gt_test = np.load('/Users/rajeshr/Desktop/gt_test.npy')\n",
    "predictions = np.load('/Users/rajeshr/Desktop/predictions.npy')"
   ]
  },
  {
   "cell_type": "code",
   "execution_count": 6,
   "id": "3fc1aede-2a61-4b97-942d-a47e9590a3c7",
   "metadata": {},
   "outputs": [
    {
     "data": {
      "text/plain": [
       "((20, 1025, 5168), (20, 1025, 5168), (20, 1025, 5168, 1))"
      ]
     },
     "execution_count": 6,
     "metadata": {},
     "output_type": "execute_result"
    }
   ],
   "source": [
    "test.shape, gt_test.shape, predictions.shape"
   ]
  },
  {
   "cell_type": "code",
   "execution_count": 81,
   "id": "2e27e088-c551-4cc8-93a1-2142779c2817",
   "metadata": {},
   "outputs": [],
   "source": [
    "k = np.squeeze(predictions, axis=3)"
   ]
  },
  {
   "cell_type": "code",
   "execution_count": 82,
   "id": "c8f456d6-67a5-469f-915d-22ffae2f95e2",
   "metadata": {},
   "outputs": [],
   "source": [
    "gt_test_mag = np.abs(gt_test)\n",
    "gt_test_phase = np.angle(gt_test)"
   ]
  },
  {
   "cell_type": "code",
   "execution_count": 84,
   "id": "f2123dcc-e6fa-45f0-90d4-a349872b4daf",
   "metadata": {},
   "outputs": [
    {
     "data": {
      "text/plain": [
       "(20, 1025, 5168)"
      ]
     },
     "execution_count": 84,
     "metadata": {},
     "output_type": "execute_result"
    }
   ],
   "source": [
    "k.shape"
   ]
  },
  {
   "cell_type": "code",
   "execution_count": 92,
   "id": "15f4222d-5d61-4f8e-8d89-612dc00d9d23",
   "metadata": {},
   "outputs": [],
   "source": [
    "def convert_complex(mag, phase):\n",
    "    m, n = mag.shape\n",
    "    complexx = []\n",
    "    for i in range(m):\n",
    "        for j in range(n):\n",
    "            complexx.append(cmath.rect(mag[i][j], phase[i][j]))\n",
    "    return np.array(complexx).reshape(m, n)\n",
    "\n",
    "\n",
    "def calc_istft(mag, phase):\n",
    "    signal = []\n",
    "    for i in range(len(mag)):\n",
    "        D = convert_complex(mag[i], phase[i])\n",
    "        signal.append(lb.istft(D))\n",
    "\n",
    "    return np.array(signal)"
   ]
  },
  {
   "cell_type": "code",
   "execution_count": 93,
   "id": "0481dc24-0ee4-4121-87cf-03ab4b292a28",
   "metadata": {},
   "outputs": [],
   "source": [
    "reconstructed = calc_istft(k, gt_test_phase)"
   ]
  },
  {
   "cell_type": "code",
   "execution_count": 94,
   "id": "e6dfdba1-7e94-46c0-b8ad-63c1c6ae450f",
   "metadata": {},
   "outputs": [],
   "source": [
    "true = calc_istft(gt_test_mag, gt_test_phase)"
   ]
  },
  {
   "cell_type": "code",
   "execution_count": 95,
   "id": "e27b00a7-8d8c-4e92-b6eb-4be798b3ae98",
   "metadata": {},
   "outputs": [
    {
     "data": {
      "text/plain": [
       "((20, 2645504), (20, 2645504))"
      ]
     },
     "execution_count": 95,
     "metadata": {},
     "output_type": "execute_result"
    }
   ],
   "source": [
    "reconstructed.shape, true.shape"
   ]
  },
  {
   "cell_type": "code",
   "execution_count": null,
   "id": "c138c350-79af-4231-aa24-285726d7ac97",
   "metadata": {},
   "outputs": [],
   "source": []
  },
  {
   "cell_type": "code",
   "execution_count": 96,
   "id": "ec019977-16a0-42ea-8ee3-af08453df555",
   "metadata": {},
   "outputs": [
    {
     "data": {
      "text/plain": [
       "(0.9998133030990174, 1.9996250944822374)"
      ]
     },
     "execution_count": 96,
     "metadata": {},
     "output_type": "execute_result"
    }
   ],
   "source": [
    "2645504/(22050*60)"
   ]
  },
  {
   "cell_type": "code",
   "execution_count": null,
   "id": "fdc3e8c1-d9b8-4f9e-bd0b-e61dafbef27e",
   "metadata": {},
   "outputs": [],
   "source": []
  },
  {
   "cell_type": "code",
   "execution_count": null,
   "id": "46bc6401-c48f-4a9f-b9b0-95413281dcb6",
   "metadata": {},
   "outputs": [],
   "source": []
  },
  {
   "cell_type": "code",
   "execution_count": null,
   "id": "3f454ba7-79c7-4488-9f0a-1967581892c4",
   "metadata": {},
   "outputs": [],
   "source": []
  },
  {
   "cell_type": "code",
   "execution_count": null,
   "id": "1fb81ed1-803d-47b5-8e63-769a277ac9ef",
   "metadata": {},
   "outputs": [],
   "source": []
  },
  {
   "cell_type": "code",
   "execution_count": 19,
   "id": "755df058-284b-4961-a208-6269b77293be",
   "metadata": {},
   "outputs": [],
   "source": [
    "import museval"
   ]
  },
  {
   "cell_type": "code",
   "execution_count": 99,
   "id": "b4757505-9f81-4810-a4f0-ec19e9b7a9bf",
   "metadata": {},
   "outputs": [],
   "source": [
    "res = museval.evaluate(true, reconstructed, win=44100, hop=44100, mode='v4', padding=True)"
   ]
  },
  {
   "cell_type": "code",
   "execution_count": 100,
   "id": "0412d984-b63e-4bb8-aa19-043018ec5a3d",
   "metadata": {},
   "outputs": [],
   "source": [
    "sdr, isr, sir, sar = res"
   ]
  },
  {
   "cell_type": "code",
   "execution_count": 101,
   "id": "696e7488-bc20-4717-a72e-166f1a9b3f99",
   "metadata": {},
   "outputs": [],
   "source": [
    "def get_metrics(y):\n",
    "    avg_y = []\n",
    "    for i in range(len(y)):\n",
    "        x = y[~np.isnan(y)]\n",
    "        avg = sum(x)/len(x)\n",
    "        avg_y.append(avg)\n",
    "    return avg_y"
   ]
  },
  {
   "cell_type": "code",
   "execution_count": 102,
   "id": "318eea8a-b8bd-43d4-a392-d6e17251f6c9",
   "metadata": {},
   "outputs": [],
   "source": [
    "avg_sdr = get_metrics(sdr)\n",
    "avg_isr = get_metrics(isr) #Source to Spatial Distortion Image\n",
    "avg_sir = get_metrics(sir)\n",
    "avg_sar = get_metrics(sar)"
   ]
  },
  {
   "cell_type": "code",
   "execution_count": 103,
   "id": "a53fa379-54da-4cf4-829a-76f23842e84b",
   "metadata": {},
   "outputs": [
    {
     "name": "stdout",
     "output_type": "stream",
     "text": [
      "Overall SDR:  5.0946461591905985\n",
      "Overall ISR:  6.766105947273134\n",
      "Overall SIR:  -100.94068993236846\n",
      "Overall SAR:  3.753064632399115e-09\n"
     ]
    }
   ],
   "source": [
    "print('Overall SDR: ', sum(avg_sdr)/len(avg_sdr))\n",
    "print('Overall ISR: ', sum(avg_isr)/len(avg_isr))\n",
    "print('Overall SIR: ', sum(avg_sir)/len(avg_sir))\n",
    "print('Overall SAR: ', sum(avg_sar)/len(avg_sar))"
   ]
  },
  {
   "cell_type": "code",
   "execution_count": null,
   "id": "4f6ddf33-38fb-4951-955d-3a70185a4538",
   "metadata": {},
   "outputs": [],
   "source": []
  },
  {
   "cell_type": "code",
   "execution_count": 104,
   "id": "ca269f73-987a-4809-8100-e01d72bc55b4",
   "metadata": {},
   "outputs": [
    {
     "name": "stdout",
     "output_type": "stream",
     "text": [
      "2 files written out of 20\n",
      "3 files written out of 20\n",
      "4 files written out of 20\n",
      "5 files written out of 20\n",
      "6 files written out of 20\n",
      "7 files written out of 20\n",
      "8 files written out of 20\n",
      "9 files written out of 20\n",
      "10 files written out of 20\n",
      "11 files written out of 20\n",
      "12 files written out of 20\n",
      "13 files written out of 20\n",
      "14 files written out of 20\n",
      "15 files written out of 20\n",
      "16 files written out of 20\n",
      "17 files written out of 20\n",
      "18 files written out of 20\n",
      "19 files written out of 20\n",
      "20 files written out of 20\n",
      "21 files written out of 20\n",
      "END\n"
     ]
    }
   ],
   "source": [
    "out_path = '/Users/rajeshr/Desktop/reconstructed'\n",
    "os.makedirs(out_path, exist_ok=True)\n",
    "k = 1\n",
    "n = len(reconstructed)\n",
    "for audio in reconstructed:\n",
    "    sf.write(out_path + '/reconstructed{}.wav'.format(k), audio, 22050)\n",
    "    k += 1\n",
    "    print(\"{} files written out of {}\".format(k, n))\n",
    "print(\"END\")"
   ]
  },
  {
   "cell_type": "code",
   "execution_count": 98,
   "id": "3f521dad-a91f-4bfc-97d2-129b09d3e448",
   "metadata": {},
   "outputs": [
    {
     "name": "stdout",
     "output_type": "stream",
     "text": [
      "2 files written out of 20\n",
      "3 files written out of 20\n",
      "4 files written out of 20\n",
      "5 files written out of 20\n",
      "6 files written out of 20\n",
      "7 files written out of 20\n",
      "8 files written out of 20\n",
      "9 files written out of 20\n",
      "10 files written out of 20\n",
      "11 files written out of 20\n",
      "12 files written out of 20\n",
      "13 files written out of 20\n",
      "14 files written out of 20\n",
      "15 files written out of 20\n",
      "16 files written out of 20\n",
      "17 files written out of 20\n",
      "18 files written out of 20\n",
      "19 files written out of 20\n",
      "20 files written out of 20\n",
      "21 files written out of 20\n",
      "END\n"
     ]
    }
   ],
   "source": [
    "out_path = '/Users/rajeshr/Desktop/true'\n",
    "os.makedirs(out_path, exist_ok=True)\n",
    "k = 1\n",
    "n = len(true)\n",
    "for audio in true:\n",
    "    sf.write(out_path + '/true{}.wav'.format(k), audio, 22050)\n",
    "    k += 1\n",
    "    print(\"{} files written out of {}\".format(k, n))\n",
    "print(\"END\")"
   ]
  },
  {
   "cell_type": "code",
   "execution_count": null,
   "id": "3f9da1ef-7be4-490f-a5c2-8678a5904594",
   "metadata": {},
   "outputs": [],
   "source": []
  },
  {
   "cell_type": "code",
   "execution_count": null,
   "id": "d6b68e94-ad90-47e6-aca0-59beee8454c7",
   "metadata": {},
   "outputs": [],
   "source": []
  },
  {
   "cell_type": "code",
   "execution_count": null,
   "id": "99ab0ad9-839a-4bc9-8f0a-fe61760a341a",
   "metadata": {},
   "outputs": [],
   "source": []
  },
  {
   "cell_type": "code",
   "execution_count": null,
   "id": "8ebd9a94-12d5-432b-b0f7-22b53ff9dae8",
   "metadata": {},
   "outputs": [],
   "source": []
  },
  {
   "cell_type": "code",
   "execution_count": null,
   "id": "f0af34be-9e58-435b-bb5c-b5748c670164",
   "metadata": {},
   "outputs": [],
   "source": []
  },
  {
   "cell_type": "code",
   "execution_count": null,
   "id": "8e7b88c3-9df4-4888-8d32-0e4dd27ca4b3",
   "metadata": {},
   "outputs": [],
   "source": []
  },
  {
   "cell_type": "code",
   "execution_count": 56,
   "id": "a0ffb554-073f-4170-bb53-bbc61f74405b",
   "metadata": {},
   "outputs": [
    {
     "name": "stdout",
     "output_type": "stream",
     "text": [
      "Overall SDR:  inf\n",
      "Overall ISR:  206.1269880933547\n",
      "Overall SIR:  -8.522802273860744\n",
      "Overall SAR:  5.8458170404440715\n"
     ]
    }
   ],
   "source": [
    "#res = museval.evaluate(true, true, win=44100, hop=44100, mode='v4', padding=True)\n",
    "sdr, isr, sir, sar = res\n",
    "\n",
    "avg_sdr = get_metrics(sdr)\n",
    "avg_isr = get_metrics(isr) #Source to Spatial Distortion Image\n",
    "avg_sir = get_metrics(sir)\n",
    "avg_sar = get_metrics(sar)\n",
    "\n",
    "print('Overall SDR: ', sum(avg_sdr)/len(avg_sdr))\n",
    "print('Overall ISR: ', sum(avg_isr)/len(avg_isr))\n",
    "print('Overall SIR: ', sum(avg_sir)/len(avg_sir))\n",
    "print('Overall SAR: ', sum(avg_sar)/len(avg_sar))"
   ]
  },
  {
   "cell_type": "code",
   "execution_count": null,
   "id": "2b37ea26-dc28-4789-9c28-0f2af4d6469c",
   "metadata": {},
   "outputs": [],
   "source": []
  },
  {
   "cell_type": "code",
   "execution_count": null,
   "id": "62c753c4-76c8-4dd8-a0b7-cf2acfded01d",
   "metadata": {},
   "outputs": [],
   "source": []
  }
 ],
 "metadata": {
  "kernelspec": {
   "display_name": "Python 3 (ipykernel)",
   "language": "python",
   "name": "python3"
  },
  "language_info": {
   "codemirror_mode": {
    "name": "ipython",
    "version": 3
   },
   "file_extension": ".py",
   "mimetype": "text/x-python",
   "name": "python",
   "nbconvert_exporter": "python",
   "pygments_lexer": "ipython3",
   "version": "3.10.6"
  }
 },
 "nbformat": 4,
 "nbformat_minor": 5
}
