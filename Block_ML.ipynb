{
 "cells": [
  {
   "cell_type": "markdown",
   "id": "25cda7d6",
   "metadata": {},
   "source": [
    "# Min Norm Solution for Bleed Removal"
   ]
  },
  {
   "cell_type": "code",
   "execution_count": 1,
   "id": "d0b3434e",
   "metadata": {},
   "outputs": [],
   "source": [
    "import numpy as np\n",
    "import numpy.linalg as linalg"
   ]
  },
  {
   "cell_type": "code",
   "execution_count": 2,
   "id": "feb64998",
   "metadata": {},
   "outputs": [],
   "source": [
    "import os\n",
    "import librosa as lb\n",
    "import soundfile as sf"
   ]
  },
  {
   "cell_type": "markdown",
   "id": "65579de9",
   "metadata": {
    "tags": []
   },
   "source": [
    "#### Loading Bleed Sources"
   ]
  },
  {
   "cell_type": "code",
   "execution_count": null,
   "id": "1ebdef29",
   "metadata": {},
   "outputs": [],
   "source": [
    "Music Delta - Hendrix\n",
    "Bill Chudziak - Children Of No-one"
   ]
  },
  {
   "cell_type": "code",
   "execution_count": 103,
   "id": "fa86ec83",
   "metadata": {},
   "outputs": [],
   "source": [
    "bleed_path = '/home/rajesh/Desktop/Datasets/musdb18hq_bleeded/train/Hollow Ground - Left Blind/'\n",
    "bvocals, fs = lb.load(bleed_path+'vocals.wav')\n",
    "bbass, fs = lb.load(bleed_path+'bass.wav')\n",
    "bdrums, fs = lb.load(bleed_path+'drums.wav')\n",
    "bother, fs = lb.load(bleed_path+'other.wav')"
   ]
  },
  {
   "cell_type": "markdown",
   "id": "eb51b254",
   "metadata": {
    "tags": []
   },
   "source": [
    "#### Loading True Sources"
   ]
  },
  {
   "cell_type": "code",
   "execution_count": 104,
   "id": "fb896ce2",
   "metadata": {},
   "outputs": [],
   "source": [
    "clean_path = '/home/rajesh/Desktop/Datasets/musdb18hq/train/Hollow Ground - Left Blind/'\n",
    "vocals, fs = lb.load(clean_path+'vocals.wav')\n",
    "bass, fs = lb.load(clean_path+'bass.wav')\n",
    "drums, fs = lb.load(clean_path+'drums.wav')\n",
    "other, fs = lb.load(clean_path+'other.wav')"
   ]
  },
  {
   "cell_type": "code",
   "execution_count": 105,
   "id": "a69e473e",
   "metadata": {},
   "outputs": [],
   "source": [
    "if len(bbass) > len(bass):\n",
    "    n = len(bass)\n",
    "else:\n",
    "    n = len(bbass)"
   ]
  },
  {
   "cell_type": "code",
   "execution_count": 106,
   "id": "66809d47",
   "metadata": {},
   "outputs": [
    {
     "data": {
      "text/plain": [
       "(4, 3512345)"
      ]
     },
     "execution_count": 106,
     "metadata": {},
     "output_type": "execute_result"
    }
   ],
   "source": [
    "R = np.array([bvocals[:n], bbass[:n], bdrums[:n], bother[:n]]) #two min\n",
    "R.shape"
   ]
  },
  {
   "cell_type": "code",
   "execution_count": 107,
   "id": "748c2d7d",
   "metadata": {},
   "outputs": [
    {
     "data": {
      "text/plain": [
       "(4, 3512345)"
      ]
     },
     "execution_count": 107,
     "metadata": {},
     "output_type": "execute_result"
    }
   ],
   "source": [
    "S = np.array([vocals[:n], bass[:n], drums[:n], other[:n]])\n",
    "S.shape"
   ]
  },
  {
   "cell_type": "code",
   "execution_count": null,
   "id": "119ee0fe",
   "metadata": {},
   "outputs": [],
   "source": []
  },
  {
   "cell_type": "code",
   "execution_count": 108,
   "id": "06644673-fbda-413b-8c88-6b36cec0f170",
   "metadata": {},
   "outputs": [],
   "source": [
    "from matplotlib import pyplot as plt"
   ]
  },
  {
   "cell_type": "code",
   "execution_count": 109,
   "id": "fe030e8a-2758-443e-a429-13ee1c223331",
   "metadata": {},
   "outputs": [],
   "source": [
    "def norm(A):\n",
    "    forb = linalg.norm(A, ord='fro')\n",
    "    l1 = linalg.norm(A, ord=1)\n",
    "    l2 = linalg.norm(A, ord=2)\n",
    "    return l1, l2, forb"
   ]
  },
  {
   "cell_type": "code",
   "execution_count": null,
   "id": "11e643aa",
   "metadata": {},
   "outputs": [],
   "source": []
  },
  {
   "cell_type": "markdown",
   "id": "7df2c2c5",
   "metadata": {
    "tags": []
   },
   "source": [
    "# 27 Feb: Siddhartha sir's Block"
   ]
  },
  {
   "cell_type": "code",
   "execution_count": 110,
   "id": "a23a8aaf",
   "metadata": {},
   "outputs": [],
   "source": [
    "def blockleastnormsoln(r, s):\n",
    "    r = r.flatten()\n",
    "    s = s.flatten()\n",
    "    b = r-s\n",
    "    \n",
    "    val = int(r.shape[0]/4)\n",
    "    s0 = s[0:val]\n",
    "    s1 = s[val:2*val]\n",
    "    s2 = s[2*val:3*val]\n",
    "    s3 = s[3*val:4*val]\n",
    "    \n",
    "    z = np.zeros(val)\n",
    "\n",
    "    c1 = np.hstack((s1, z, z, z))\n",
    "    c2 = np.hstack((s2, z, z, z))\n",
    "    c3 = np.hstack((s3, z, z, z))\n",
    "\n",
    "    c4 = np.hstack((z, s0, z, z))\n",
    "    c5 = np.hstack((z, s2, z, z))\n",
    "    c6 = np.hstack((z, s3, z, z))\n",
    "\n",
    "    c7 = np.hstack((z, z, s0, z))\n",
    "    c8 = np.hstack((z, z, s1, z))\n",
    "    c9 = np.hstack((z, z, s3, z))\n",
    "\n",
    "    c10 = np.hstack((z, z, z, s0))\n",
    "    c11 = np.hstack((z, z, z, s1))\n",
    "    c12 = np.hstack((z, z, z, s2))\n",
    "    \n",
    "    A = np.stack((c1, c2, c3, c4, c5, c6, c7, c8, c9, c10, c11, c12), axis=1)\n",
    "    \n",
    "    soln, residual, rank, singular = linalg.lstsq(A, b, rcond=-1)\n",
    "    \n",
    "    return np.array([[1, soln[0], soln[1], soln[2]],\n",
    "                     [soln[3], 1, soln[4], soln[5]],\n",
    "                     [soln[6], soln[7], 1, soln[8]],\n",
    "                     [soln[9], soln[10], soln[11], 1]])"
   ]
  },
  {
   "cell_type": "code",
   "execution_count": 111,
   "id": "a1ce93df-2457-4d17-b796-b49837baeae1",
   "metadata": {},
   "outputs": [],
   "source": [
    "time = 0.5 #seconds\n",
    "block = int(time * fs)"
   ]
  },
  {
   "cell_type": "code",
   "execution_count": 112,
   "id": "d230c6f6-fc49-4f2b-bbbb-c8dfe6ffcc04",
   "metadata": {},
   "outputs": [],
   "source": [
    "block_lamda = []\n",
    "\n",
    "for i in range(0, R.shape[1], block):\n",
    "    r = R[: ,i:i+block]\n",
    "    s = S[: ,i:i+block]\n",
    "    block_lamda.append(blockleastnormsoln(r, s))"
   ]
  },
  {
   "cell_type": "code",
   "execution_count": 113,
   "id": "10f715ee",
   "metadata": {},
   "outputs": [
    {
     "data": {
      "text/plain": [
       "319"
      ]
     },
     "execution_count": 113,
     "metadata": {},
     "output_type": "execute_result"
    }
   ],
   "source": [
    "len(block_lamda)"
   ]
  },
  {
   "cell_type": "code",
   "execution_count": 114,
   "id": "9ee54c8b",
   "metadata": {},
   "outputs": [
    {
     "data": {
      "text/plain": [
       "(array([[1.        , 0.89050194, 0.10796055, 0.28044728],\n",
       "        [1.13282841, 1.        , 0.10768665, 0.27525079],\n",
       "        [0.81417443, 0.67096968, 1.        , 0.24180894],\n",
       "        [0.96968559, 0.76265933, 0.10705152, 1.        ]]),\n",
       " array([[1.        , 0.91247349, 0.12226828, 0.26717167],\n",
       "        [1.15080343, 1.        , 0.12058396, 0.26134929],\n",
       "        [0.8340166 , 0.71409627, 1.        , 0.23126154],\n",
       "        [0.96595954, 0.78612434, 0.11704663, 1.        ]]))"
      ]
     },
     "execution_count": 114,
     "metadata": {},
     "output_type": "execute_result"
    }
   ],
   "source": [
    "block_lamda[0], block_lamda[1]"
   ]
  },
  {
   "cell_type": "code",
   "execution_count": null,
   "id": "afeedb0a",
   "metadata": {},
   "outputs": [],
   "source": []
  },
  {
   "cell_type": "code",
   "execution_count": null,
   "id": "797b0852",
   "metadata": {},
   "outputs": [],
   "source": []
  },
  {
   "cell_type": "code",
   "execution_count": 115,
   "id": "68854c71",
   "metadata": {},
   "outputs": [],
   "source": [
    "l1, l2, forb = [], [], []\n",
    "for i in range(len(block_lamda)):\n",
    "    l_1, l_2, forbn = norm(block_lamda[i])\n",
    "    l1.append(l_1)\n",
    "    l2.append(l_2)\n",
    "    forb.append(forbn)"
   ]
  },
  {
   "cell_type": "code",
   "execution_count": 116,
   "id": "badd6acc",
   "metadata": {},
   "outputs": [],
   "source": [
    "x = np.arange(len(block_lamda))/2"
   ]
  },
  {
   "cell_type": "code",
   "execution_count": 117,
   "id": "7828cdd5",
   "metadata": {},
   "outputs": [
    {
     "data": {
      "image/png": "[encoded data removed]",
      "text/plain": [
       "<Figure size 432x288 with 1 Axes>"
      ]
     },
     "metadata": {
      "needs_background": "light"
     },
     "output_type": "display_data"
    }
   ],
   "source": [
    "plt.plot(x, l1)\n",
    "plt.title('l1 norm')\n",
    "plt.xlabel('seconds')\n",
    "plt.ylabel('norm')\n",
    "plt.savefig('/home/rajesh/Desktop/l1.png', dpi = 1000)\n",
    "plt.show()"
   ]
  },
  {
   "cell_type": "code",
   "execution_count": 118,
   "id": "4e8be558",
   "metadata": {},
   "outputs": [
    {
     "data": {
      "image/png": "[encoded data removed]",
      "text/plain": [
       "<Figure size 432x288 with 1 Axes>"
      ]
     },
     "metadata": {
      "needs_background": "light"
     },
     "output_type": "display_data"
    }
   ],
   "source": [
    "plt.plot(x, forb)\n",
    "plt.title('forb norm')\n",
    "plt.xlabel('seconds')\n",
    "plt.ylabel('norm')\n",
    "plt.savefig('/home/rajesh/Desktop/forb.png', dpi = 1000)\n",
    "plt.show()"
   ]
  },
  {
   "cell_type": "code",
   "execution_count": null,
   "id": "1388d49b",
   "metadata": {},
   "outputs": [],
   "source": []
  },
  {
   "cell_type": "markdown",
   "id": "868ef03b-80a3-40b3-98b3-9cd447c6f429",
   "metadata": {
    "tags": []
   },
   "source": [
    "#### Difference Histograms"
   ]
  },
  {
   "cell_type": "code",
   "execution_count": 189,
   "id": "afd973ef-e44d-4f0b-a76a-d324f5f06ad6",
   "metadata": {},
   "outputs": [],
   "source": [
    "import itertools"
   ]
  },
  {
   "cell_type": "code",
   "execution_count": 216,
   "id": "5934386f",
   "metadata": {},
   "outputs": [],
   "source": [
    "block_lamda_comb = list(itertools.combinations(block_lamda, 2))"
   ]
  },
  {
   "cell_type": "code",
   "execution_count": 217,
   "id": "faf6e3b3",
   "metadata": {},
   "outputs": [],
   "source": [
    "diff = []\n",
    "for everyblock in block_lamda_comb:\n",
    "    diff.append(everyblock[0]-everyblock[1])"
   ]
  },
  {
   "cell_type": "code",
   "execution_count": 218,
   "id": "af5a3636",
   "metadata": {},
   "outputs": [],
   "source": [
    "l1, l2, forb = [], [], []\n",
    "for i in range(len(diff)):\n",
    "    l_1, l_2, forbn = norm(diff[i])\n",
    "    l1.append(l_1)\n",
    "    l2.append(l_2)\n",
    "    forb.append(forbn)"
   ]
  },
  {
   "cell_type": "code",
   "execution_count": null,
   "id": "38dc4492-c165-4e56-9a36-59348c094e93",
   "metadata": {},
   "outputs": [],
   "source": []
  }
 ],
 "metadata": {
  "kernelspec": {
   "display_name": "Python 3 (ipykernel)",
   "language": "python",
   "name": "python3"
  },
  "language_info": {
   "codemirror_mode": {
    "name": "ipython",
    "version": 3
   },
   "file_extension": ".py",
   "mimetype": "text/x-python",
   "name": "python",
   "nbconvert_exporter": "python",
   "pygments_lexer": "ipython3",
   "version": "3.10.6"
  }
 },
 "nbformat": 4,
 "nbformat_minor": 5
}
