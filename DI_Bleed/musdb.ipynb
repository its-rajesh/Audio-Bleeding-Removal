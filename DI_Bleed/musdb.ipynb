{
 "cells": [
  {
   "cell_type": "markdown",
   "id": "2a297966",
   "metadata": {},
   "source": [
    "# MUSDB Whole Dataset Bleeding"
   ]
  },
  {
   "cell_type": "code",
   "execution_count": 2,
   "id": "d2ae0bb1",
   "metadata": {},
   "outputs": [],
   "source": [
    "import os\n",
    "import numpy as np\n",
    "import librosa as lb\n",
    "import soundfile as sf"
   ]
  },
  {
   "cell_type": "code",
   "execution_count": 73,
   "id": "61ee9213",
   "metadata": {},
   "outputs": [],
   "source": [
    "from pydub import AudioSegment\n",
    "from tqdm import tqdm\n",
    "import shutil"
   ]
  },
  {
   "cell_type": "code",
   "execution_count": 88,
   "id": "ecfcabde",
   "metadata": {},
   "outputs": [],
   "source": [
    "path = \"/home/rajesh/Desktop/Datasets/musdb18hq/train/\"\n",
    "folders = os.listdir(path)"
   ]
  },
  {
   "cell_type": "code",
   "execution_count": 89,
   "id": "58558bac",
   "metadata": {},
   "outputs": [],
   "source": [
    "factor = 20 #Volume reduction in dB\n",
    "parent_path = \"/home/rajesh/Desktop/Datasets/musdb_bleeded/train/\""
   ]
  },
  {
   "cell_type": "code",
   "execution_count": 90,
   "id": "b289be44",
   "metadata": {},
   "outputs": [],
   "source": [
    "def overlay_files(f1, f2, f3, f4):\n",
    "    y1 = f1.overlay(f2)\n",
    "    y2 = y1.overlay(f3)\n",
    "    y3 = y2.overlay(f4)\n",
    "    return y3"
   ]
  },
  {
   "cell_type": "code",
   "execution_count": 91,
   "id": "0c8dee7a",
   "metadata": {},
   "outputs": [
    {
     "name": "stderr",
     "output_type": "stream",
     "text": [
      "100%|█████████████████████████████████████████| 100/100 [07:09<00:00,  4.29s/it]\n"
     ]
    }
   ],
   "source": [
    "for folder in tqdm(folders):\n",
    "    folder = path+folder\n",
    "    \n",
    "    vocals = AudioSegment.from_file(os.path.join(folder, \"vocals.wav\"), \"wav\")\n",
    "    drums = AudioSegment.from_file(os.path.join(folder, \"drums.wav\"), \"wav\")\n",
    "    bass = AudioSegment.from_file(os.path.join(folder, \"bass.wav\"), \"wav\")\n",
    "    other = AudioSegment.from_file(os.path.join(folder, \"other.wav\"), \"wav\")\n",
    "\n",
    "    vocals_mmm = vocals-factor\n",
    "    drums_mmm = drums-factor\n",
    "    bass_mmm = bass-factor\n",
    "    other_mmm = other-factor\n",
    "\n",
    "    vocals_bleeded = overlay_files(vocals, drums_mmm, bass_mmm, other_mmm)\n",
    "    drums_bleeded = overlay_files(drums, vocals_mmm, bass_mmm, other_mmm)\n",
    "    bass_bleeded = overlay_files(bass, drums_mmm, vocals_mmm, other_mmm)\n",
    "    other_bleeded = overlay_files(other, drums_mmm, bass_mmm, vocals_mmm)\n",
    "\n",
    "    foldr = folder.split('/')[-1]\n",
    "    curr_path = parent_path+foldr\n",
    "    os.makedirs(curr_path, exist_ok=True)\n",
    "\n",
    "    vocals_bleeded.export(curr_path+\"/vocals.wav\", \"wav\")\n",
    "    drums_bleeded.export(curr_path+\"/drums.wav\", \"wav\")\n",
    "    bass_bleeded.export(curr_path+\"/bass.wav\", \"wav\")\n",
    "    other_bleeded.export(curr_path+\"/other.wav\", \"wav\")"
   ]
  },
  {
   "cell_type": "code",
   "execution_count": 92,
   "id": "7eed5aa8",
   "metadata": {},
   "outputs": [
    {
     "name": "stderr",
     "output_type": "stream",
     "text": [
      "100%|█████████████████████████████████████████| 100/100 [01:47<00:00,  1.08s/it]\n"
     ]
    }
   ],
   "source": [
    "for folder in tqdm(folders):\n",
    "    folder = path+folder\n",
    "    \n",
    "    source = folder+'/mixture.wav'\n",
    "    \n",
    "    foldr = folder.split('/')[-1]\n",
    "    curr_path = parent_path+foldr\n",
    "    \n",
    "    dest = curr_path+'/mixture.wav'\n",
    "    shutil.copy2(source, dest)"
   ]
  },
  {
   "cell_type": "code",
   "execution_count": null,
   "id": "4141ff2e",
   "metadata": {},
   "outputs": [],
   "source": []
  }
 ],
 "metadata": {
  "kernelspec": {
   "display_name": "Python 3 (ipykernel)",
   "language": "python",
   "name": "python3"
  },
  "language_info": {
   "codemirror_mode": {
    "name": "ipython",
    "version": 3
   },
   "file_extension": ".py",
   "mimetype": "text/x-python",
   "name": "python",
   "nbconvert_exporter": "python",
   "pygments_lexer": "ipython3",
   "version": "3.10.6"
  }
 },
 "nbformat": 4,
 "nbformat_minor": 5
}
