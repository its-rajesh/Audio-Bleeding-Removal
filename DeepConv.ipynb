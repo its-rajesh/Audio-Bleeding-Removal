{
 "cells": [
  {
   "cell_type": "markdown",
   "id": "e763ce85",
   "metadata": {},
   "source": [
    "# Convolutional Autoencoder Architecture (CAE)"
   ]
  },
  {
   "cell_type": "code",
   "execution_count": 6,
   "id": "644480f0",
   "metadata": {},
   "outputs": [],
   "source": [
    "import numpy as np\n",
    "from matplotlib import pyplot as plt\n",
    "import os"
   ]
  },
  {
   "cell_type": "markdown",
   "id": "93691aec",
   "metadata": {},
   "source": [
    "### Data loading"
   ]
  },
  {
   "cell_type": "code",
   "execution_count": 7,
   "id": "30f6774f",
   "metadata": {},
   "outputs": [
    {
     "data": {
      "text/plain": [
       "['gt_test.npy', 'gt_train.npy', 'test.npy', 'AIbleed', 'Actual', 'train.npy']"
      ]
     },
     "execution_count": 7,
     "metadata": {},
     "output_type": "execute_result"
    }
   ],
   "source": [
    "path = \"/home/rajesh/Desktop/Datasets/revised_musdbbleed/\"\n",
    "os.listdir(path)"
   ]
  },
  {
   "cell_type": "code",
   "execution_count": 8,
   "id": "f18708f1",
   "metadata": {},
   "outputs": [],
   "source": [
    "xtrain = np.load(path+'train.npy')\n",
    "xtest = np.load(path+'test.npy')\n",
    "ytrain = np.load(path+'gt_train.npy')\n",
    "ytest = np.load(path+'gt_test.npy')"
   ]
  },
  {
   "cell_type": "code",
   "execution_count": 9,
   "id": "d74769b0",
   "metadata": {},
   "outputs": [
    {
     "data": {
      "text/plain": [
       "((80, 1025, 5168), (80, 1025, 5168), (20, 1025, 5168), (20, 1025, 5168))"
      ]
     },
     "execution_count": 9,
     "metadata": {},
     "output_type": "execute_result"
    }
   ],
   "source": [
    "xtrain.shape, ytrain.shape, xtest.shape, ytest.shape"
   ]
  },
  {
   "cell_type": "code",
   "execution_count": null,
   "id": "67807c03",
   "metadata": {},
   "outputs": [],
   "source": []
  },
  {
   "cell_type": "code",
   "execution_count": null,
   "id": "f896b5ec",
   "metadata": {},
   "outputs": [],
   "source": []
  },
  {
   "cell_type": "markdown",
   "id": "452dd04c",
   "metadata": {},
   "source": [
    "### Architecture"
   ]
  },
  {
   "cell_type": "code",
   "execution_count": 2,
   "id": "784f2c4e",
   "metadata": {},
   "outputs": [],
   "source": [
    "from keras.layers import Input, Dense, Conv2D, MaxPooling2D, UpSampling2D, Conv2DTranspose, \\\n",
    "Flatten, Dropout, BatchNormalization, Reshape\n",
    "from keras.models import Model"
   ]
  },
  {
   "cell_type": "code",
   "execution_count": 3,
   "id": "f59cd9f7",
   "metadata": {},
   "outputs": [],
   "source": [
    "batch_size = 16\n",
    "epochs = 20\n",
    "inp = Input(shape=(1025, 5168, 1)) #1025, 5168 2 min"
   ]
  },
  {
   "cell_type": "code",
   "execution_count": 4,
   "id": "05f9369e",
   "metadata": {},
   "outputs": [
    {
     "name": "stdout",
     "output_type": "stream",
     "text": [
      "(None, 1025, 5168, 1)\n"
     ]
    },
    {
     "name": "stderr",
     "output_type": "stream",
     "text": [
      "2022-12-22 19:15:56.895576: W tensorflow/stream_executor/platform/default/dso_loader.cc:64] Could not load dynamic library 'libcuda.so.1'; dlerror: libcuda.so.1: cannot open shared object file: No such file or directory\n",
      "2022-12-22 19:15:56.895949: W tensorflow/stream_executor/cuda/cuda_driver.cc:269] failed call to cuInit: UNKNOWN ERROR (303)\n",
      "2022-12-22 19:15:56.896005: I tensorflow/stream_executor/cuda/cuda_diagnostics.cc:156] kernel driver does not appear to be running on this host (Rajesh): /proc/driver/nvidia/version does not exist\n",
      "2022-12-22 19:15:56.905130: I tensorflow/core/platform/cpu_feature_guard.cc:193] This TensorFlow binary is optimized with oneAPI Deep Neural Network Library (oneDNN) to use the following CPU instructions in performance-critical operations:  AVX2 FMA\n",
      "To enable them in other operations, rebuild TensorFlow with the appropriate compiler flags.\n"
     ]
    },
    {
     "name": "stdout",
     "output_type": "stream",
     "text": [
      "(None, 337, 1718, 1)\n",
      "(None, 109, 570, 32)\n",
      "(None, 34, 188, 64)\n",
      "(None, 10, 61, 128)\n",
      "(None, 2, 19, 256)\n"
     ]
    },
    {
     "name": "stderr",
     "output_type": "stream",
     "text": [
      "2022-12-22 19:15:57.181804: W tensorflow/core/framework/cpu_allocator_impl.cc:82] Allocation of 2118880000 exceeds 10% of free system memory.\n",
      "2022-12-22 19:15:57.959363: W tensorflow/core/framework/cpu_allocator_impl.cc:82] Allocation of 2118880000 exceeds 10% of free system memory.\n",
      "2022-12-22 19:15:58.234642: W tensorflow/core/framework/cpu_allocator_impl.cc:82] Allocation of 2118880000 exceeds 10% of free system memory.\n"
     ]
    },
    {
     "name": "stdout",
     "output_type": "stream",
     "text": [
      "(None, 5297200)\n",
      "(None, 1025, 5168, 1)\n"
     ]
    }
   ],
   "source": [
    "print(inp.shape)\n",
    "\n",
    "# Conv1 #\n",
    "x = Conv2D(filters = 1, kernel_size = (15, 15), activation='relu')(inp)\n",
    "x = BatchNormalization()(x)\n",
    "x = MaxPooling2D(pool_size = (3, 3))(x)\n",
    "x = Dropout(0.30)(x)\n",
    "print(x.shape)\n",
    "\n",
    "# Conv2 #\n",
    "x = Conv2D(filters = 32, kernel_size = (9, 9), activation='relu')(x)\n",
    "x = BatchNormalization()(x)\n",
    "x = MaxPooling2D(pool_size = (3, 3))(x)\n",
    "x = Dropout(0.30)(x)\n",
    "print(x.shape)\n",
    "\n",
    "# Conv 3 #\n",
    "x = Conv2D(filters = 64, kernel_size = (7, 7), activation='relu')(x)\n",
    "x = BatchNormalization()(x)\n",
    "x = MaxPooling2D(pool_size = (3, 3))(x)\n",
    "x = Dropout(0.30)(x)\n",
    "print(x.shape)\n",
    "\n",
    "# Conv 4 #\n",
    "x = Conv2D(filters = 128, kernel_size = (5, 5), activation='relu')(x)\n",
    "x = BatchNormalization()(x)\n",
    "x = MaxPooling2D(pool_size = (3, 3))(x)\n",
    "x = Dropout(0.30)(x)\n",
    "print(x.shape)\n",
    "\n",
    "# Conv 5 #\n",
    "x = Conv2D(filters = 256, kernel_size = (3, 3), activation='relu')(x)\n",
    "x = BatchNormalization()(x)\n",
    "x = MaxPooling2D(pool_size = (3, 3))(x)\n",
    "encoded = Dropout(0.30)(x)\n",
    "print(encoded.shape)\n",
    "\n",
    "x = Flatten()(x)\n",
    "x = Dense(100, activation='relu')(x)\n",
    "x = Dense(inp.shape[1] * inp.shape[2] * inp.shape[3], activation='relu')(x)\n",
    "print(x.shape)\n",
    "decoded = Reshape((inp.shape[1], inp.shape[2], inp.shape[3]))(x)\n",
    "print(decoded.shape)"
   ]
  },
  {
   "cell_type": "code",
   "execution_count": 5,
   "id": "ead4216a",
   "metadata": {},
   "outputs": [],
   "source": [
    "# Autoencoder\n",
    "deepconv = Model(inp, x)\n",
    "deepconv.compile(optimizer=\"adam\", loss=\"binary_crossentropy\")\n",
    "#deepconv.summary()"
   ]
  },
  {
   "cell_type": "code",
   "execution_count": null,
   "id": "7ae32eeb",
   "metadata": {},
   "outputs": [],
   "source": [
    "deepconv.fit(\n",
    "    x=xtrain,\n",
    "    y=ytrain,\n",
    "    epochs=50,\n",
    "    batch_size=16,\n",
    "    shuffle=True,\n",
    ")"
   ]
  },
  {
   "cell_type": "code",
   "execution_count": null,
   "id": "9152056c",
   "metadata": {},
   "outputs": [],
   "source": []
  },
  {
   "cell_type": "code",
   "execution_count": null,
   "id": "29e3b621",
   "metadata": {},
   "outputs": [],
   "source": []
  },
  {
   "cell_type": "code",
   "execution_count": null,
   "id": "d78a4db1",
   "metadata": {},
   "outputs": [],
   "source": []
  },
  {
   "cell_type": "code",
   "execution_count": null,
   "id": "f3dbdbdb",
   "metadata": {},
   "outputs": [],
   "source": []
  },
  {
   "cell_type": "code",
   "execution_count": null,
   "id": "892e5a91",
   "metadata": {},
   "outputs": [],
   "source": []
  },
  {
   "cell_type": "code",
   "execution_count": null,
   "id": "967ec861",
   "metadata": {},
   "outputs": [],
   "source": []
  }
 ],
 "metadata": {
  "kernelspec": {
   "display_name": "Python 3 (ipykernel)",
   "language": "python",
   "name": "python3"
  },
  "language_info": {
   "codemirror_mode": {
    "name": "ipython",
    "version": 3
   },
   "file_extension": ".py",
   "mimetype": "text/x-python",
   "name": "python",
   "nbconvert_exporter": "python",
   "pygments_lexer": "ipython3",
   "version": "3.10.6"
  }
 },
 "nbformat": 4,
 "nbformat_minor": 5
}
