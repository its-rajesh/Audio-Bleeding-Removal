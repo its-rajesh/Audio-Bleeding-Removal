{
 "cells": [
  {
   "cell_type": "markdown",
   "id": "7ceaf813",
   "metadata": {},
   "source": [
    "# Two Sources : Internal Bleed"
   ]
  },
  {
   "cell_type": "code",
   "execution_count": 1,
   "id": "0b74900f",
   "metadata": {},
   "outputs": [],
   "source": [
    "import numpy as np\n",
    "import os\n",
    "import librosa as lb\n",
    "import soundfile as sf\n",
    "import museval\n",
    "from matplotlib import pyplot as plt\n",
    "from tqdm import tqdm\n",
    "import librosa.display"
   ]
  },
  {
   "cell_type": "code",
   "execution_count": 6,
   "id": "e0ae32ae",
   "metadata": {},
   "outputs": [],
   "source": [
    "def random_gen():\n",
    "    k = np.round(np.random.uniform(0.05, 0.31), 3)\n",
    "    return k\n",
    "def random_diag():\n",
    "    k = np.round(np.random.uniform(0.6, 1), 3)\n",
    "    return k\n",
    "\n",
    "def gen_A():\n",
    "    A = np.array([[random_diag(), random_gen()],\n",
    "                  [random_gen(), random_diag()]])\n",
    "    return np.round(A, 2)"
   ]
  },
  {
   "cell_type": "code",
   "execution_count": 7,
   "id": "1568e7dc",
   "metadata": {},
   "outputs": [],
   "source": [
    "def conditions(vx, bx, block):\n",
    "    flag = True\n",
    "    if vx.shape[0] != block:\n",
    "        flag = False\n",
    "    if np.linalg.norm(vx) <= 0.9 or np.linalg.norm(bx) <= 0.9:\n",
    "        flag = False\n",
    "    return flag"
   ]
  },
  {
   "cell_type": "code",
   "execution_count": 8,
   "id": "f2e932cc",
   "metadata": {},
   "outputs": [],
   "source": [
    "clean_path = \"/home/rajesh/Desktop/Datasets/musdb18hq/test/\"\n",
    "outpath = \"/home/rajesh/Desktop/Datasets/musdb18hq_2source/test/\""
   ]
  },
  {
   "cell_type": "code",
   "execution_count": 9,
   "id": "1a662fe1",
   "metadata": {},
   "outputs": [
    {
     "name": "stderr",
     "output_type": "stream",
     "text": [
      "100%|███████████████████████████████████████████| 50/50 [09:48<00:00, 11.76s/it]\n"
     ]
    }
   ],
   "source": [
    "files = sorted(os.listdir(clean_path))\n",
    "\n",
    "for file in tqdm(files):\n",
    "    vocal, fs = lb.load(clean_path+file+\"/vocals.wav\")\n",
    "    bass, fs = lb.load(clean_path+file+\"/bass.wav\")\n",
    "    \n",
    "    path = outpath+file\n",
    "    os.makedirs(path, exist_ok=True)\n",
    "    os.makedirs(path+'/Audio', exist_ok=True)\n",
    "    os.makedirs(path+'/Numpy', exist_ok=True)\n",
    "    A = gen_A()\n",
    "    np.save(path+'/mixing.npy', A)\n",
    "    \n",
    "    sec = 10\n",
    "    block = sec*fs\n",
    "    length = vocal.shape[0]\n",
    "    for i in range(0, length, block):\n",
    "        vx = vocal[i:i+block]\n",
    "        bx = bass[i:i+block]\n",
    "\n",
    "        if conditions(vx, bx, block):\n",
    "\n",
    "            fapath = path+'/Audio/{}_{}/'.format(int(i/fs), int(i/fs)+sec)\n",
    "            fnpath = path+'/Numpy/{}_{}/'.format(int(i/fs), int(i/fs)+sec)\n",
    "            os.makedirs(fapath, exist_ok=True)\n",
    "            os.makedirs(fnpath, exist_ok=True)\n",
    "\n",
    "            np.save(fnpath+'vocal.npy', vx)\n",
    "            np.save(fnpath+'bass.npy', bx)\n",
    "\n",
    "            s = np.array([vx, bx])\n",
    "            x = A @ s\n",
    "\n",
    "            np.save(fnpath+'bvocal.npy', x[0])\n",
    "            np.save(fnpath+'bbass.npy', x[1])\n",
    "\n",
    "            sf.write(fapath+'vocal.wav', vx, fs)\n",
    "            sf.write(fapath+'bass.wav', bx, fs)\n",
    "\n",
    "            sf.write(fapath+'bvocal.wav', x[0], fs)\n",
    "            sf.write(fapath+'bbass.wav', x[1], fs)"
   ]
  },
  {
   "cell_type": "code",
   "execution_count": null,
   "id": "ecc56c18",
   "metadata": {},
   "outputs": [],
   "source": []
  },
  {
   "cell_type": "code",
   "execution_count": 10,
   "id": "a3aad932",
   "metadata": {},
   "outputs": [],
   "source": [
    "path = \"/home/rajesh/Desktop/Datasets/musdb18hq_2source/test/\""
   ]
  },
  {
   "cell_type": "code",
   "execution_count": 11,
   "id": "9486b578",
   "metadata": {},
   "outputs": [],
   "source": [
    "mainfolder = sorted(os.listdir(path))"
   ]
  },
  {
   "cell_type": "code",
   "execution_count": 12,
   "id": "cf4cc441",
   "metadata": {},
   "outputs": [
    {
     "name": "stderr",
     "output_type": "stream",
     "text": [
      "100%|███████████████████████████████████████████| 50/50 [01:49<00:00,  2.19s/it]\n"
     ]
    }
   ],
   "source": [
    "xtrain, ytrain = [], []\n",
    "for folder in tqdm(mainfolder[0:50]):\n",
    "    dept_path = path+folder+'/Numpy/'\n",
    "    subfolder = sorted(os.listdir(dept_path))\n",
    "    for files in subfolder:\n",
    "        v = np.load(dept_path+files+'/vocal.npy')\n",
    "        b = np.load(dept_path+files+'/bass.npy')\n",
    "        \n",
    "        bv = np.load(dept_path+files+'/bvocal.npy')\n",
    "        bb = np.load(dept_path+files+'/bbass.npy')\n",
    "        \n",
    "        S = np.array([v, b])\n",
    "        X = np.array([bv, bb])\n",
    "        xtrain.append(X)\n",
    "        ytrain.append(S)\n",
    "        \n",
    "np.save(path+'xtest_0_50.npy', xtrain)\n",
    "np.save(path+'ytest_0_50.npy', ytrain)"
   ]
  },
  {
   "cell_type": "code",
   "execution_count": null,
   "id": "5c45dcbb",
   "metadata": {},
   "outputs": [],
   "source": []
  },
  {
   "cell_type": "code",
   "execution_count": null,
   "id": "a74464d1",
   "metadata": {},
   "outputs": [],
   "source": []
  }
 ],
 "metadata": {
  "kernelspec": {
   "display_name": "Python 3 (ipykernel)",
   "language": "python",
   "name": "python3"
  },
  "language_info": {
   "codemirror_mode": {
    "name": "ipython",
    "version": 3
   },
   "file_extension": ".py",
   "mimetype": "text/x-python",
   "name": "python",
   "nbconvert_exporter": "python",
   "pygments_lexer": "ipython3",
   "version": "3.10.6"
  }
 },
 "nbformat": 4,
 "nbformat_minor": 5
}
