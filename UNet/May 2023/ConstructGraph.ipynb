{
 "cells": [
  {
   "cell_type": "code",
   "execution_count": 6,
   "id": "dd563cca-387c-445e-93d2-d15caf31f9d0",
   "metadata": {},
   "outputs": [],
   "source": [
    "import numpy as np\n",
    "from matplotlib import pyplot as plt\n",
    "import librosa as lb"
   ]
  },
  {
   "cell_type": "code",
   "execution_count": null,
   "id": "842545eb-c9aa-4c8a-a1b1-f9632e168316",
   "metadata": {},
   "outputs": [],
   "source": [
    "import numpy as np\n",
    "import librosa\n",
    "import networkx as nx\n",
    "from scipy.spatial.distance import pdist, squareform\n",
    "\n",
    "# Load an audio file and extract its spectrogram\n",
    "audio_file = '/Users/rajeshr/Desktop/Research/Datasets/Sample Sounds/piano.wav'\n",
    "y, sr = librosa.load(audio_file, sr=22050)\n",
    "spec = np.abs(librosa.stft(y))\n",
    "\n",
    "# Compute pairwise distances between spectrogram frames\n",
    "dist = pdist(spec.T)\n",
    "\n",
    "noise = np.random.normal(scale=1e-6, size=dist.shape)\n",
    "dist += noise\n",
    "\n",
    "# Construct a graph using the distances as edge weights\n",
    "g = nx.Graph(squareform(dist))\n",
    "\n",
    "# Compute the Laplacian matrix of the graph\n",
    "laplacian = nx.laplacian_matrix(g).toarray()\n",
    "\n",
    "# Normalize the Laplacian matrix\n",
    "d = np.diag(np.sum(laplacian, axis=1))\n",
    "#print(d)\n",
    "laplacian_norm = np.linalg.inv(d) @ laplacian\n",
    "\n",
    "# Convert the adjacency matrix and normalized Laplacian matrix to Keras-compatible format\n",
    "adj_matrix = np.asarray(nx.to_numpy_matrix(g))\n",
    "laplacian_norm = laplacian_norm[np.newaxis, :, :]\n",
    "\n",
    "# Use the adjacency matrix and normalized Laplacian matrix as inputs to the GCN\n",
    "#model.fit([spec[np.newaxis, :, :, :], adj_matrix[np.newaxis, :, :], laplacian_norm], y_true)\n"
   ]
  },
  {
   "cell_type": "code",
   "execution_count": 9,
   "id": "9892c0ce-e9e7-4bc9-8b62-03dfaedc8094",
   "metadata": {},
   "outputs": [
    {
     "name": "stderr",
     "output_type": "stream",
     "text": [
      "<class 'networkx.utils.decorators.argmap'> compilation 8:4: FutureWarning: laplacian_matrix will return a scipy.sparse array instead of a matrix in Networkx 3.0.\n"
     ]
    }
   ],
   "source": [
    "import numpy as np\n",
    "import librosa\n",
    "import networkx as nx\n",
    "from scipy.spatial.distance import pdist, squareform\n",
    "\n",
    "# Load audio signal\n",
    "y, sr = librosa.load('/Users/rajeshr/Desktop/Research/Datasets/Sample Sounds/piano.wav')\n",
    "y = y[:25]\n",
    "\n",
    "# Compute pairwise distances between time-domain samples\n",
    "dist = pdist(y[:, np.newaxis], metric='euclidean')\n",
    "\n",
    "# Add a small amount of noise to the pairwise distances\n",
    "noise = np.random.normal(scale=1e-6, size=dist.shape)\n",
    "dist += noise\n",
    "\n",
    "# Construct a graph using the distances as edge weights\n",
    "g = nx.Graph(squareform(dist))\n",
    "\n",
    "# Remove isolated nodes from the graph\n",
    "isolated_nodes = list(nx.isolates(g))\n",
    "g.remove_nodes_from(isolated_nodes)\n",
    "\n",
    "# Compute the Laplacian matrix of the graph\n",
    "laplacian = nx.laplacian_matrix(g).toarray()\n"
   ]
  },
  {
   "cell_type": "code",
   "execution_count": 10,
   "id": "a2a9de71-cdf6-41c7-8b29-a6bff31be9df",
   "metadata": {},
   "outputs": [
    {
     "data": {
      "image/png": "[encoded data removed]",
      "text/plain": [
       "<Figure size 640x480 with 1 Axes>"
      ]
     },
     "metadata": {},
     "output_type": "display_data"
    }
   ],
   "source": [
    "plt.imshow(laplacian)\n",
    "plt.show()"
   ]
  },
  {
   "cell_type": "code",
   "execution_count": 13,
   "id": "eeb4f821-452c-4bc4-8c80-3d30988a6620",
   "metadata": {},
   "outputs": [],
   "source": [
    "import numpy as np\n",
    "import librosa\n",
    "import networkx as nx\n",
    "from scipy.spatial.distance import pdist, squareform\n",
    "\n",
    "# Load audio signal\n",
    "y, sr = librosa.load('/Users/rajeshr/Desktop/Research/Datasets/Sample Sounds/piano.wav')\n",
    "y = y[:25]\n",
    "\n",
    "X = np.array([y, y])\n",
    "y = X[0, :]\n",
    "sr = 22050  # replace with your sampling rate\n",
    "\n",
    "# Compute pairwise distances between time-domain samples\n",
    "dist = pdist(y[:, np.newaxis], metric='euclidean')\n",
    "\n",
    "# Add a small amount of noise to the pairwise distances\n",
    "noise = np.random.normal(scale=1e-6, size=dist.shape)\n",
    "dist += noise\n",
    "\n",
    "# Construct a graph using the distances as edge weights\n",
    "g = nx.Graph(squareform(dist))\n",
    "\n",
    "# Remove isolated nodes from the graph\n",
    "isolated_nodes = list(nx.isolates(g))\n",
    "g.remove_nodes_from(isolated_nodes)\n",
    "\n",
    "# Compute the Laplacian matrix of the graph\n",
    "laplacian = nx.laplacian_matrix(g).toarray()"
   ]
  },
  {
   "cell_type": "code",
   "execution_count": 14,
   "id": "3c4dead8-23c7-47d9-bbee-228356e74479",
   "metadata": {},
   "outputs": [
    {
     "data": {
      "image/png": "[encoded data removed]",
      "text/plain": [
       "<Figure size 640x480 with 1 Axes>"
      ]
     },
     "metadata": {},
     "output_type": "display_data"
    }
   ],
   "source": [
    "plt.imshow(laplacian)\n",
    "plt.show()"
   ]
  },
  {
   "cell_type": "code",
   "execution_count": null,
   "id": "b91ed726-79e1-445b-ba89-7705a3d054fe",
   "metadata": {},
   "outputs": [],
   "source": []
  }
 ],
 "metadata": {
  "kernelspec": {
   "display_name": "Python 3 (ipykernel)",
   "language": "python",
   "name": "python3"
  },
  "language_info": {
   "codemirror_mode": {
    "name": "ipython",
    "version": 3
   },
   "file_extension": ".py",
   "mimetype": "text/x-python",
   "name": "python",
   "nbconvert_exporter": "python",
   "pygments_lexer": "ipython3",
   "version": "3.10.6"
  }
 },
 "nbformat": 4,
 "nbformat_minor": 5
}
