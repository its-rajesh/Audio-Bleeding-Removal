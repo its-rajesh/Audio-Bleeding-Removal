{
 "cells": [
  {
   "cell_type": "markdown",
   "id": "2fb2a149-98f5-462f-8ebe-44b2106c60cb",
   "metadata": {},
   "source": [
    "# Check it has crt number of data"
   ]
  },
  {
   "cell_type": "code",
   "execution_count": 50,
   "id": "225320f5",
   "metadata": {},
   "outputs": [],
   "source": [
    "import numpy as np\n",
    "import os\n",
    "import re"
   ]
  },
  {
   "cell_type": "code",
   "execution_count": 53,
   "id": "4ae60620",
   "metadata": {},
   "outputs": [],
   "source": [
    "path = 'C:\\\\Users\\\\Bhuvan Kumar\\\\Desktop\\\\MySystemData\\\\Sorted\\\\'"
   ]
  },
  {
   "cell_type": "code",
   "execution_count": 54,
   "id": "7eb07550",
   "metadata": {},
   "outputs": [],
   "source": [
    "train = sorted(os.listdir(path+'train\\\\'))\n",
    "test = sorted(os.listdir(path+'test\\\\'))"
   ]
  },
  {
   "cell_type": "code",
   "execution_count": 55,
   "id": "461160c7",
   "metadata": {},
   "outputs": [
    {
     "data": {
      "text/plain": [
       "(1500, 500)"
      ]
     },
     "execution_count": 55,
     "metadata": {},
     "output_type": "execute_result"
    }
   ],
   "source": [
    "len(train), len(test)"
   ]
  },
  {
   "cell_type": "code",
   "execution_count": 6,
   "id": "cee04892",
   "metadata": {},
   "outputs": [],
   "source": [
    "vdetails, bdetails = [], []\n",
    "for n in range(1, 76):\n",
    "    bd, vd = [], []\n",
    "    for i in train:\n",
    "        res = re.split('(\\d+)', i)\n",
    "        #print(res[1], n)\n",
    "        if int(res[1]) == n and res[0] == 'bass':\n",
    "            bd.append(res[3])\n",
    "        if int(res[1]) == n and res[0] == 'vocal':\n",
    "            vd.append(res[3])\n",
    "            \n",
    "    bdetails.append(bd)\n",
    "    vdetails.append(vd)"
   ]
  },
  {
   "cell_type": "code",
   "execution_count": 7,
   "id": "4c65f47d",
   "metadata": {},
   "outputs": [
    {
     "data": {
      "text/plain": [
       "(75, 75)"
      ]
     },
     "execution_count": 7,
     "metadata": {},
     "output_type": "execute_result"
    }
   ],
   "source": [
    "len(bdetails), len(vdetails)"
   ]
  },
  {
   "cell_type": "code",
   "execution_count": null,
   "id": "6a115351",
   "metadata": {},
   "outputs": [],
   "source": []
  },
  {
   "cell_type": "code",
   "execution_count": 8,
   "id": "563e5712",
   "metadata": {},
   "outputs": [],
   "source": [
    "for i in range(len(bdetails)):\n",
    "    if len(bdetails[i]) != 10:\n",
    "        print(i+1, bdetails[i])"
   ]
  },
  {
   "cell_type": "code",
   "execution_count": 10,
   "id": "11376c1c",
   "metadata": {},
   "outputs": [
    {
     "name": "stdout",
     "output_type": "stream",
     "text": [
      "3 ['19']\n",
      "4 ['10', '11', '12', '13', '5', '7', '8', '9']\n",
      "5 []\n",
      "6 ['38', '40', '41', '42', '43', '44', '45', '46', '47']\n",
      "10 ['66', '67', '68', '69', '71', '72', '75']\n",
      "12 ['73']\n",
      "13 ['85', '86', '89']\n",
      "14 ['38', '39', '40', '41', '42', '43', '44', '45']\n",
      "15 ['56', '57', '60', '62']\n",
      "16 ['10', '11', '12', '13', '14', '15', '16', '17', '9']\n",
      "28 ['48', '50', '51', '52', '53', '54', '55', '56', '57']\n",
      "29 ['17', '19', '20', '22', '23']\n",
      "30 ['17']\n",
      "31 []\n",
      "32 ['36', '38', '39', '40', '41', '42', '43']\n",
      "38 ['38', '41', '42', '43', '44', '45', '47']\n",
      "42 ['10', '11', '13', '14', '16', '7', '8', '9']\n",
      "43 []\n",
      "44 []\n",
      "45 []\n",
      "47 ['59', '61', '62', '63', '64', '65', '66', '67']\n",
      "48 ['80']\n",
      "49 []\n",
      "51 ['1', '10', '2', '3', '4', '5', '6', '8', '9']\n",
      "57 ['18', '19', '20', '21', '22', '23', '24']\n",
      "59 ['56', '57', '58', '59', '60', '61', '62', '63', '64']\n",
      "63 ['82', '83', '84', '85', '86', '87', '88', '89', '90']\n",
      "64 ['24', '25', '26', '27', '28', '29', '33']\n",
      "65 []\n",
      "66 ['10', '14']\n",
      "67 ['74', '75', '76', '77', '78', '79', '80', '81']\n",
      "70 ['17', '18', '19', '21', '22', '23', '24', '25', '26']\n",
      "74 ['13', '16', '20']\n",
      "75 ['54']\n"
     ]
    }
   ],
   "source": [
    "for i in range(len(vdetails)):\n",
    "    if len(vdetails[i]) != 10:\n",
    "        print(i+1, sorted(vdetails[i]))"
   ]
  },
  {
   "cell_type": "code",
   "execution_count": null,
   "id": "9e9f0cee",
   "metadata": {},
   "outputs": [],
   "source": []
  },
  {
   "cell_type": "markdown",
   "id": "975c4c5e-25fc-4beb-aad8-e9d7ccefeda4",
   "metadata": {},
   "source": [
    "# Download data from Gdrive, Extract and run to separate"
   ]
  },
  {
   "cell_type": "code",
   "execution_count": 36,
   "id": "e6afe65a",
   "metadata": {},
   "outputs": [],
   "source": [
    "import os\n",
    "import shutil"
   ]
  },
  {
   "cell_type": "code",
   "execution_count": 31,
   "id": "6dec955d-6ff9-4b91-a722-91255a0b7446",
   "metadata": {},
   "outputs": [],
   "source": [
    "path = 'C:\\\\Users\\\\Bhuvan Kumar\\\\Desktop\\\\MySystemData\\\\Dataset\\\\'"
   ]
  },
  {
   "cell_type": "code",
   "execution_count": 32,
   "id": "6e99c2db-06f4-46b6-ad12-94c211a4c3b9",
   "metadata": {},
   "outputs": [],
   "source": [
    "files = os.listdir(path)\n",
    "files = [path+i+'\\\\Dataset\\\\' for i in files if i[-1] != 'p']"
   ]
  },
  {
   "cell_type": "code",
   "execution_count": 48,
   "id": "7c7c7f1c-b804-4d51-826b-31b4b2544d8b",
   "metadata": {},
   "outputs": [],
   "source": [
    "#destination folders\n",
    "train = 'C:\\\\Users\\\\Bhuvan Kumar\\\\Desktop\\\\MySystemData\\\\Sorted\\\\train'\n",
    "groundtruth_train = 'C:\\\\Users\\\\Bhuvan Kumar\\\\Desktop\\\\MySystemData\\\\Sorted\\\\groundtruth_train'\n",
    "test = 'C:\\\\Users\\\\Bhuvan Kumar\\\\Desktop\\\\MySystemData\\\\Sorted\\\\test'\n",
    "groundtruth_test = 'C:\\\\Users\\\\Bhuvan Kumar\\\\Desktop\\\\MySystemData\\\\Sorted\\\\groundtruth_test'"
   ]
  },
  {
   "cell_type": "code",
   "execution_count": null,
   "id": "e834ebde-c50c-4ec7-83a1-b0a036842699",
   "metadata": {},
   "outputs": [],
   "source": [
    "shutil.copytree(src, dst)"
   ]
  },
  {
   "cell_type": "code",
   "execution_count": 49,
   "id": "d90096fd-5d05-4c65-9a68-7dfd2599ec17",
   "metadata": {},
   "outputs": [],
   "source": [
    "folders = ['groundtruth_test', 'groundtruth_train', 'test', 'train']\n",
    "\n",
    "for file in files:\n",
    "    f = os.listdir(file)\n",
    "    for i in f:\n",
    "        if i == 'train':\n",
    "            audios = os.listdir(file+i)\n",
    "            #print(audios)\n",
    "            for audio in audios:\n",
    "                src = file+i+'\\\\'+audio\n",
    "                shutil.copy(src, train)\n",
    "        elif i == 'groundtruth_train':\n",
    "            audios = os.listdir(file+i)\n",
    "            #print(audios)\n",
    "            for audio in audios:\n",
    "                src = file+i+'\\\\'+audio\n",
    "                shutil.copy(src, groundtruth_train)\n",
    "        elif i == 'test':\n",
    "            audios = os.listdir(file+i)\n",
    "            #print(audios)\n",
    "            for audio in audios:\n",
    "                src = file+i+'\\\\'+audio\n",
    "                shutil.copy(src, test)\n",
    "        elif i == 'groundtruth_test':\n",
    "            audios = os.listdir(file+i)\n",
    "            #print(audios)\n",
    "            for audio in audios:\n",
    "                src = file+i+'\\\\'+audio\n",
    "                shutil.copy(src, groundtruth_test)"
   ]
  },
  {
   "cell_type": "code",
   "execution_count": null,
   "id": "249cedfd-9c56-4d3c-96df-d66aec045b37",
   "metadata": {},
   "outputs": [],
   "source": []
  }
 ],
 "metadata": {
  "kernelspec": {
   "display_name": "Python 3 (ipykernel)",
   "language": "python",
   "name": "python3"
  },
  "language_info": {
   "codemirror_mode": {
    "name": "ipython",
    "version": 3
   },
   "file_extension": ".py",
   "mimetype": "text/x-python",
   "name": "python",
   "nbconvert_exporter": "python",
   "pygments_lexer": "ipython3",
   "version": "3.9.12"
  }
 },
 "nbformat": 4,
 "nbformat_minor": 5
}
