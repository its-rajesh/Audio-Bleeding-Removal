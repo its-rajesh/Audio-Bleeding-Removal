{
 "cells": [
  {
   "cell_type": "markdown",
   "id": "2fb2a149-98f5-462f-8ebe-44b2106c60cb",
   "metadata": {},
   "source": [
    "# Check it has crt number of data"
   ]
  },
  {
   "cell_type": "code",
   "execution_count": 50,
   "id": "225320f5",
   "metadata": {},
   "outputs": [],
   "source": [
    "import numpy as np\n",
    "import os\n",
    "import re"
   ]
  },
  {
   "cell_type": "code",
   "execution_count": 53,
   "id": "4ae60620",
   "metadata": {},
   "outputs": [],
   "source": [
    "path = 'C:\\\\Users\\\\Bhuvan Kumar\\\\Desktop\\\\MySystemData\\\\Sorted\\\\'"
   ]
  },
  {
   "cell_type": "code",
   "execution_count": 54,
   "id": "7eb07550",
   "metadata": {},
   "outputs": [],
   "source": [
    "train = sorted(os.listdir(path+'train\\\\'))\n",
    "test = sorted(os.listdir(path+'test\\\\'))"
   ]
  },
  {
   "cell_type": "code",
   "execution_count": 55,
   "id": "461160c7",
   "metadata": {},
   "outputs": [
    {
     "data": {
      "text/plain": [
       "(1500, 500)"
      ]
     },
     "execution_count": 55,
     "metadata": {},
     "output_type": "execute_result"
    }
   ],
   "source": [
    "len(train), len(test)"
   ]
  },
  {
   "cell_type": "code",
   "execution_count": 56,
   "id": "cee04892",
   "metadata": {},
   "outputs": [],
   "source": [
    "vdetails, bdetails = [], []\n",
    "for n in range(1, 76):\n",
    "    bd, vd = [], []\n",
    "    for i in train:\n",
    "        res = re.split('(\\d+)', i)\n",
    "        #print(res[1], n)\n",
    "        if int(res[1]) == n and res[0] == 'bass':\n",
    "            bd.append(res[3])\n",
    "        if int(res[1]) == n and res[0] == 'vocal':\n",
    "            vd.append(res[3])\n",
    "            \n",
    "    bdetails.append(bd)\n",
    "    vdetails.append(vd)"
   ]
  },
  {
   "cell_type": "code",
   "execution_count": 57,
   "id": "4c65f47d",
   "metadata": {},
   "outputs": [
    {
     "data": {
      "text/plain": [
       "(75, 75)"
      ]
     },
     "execution_count": 57,
     "metadata": {},
     "output_type": "execute_result"
    }
   ],
   "source": [
    "len(bdetails), len(vdetails)"
   ]
  },
  {
   "cell_type": "code",
   "execution_count": null,
   "id": "6a115351",
   "metadata": {},
   "outputs": [],
   "source": []
  },
  {
   "cell_type": "code",
   "execution_count": 58,
   "id": "563e5712",
   "metadata": {},
   "outputs": [],
   "source": [
    "for i in range(len(bdetails)):\n",
    "    if len(bdetails[i]) != 10:\n",
    "        print(i+1, bdetails[i])"
   ]
  },
  {
   "cell_type": "code",
   "execution_count": 59,
   "id": "11376c1c",
   "metadata": {},
   "outputs": [],
   "source": [
    "for i in range(len(vdetails)):\n",
    "    if len(vdetails[i]) != 10:\n",
    "        print(i+1, sorted(vdetails[i]))"
   ]
  },
  {
   "cell_type": "code",
   "execution_count": null,
   "id": "9e9f0cee",
   "metadata": {},
   "outputs": [],
   "source": []
  },
  {
   "cell_type": "markdown",
   "id": "975c4c5e-25fc-4beb-aad8-e9d7ccefeda4",
   "metadata": {},
   "source": [
    "# Download data from Gdrive, Extract and run to separate"
   ]
  },
  {
   "cell_type": "code",
   "execution_count": 36,
   "id": "e6afe65a",
   "metadata": {},
   "outputs": [],
   "source": [
    "import os\n",
    "import shutil"
   ]
  },
  {
   "cell_type": "code",
   "execution_count": 31,
   "id": "6dec955d-6ff9-4b91-a722-91255a0b7446",
   "metadata": {},
   "outputs": [],
   "source": [
    "path = 'C:\\\\Users\\\\Bhuvan Kumar\\\\Desktop\\\\MySystemData\\\\Dataset\\\\'"
   ]
  },
  {
   "cell_type": "code",
   "execution_count": 32,
   "id": "6e99c2db-06f4-46b6-ad12-94c211a4c3b9",
   "metadata": {},
   "outputs": [],
   "source": [
    "files = os.listdir(path)\n",
    "files = [path+i+'\\\\Dataset\\\\' for i in files if i[-1] != 'p']"
   ]
  },
  {
   "cell_type": "code",
   "execution_count": 48,
   "id": "7c7c7f1c-b804-4d51-826b-31b4b2544d8b",
   "metadata": {},
   "outputs": [],
   "source": [
    "#destination folders\n",
    "train = 'C:\\\\Users\\\\Bhuvan Kumar\\\\Desktop\\\\MySystemData\\\\Sorted\\\\train'\n",
    "groundtruth_train = 'C:\\\\Users\\\\Bhuvan Kumar\\\\Desktop\\\\MySystemData\\\\Sorted\\\\groundtruth_train'\n",
    "test = 'C:\\\\Users\\\\Bhuvan Kumar\\\\Desktop\\\\MySystemData\\\\Sorted\\\\test'\n",
    "groundtruth_test = 'C:\\\\Users\\\\Bhuvan Kumar\\\\Desktop\\\\MySystemData\\\\Sorted\\\\groundtruth_test'"
   ]
  },
  {
   "cell_type": "code",
   "execution_count": null,
   "id": "e834ebde-c50c-4ec7-83a1-b0a036842699",
   "metadata": {},
   "outputs": [],
   "source": [
    "shutil.copytree(src, dst)"
   ]
  },
  {
   "cell_type": "code",
   "execution_count": 49,
   "id": "d90096fd-5d05-4c65-9a68-7dfd2599ec17",
   "metadata": {},
   "outputs": [],
   "source": [
    "folders = ['groundtruth_test', 'groundtruth_train', 'test', 'train']\n",
    "\n",
    "for file in files:\n",
    "    f = os.listdir(file)\n",
    "    for i in f:\n",
    "        if i == 'train':\n",
    "            audios = os.listdir(file+i)\n",
    "            #print(audios)\n",
    "            for audio in audios:\n",
    "                src = file+i+'\\\\'+audio\n",
    "                shutil.copy(src, train)\n",
    "        elif i == 'groundtruth_train':\n",
    "            audios = os.listdir(file+i)\n",
    "            #print(audios)\n",
    "            for audio in audios:\n",
    "                src = file+i+'\\\\'+audio\n",
    "                shutil.copy(src, groundtruth_train)\n",
    "        elif i == 'test':\n",
    "            audios = os.listdir(file+i)\n",
    "            #print(audios)\n",
    "            for audio in audios:\n",
    "                src = file+i+'\\\\'+audio\n",
    "                shutil.copy(src, test)\n",
    "        elif i == 'groundtruth_test':\n",
    "            audios = os.listdir(file+i)\n",
    "            #print(audios)\n",
    "            for audio in audios:\n",
    "                src = file+i+'\\\\'+audio\n",
    "                shutil.copy(src, groundtruth_test)"
   ]
  },
  {
   "cell_type": "code",
   "execution_count": null,
   "id": "249cedfd-9c56-4d3c-96df-d66aec045b37",
   "metadata": {},
   "outputs": [],
   "source": []
  },
  {
   "cell_type": "markdown",
   "id": "85cf91f9-83bd-46a4-bd87-86f54efbce20",
   "metadata": {},
   "source": [
    "# Check audio samples are greater than 2min"
   ]
  },
  {
   "cell_type": "code",
   "execution_count": 77,
   "id": "16a7d111-a88c-4ce0-9b93-ffcc9f0bfa2d",
   "metadata": {},
   "outputs": [],
   "source": [
    "import librosa as lb"
   ]
  },
  {
   "cell_type": "code",
   "execution_count": 64,
   "id": "f76401f3-5475-448f-8e9e-03b4484b50ff",
   "metadata": {},
   "outputs": [],
   "source": [
    "path = 'C:\\\\Users\\\\Bhuvan Kumar\\\\Desktop\\\\MySystemData\\\\musdb_bleeded\\\\'"
   ]
  },
  {
   "cell_type": "code",
   "execution_count": 70,
   "id": "1da5bc16-9c68-4710-9ca9-763febe72bb1",
   "metadata": {},
   "outputs": [
    {
     "data": {
      "text/plain": [
       "['C:\\\\Users\\\\Bhuvan Kumar\\\\Desktop\\\\MySystemData\\\\musdb_bleeded\\\\groundtruth_test\\\\',\n",
       " 'C:\\\\Users\\\\Bhuvan Kumar\\\\Desktop\\\\MySystemData\\\\musdb_bleeded\\\\groundtruth_train\\\\',\n",
       " 'C:\\\\Users\\\\Bhuvan Kumar\\\\Desktop\\\\MySystemData\\\\musdb_bleeded\\\\test\\\\',\n",
       " 'C:\\\\Users\\\\Bhuvan Kumar\\\\Desktop\\\\MySystemData\\\\musdb_bleeded\\\\train\\\\']"
      ]
     },
     "execution_count": 70,
     "metadata": {},
     "output_type": "execute_result"
    }
   ],
   "source": [
    "paths = [path+i+'\\\\' for i in os.listdir(path)]\n",
    "paths"
   ]
  },
  {
   "cell_type": "code",
   "execution_count": 71,
   "id": "e7b095c8-3df1-432e-b373-c9021d64faf9",
   "metadata": {},
   "outputs": [],
   "source": [
    "train = [paths[3]+i for i in os.listdir(paths[3])]\n",
    "groundtruth_train = [paths[1]+i for i in os.listdir(paths[1])]\n",
    "test = [paths[2]+i for i in os.listdir(paths[2])]\n",
    "groundtruth_test = [paths[0]+i for i in os.listdir(paths[0])]"
   ]
  },
  {
   "cell_type": "code",
   "execution_count": 76,
   "id": "81feed73-fd08-4886-94c0-d2d33ebfd480",
   "metadata": {},
   "outputs": [
    {
     "data": {
      "text/plain": [
       "(1500, 150, 500, 50)"
      ]
     },
     "execution_count": 76,
     "metadata": {},
     "output_type": "execute_result"
    }
   ],
   "source": [
    "len(train), len(groundtruth_train), len(test), len(groundtruth_test)"
   ]
  },
  {
   "cell_type": "code",
   "execution_count": null,
   "id": "2de23986-d060-4fc8-ab92-a168f6c14fcc",
   "metadata": {},
   "outputs": [],
   "source": []
  },
  {
   "cell_type": "code",
   "execution_count": 84,
   "id": "8a03659a-e38b-4b3c-9748-b2657a649272",
   "metadata": {},
   "outputs": [
    {
     "name": "stdout",
     "output_type": "stream",
     "text": [
      "C:\\Users\\Bhuvan Kumar\\Desktop\\MySystemData\\musdb_bleeded\\groundtruth_test\\bass87.wav is below 2 min\n",
      "C:\\Users\\Bhuvan Kumar\\Desktop\\MySystemData\\musdb_bleeded\\groundtruth_test\\bass90.wav is below 2 min\n",
      "C:\\Users\\Bhuvan Kumar\\Desktop\\MySystemData\\musdb_bleeded\\groundtruth_test\\bass94.wav is below 2 min\n",
      "C:\\Users\\Bhuvan Kumar\\Desktop\\MySystemData\\musdb_bleeded\\groundtruth_test\\bass95.wav is below 2 min\n",
      "C:\\Users\\Bhuvan Kumar\\Desktop\\MySystemData\\musdb_bleeded\\groundtruth_test\\bass99.wav is below 2 min\n",
      "C:\\Users\\Bhuvan Kumar\\Desktop\\MySystemData\\musdb_bleeded\\groundtruth_test\\vocal87.wav is below 2 min\n",
      "C:\\Users\\Bhuvan Kumar\\Desktop\\MySystemData\\musdb_bleeded\\groundtruth_test\\vocal90.wav is below 2 min\n",
      "C:\\Users\\Bhuvan Kumar\\Desktop\\MySystemData\\musdb_bleeded\\groundtruth_test\\vocal94.wav is below 2 min\n",
      "C:\\Users\\Bhuvan Kumar\\Desktop\\MySystemData\\musdb_bleeded\\groundtruth_test\\vocal95.wav is below 2 min\n",
      "C:\\Users\\Bhuvan Kumar\\Desktop\\MySystemData\\musdb_bleeded\\groundtruth_test\\vocal99.wav is below 2 min\n"
     ]
    }
   ],
   "source": [
    "gt_test_less2min = []\n",
    "for file in groundtruth_test:\n",
    "    f, sr = lb.load(file, sr=8000, mono=True)\n",
    "    s = f[:960000]\n",
    "    if len(s) == 960000:\n",
    "        #print('YES')\n",
    "        pass\n",
    "    else:\n",
    "        print(file, \"is below 2 min\")\n",
    "        k = file.split('\\\\')[-1]\n",
    "        gt_test_less2min.append(k)"
   ]
  },
  {
   "cell_type": "code",
   "execution_count": 86,
   "id": "a0689a5b-3474-45af-9ba7-6c91e77356e4",
   "metadata": {},
   "outputs": [
    {
     "data": {
      "text/plain": [
       "(['bass87.wav',\n",
       "  'bass90.wav',\n",
       "  'bass94.wav',\n",
       "  'bass95.wav',\n",
       "  'bass99.wav',\n",
       "  'vocal87.wav',\n",
       "  'vocal90.wav',\n",
       "  'vocal94.wav',\n",
       "  'vocal95.wav',\n",
       "  'vocal99.wav'],\n",
       " 10)"
      ]
     },
     "execution_count": 86,
     "metadata": {},
     "output_type": "execute_result"
    }
   ],
   "source": [
    "gt_test_less2min, len(gt_test_less2min)"
   ]
  },
  {
   "cell_type": "code",
   "execution_count": 87,
   "id": "1b03ed9e-924c-47a6-839f-2bc9e8f7abce",
   "metadata": {},
   "outputs": [
    {
     "name": "stdout",
     "output_type": "stream",
     "text": [
      "C:\\Users\\Bhuvan Kumar\\Desktop\\MySystemData\\musdb_bleeded\\groundtruth_train\\bass11.wav is below 2 min\n",
      "C:\\Users\\Bhuvan Kumar\\Desktop\\MySystemData\\musdb_bleeded\\groundtruth_train\\bass28.wav is below 2 min\n",
      "C:\\Users\\Bhuvan Kumar\\Desktop\\MySystemData\\musdb_bleeded\\groundtruth_train\\bass38.wav is below 2 min\n",
      "C:\\Users\\Bhuvan Kumar\\Desktop\\MySystemData\\musdb_bleeded\\groundtruth_train\\bass4.wav is below 2 min\n",
      "C:\\Users\\Bhuvan Kumar\\Desktop\\MySystemData\\musdb_bleeded\\groundtruth_train\\bass41.wav is below 2 min\n",
      "C:\\Users\\Bhuvan Kumar\\Desktop\\MySystemData\\musdb_bleeded\\groundtruth_train\\bass46.wav is below 2 min\n",
      "C:\\Users\\Bhuvan Kumar\\Desktop\\MySystemData\\musdb_bleeded\\groundtruth_train\\bass47.wav is below 2 min\n",
      "C:\\Users\\Bhuvan Kumar\\Desktop\\MySystemData\\musdb_bleeded\\groundtruth_train\\bass50.wav is below 2 min\n",
      "C:\\Users\\Bhuvan Kumar\\Desktop\\MySystemData\\musdb_bleeded\\groundtruth_train\\vocal11.wav is below 2 min\n",
      "C:\\Users\\Bhuvan Kumar\\Desktop\\MySystemData\\musdb_bleeded\\groundtruth_train\\vocal28.wav is below 2 min\n",
      "C:\\Users\\Bhuvan Kumar\\Desktop\\MySystemData\\musdb_bleeded\\groundtruth_train\\vocal38.wav is below 2 min\n",
      "C:\\Users\\Bhuvan Kumar\\Desktop\\MySystemData\\musdb_bleeded\\groundtruth_train\\vocal4.wav is below 2 min\n",
      "C:\\Users\\Bhuvan Kumar\\Desktop\\MySystemData\\musdb_bleeded\\groundtruth_train\\vocal41.wav is below 2 min\n",
      "C:\\Users\\Bhuvan Kumar\\Desktop\\MySystemData\\musdb_bleeded\\groundtruth_train\\vocal46.wav is below 2 min\n",
      "C:\\Users\\Bhuvan Kumar\\Desktop\\MySystemData\\musdb_bleeded\\groundtruth_train\\vocal47.wav is below 2 min\n",
      "C:\\Users\\Bhuvan Kumar\\Desktop\\MySystemData\\musdb_bleeded\\groundtruth_train\\vocal50.wav is below 2 min\n"
     ]
    }
   ],
   "source": [
    "gt_train_less2min = []\n",
    "for file in groundtruth_train:\n",
    "    f, sr = lb.load(file, sr=8000, mono=True)\n",
    "    s = f[:960000]\n",
    "    if len(s) == 960000:\n",
    "        #print('YES')\n",
    "        pass\n",
    "    else:\n",
    "        print(file, \"is below 2 min\")\n",
    "        k = file.split('\\\\')[-1]\n",
    "        gt_train_less2min.append(k)"
   ]
  },
  {
   "cell_type": "code",
   "execution_count": 88,
   "id": "54995113-6c39-4f74-998e-444160e39caa",
   "metadata": {},
   "outputs": [
    {
     "data": {
      "text/plain": [
       "(['bass11.wav',\n",
       "  'bass28.wav',\n",
       "  'bass38.wav',\n",
       "  'bass4.wav',\n",
       "  'bass41.wav',\n",
       "  'bass46.wav',\n",
       "  'bass47.wav',\n",
       "  'bass50.wav',\n",
       "  'vocal11.wav',\n",
       "  'vocal28.wav',\n",
       "  'vocal38.wav',\n",
       "  'vocal4.wav',\n",
       "  'vocal41.wav',\n",
       "  'vocal46.wav',\n",
       "  'vocal47.wav',\n",
       "  'vocal50.wav'],\n",
       " 16)"
      ]
     },
     "execution_count": 88,
     "metadata": {},
     "output_type": "execute_result"
    }
   ],
   "source": [
    "gt_train_less2min, len(gt_train_less2min)"
   ]
  },
  {
   "cell_type": "code",
   "execution_count": 104,
   "id": "672e86dd-14b1-460d-8495-66e5c391c75d",
   "metadata": {},
   "outputs": [
    {
     "name": "stdout",
     "output_type": "stream",
     "text": [
      "bass87vocal68.wav\n",
      "bass87vocal68.wav\n",
      "bass87vocal68.wav\n",
      "bass87vocal68.wav\n",
      "bass87vocal68.wav\n",
      "bass87vocal68.wav\n",
      "bass87vocal68.wav\n",
      "bass87vocal68.wav\n",
      "bass87vocal68.wav\n",
      "bass87vocal68.wav\n",
      "bass87vocal68.wav\n",
      "bass87vocal68.wav\n",
      "bass87vocal68.wav\n",
      "bass87vocal68.wav\n",
      "bass87vocal68.wav\n",
      "bass87vocal68.wav\n",
      "bass87vocal68.wav\n",
      "bass87vocal68.wav\n",
      "bass87vocal68.wav\n",
      "bass87vocal68.wav\n",
      "bass87vocal68.wav\n",
      "bass87vocal68.wav\n",
      "bass87vocal68.wav\n",
      "bass87vocal68.wav\n",
      "bass87vocal68.wav\n",
      "bass87vocal68.wav\n",
      "bass87vocal68.wav\n",
      "bass87vocal68.wav\n",
      "bass87vocal68.wav\n",
      "bass87vocal68.wav\n",
      "bass87vocal68.wav\n",
      "bass87vocal68.wav\n",
      "bass87vocal68.wav\n",
      "bass87vocal68.wav\n",
      "bass87vocal68.wav\n",
      "bass87vocal68.wav\n",
      "bass87vocal68.wav\n",
      "bass87vocal68.wav\n",
      "bass87vocal68.wav\n",
      "bass87vocal68.wav\n",
      "bass87vocal68.wav\n",
      "bass87vocal68.wav\n",
      "bass87vocal68.wav\n",
      "bass87vocal68.wav\n",
      "bass87vocal68.wav\n",
      "bass87vocal68.wav\n",
      "bass87vocal68.wav\n",
      "bass87vocal68.wav\n",
      "bass87vocal68.wav\n",
      "bass87vocal68.wav\n"
     ]
    }
   ],
   "source": [
    "for file in groundtruth_test:\n",
    "    k = f.split('\\\\')[-1]\n",
    "    print(k)\n",
    "    if k in gt_test_less2min:\n",
    "        print(file)"
   ]
  },
  {
   "cell_type": "code",
   "execution_count": 98,
   "id": "8e64898c-58f9-4811-b396-95d702010b23",
   "metadata": {},
   "outputs": [
    {
     "name": "stdout",
     "output_type": "stream",
     "text": [
      "C:\\Users\\Bhuvan Kumar\\Desktop\\MySystemData\\musdb_bleeded\\train\\bass11vocal10.wav\n"
     ]
    },
    {
     "ename": "FileNotFoundError",
     "evalue": "[WinError 2] The system cannot find the file specified: 'C:\\\\Users\\\\Bhuvan Kumar\\\\Desktop\\\\MySystemData\\\\musdb_bleeded\\\\train\\\\bass11vocal10.wav'",
     "output_type": "error",
     "traceback": [
      "\u001b[1;31m---------------------------------------------------------------------------\u001b[0m",
      "\u001b[1;31mFileNotFoundError\u001b[0m                         Traceback (most recent call last)",
      "Input \u001b[1;32mIn [98]\u001b[0m, in \u001b[0;36m<cell line: 1>\u001b[1;34m()\u001b[0m\n\u001b[0;32m      5\u001b[0m \u001b[38;5;28;01mif\u001b[39;00m name \u001b[38;5;129;01min\u001b[39;00m gt_train_less2min:\n\u001b[0;32m      6\u001b[0m     \u001b[38;5;28mprint\u001b[39m(f)\n\u001b[1;32m----> 7\u001b[0m     \u001b[43mos\u001b[49m\u001b[38;5;241;43m.\u001b[39;49m\u001b[43mremove\u001b[49m\u001b[43m(\u001b[49m\u001b[43mf\u001b[49m\u001b[43m)\u001b[49m\n",
      "\u001b[1;31mFileNotFoundError\u001b[0m: [WinError 2] The system cannot find the file specified: 'C:\\\\Users\\\\Bhuvan Kumar\\\\Desktop\\\\MySystemData\\\\musdb_bleeded\\\\train\\\\bass11vocal10.wav'"
     ]
    }
   ],
   "source": [
    "for f in train:\n",
    "    k = f.split('\\\\')[-1]\n",
    "    res = re.split('(\\d+)', k)\n",
    "    name = res[0]+res[1]+res[-1]\n",
    "    if name in gt_train_less2min:\n",
    "        print(f)\n",
    "        os.remove(f)\n",
    "    #print(name)"
   ]
  },
  {
   "cell_type": "code",
   "execution_count": 100,
   "id": "5e9f9622-d48f-4c99-bdb7-48c9cf931b24",
   "metadata": {},
   "outputs": [
    {
     "name": "stdout",
     "output_type": "stream",
     "text": [
      "C:\\Users\\Bhuvan Kumar\\Desktop\\MySystemData\\musdb_bleeded\\test\\bass87vocal68.wav\n"
     ]
    },
    {
     "ename": "FileNotFoundError",
     "evalue": "[WinError 2] The system cannot find the file specified: 'C:\\\\Users\\\\Bhuvan Kumar\\\\Desktop\\\\MySystemData\\\\musdb_bleeded\\\\test\\\\bass87vocal68.wav'",
     "output_type": "error",
     "traceback": [
      "\u001b[1;31m---------------------------------------------------------------------------\u001b[0m",
      "\u001b[1;31mFileNotFoundError\u001b[0m                         Traceback (most recent call last)",
      "Input \u001b[1;32mIn [100]\u001b[0m, in \u001b[0;36m<cell line: 1>\u001b[1;34m()\u001b[0m\n\u001b[0;32m      5\u001b[0m \u001b[38;5;28;01mif\u001b[39;00m name \u001b[38;5;129;01min\u001b[39;00m gt_test_less2min:\n\u001b[0;32m      6\u001b[0m     \u001b[38;5;28mprint\u001b[39m(f)\n\u001b[1;32m----> 7\u001b[0m     \u001b[43mos\u001b[49m\u001b[38;5;241;43m.\u001b[39;49m\u001b[43mremove\u001b[49m\u001b[43m(\u001b[49m\u001b[43mf\u001b[49m\u001b[43m)\u001b[49m\n",
      "\u001b[1;31mFileNotFoundError\u001b[0m: [WinError 2] The system cannot find the file specified: 'C:\\\\Users\\\\Bhuvan Kumar\\\\Desktop\\\\MySystemData\\\\musdb_bleeded\\\\test\\\\bass87vocal68.wav'"
     ]
    }
   ],
   "source": [
    "for f in test:\n",
    "    k = f.split('\\\\')[-1]\n",
    "    res = re.split('(\\d+)', k)\n",
    "    name = res[0]+res[1]+res[-1]\n",
    "    if name in gt_test_less2min:\n",
    "        print(f)\n",
    "        os.remove(f)\n",
    "    #print(name)"
   ]
  },
  {
   "cell_type": "code",
   "execution_count": null,
   "id": "ee6bc986-1564-4290-8c7b-e8f253e8d383",
   "metadata": {},
   "outputs": [],
   "source": []
  },
  {
   "cell_type": "code",
   "execution_count": null,
   "id": "0cfd96be-a506-49ad-95a9-b2c0ce69d41e",
   "metadata": {},
   "outputs": [],
   "source": []
  },
  {
   "cell_type": "code",
   "execution_count": null,
   "id": "c9d78718-ce1a-4bfb-a2cc-aba79aabbf27",
   "metadata": {},
   "outputs": [],
   "source": []
  }
 ],
 "metadata": {
  "kernelspec": {
   "display_name": "Python 3 (ipykernel)",
   "language": "python",
   "name": "python3"
  },
  "language_info": {
   "codemirror_mode": {
    "name": "ipython",
    "version": 3
   },
   "file_extension": ".py",
   "mimetype": "text/x-python",
   "name": "python",
   "nbconvert_exporter": "python",
   "pygments_lexer": "ipython3",
   "version": "3.9.12"
  }
 },
 "nbformat": 4,
 "nbformat_minor": 5
}
