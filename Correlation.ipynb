{
 "cells": [
  {
   "cell_type": "markdown",
   "id": "1517b3a3",
   "metadata": {},
   "source": [
    "# Quantitative Measure of Bleed"
   ]
  },
  {
   "cell_type": "code",
   "execution_count": 1,
   "id": "4b7e81a6",
   "metadata": {},
   "outputs": [],
   "source": [
    "import os\n",
    "from matplotlib import pyplot as plt\n",
    "import numpy as np\n",
    "import librosa as lb\n",
    "import soundfile as sf\n",
    "from pydub import AudioSegment\n",
    "import math"
   ]
  },
  {
   "cell_type": "code",
   "execution_count": 2,
   "id": "69b59a71",
   "metadata": {},
   "outputs": [
    {
     "data": {
      "text/plain": [
       "['vocals.wav',\n",
       " 'violin.wav',\n",
       " 'mixture.wav',\n",
       " 'mridangam.wav',\n",
       " 'accompaniment.wav']"
      ]
     },
     "execution_count": 2,
     "metadata": {},
     "output_type": "execute_result"
    }
   ],
   "source": [
    "path = \"/home/rajesh/Desktop/Datasets/Saraga3stem/train/Aaniraimekkani/\"\n",
    "files = os.listdir(path)\n",
    "files"
   ]
  },
  {
   "cell_type": "code",
   "execution_count": 3,
   "id": "ac046c18",
   "metadata": {},
   "outputs": [],
   "source": [
    "vocal, vfs = sf.read(path+'vocals.wav')\n",
    "violin, vifs = sf.read(path+'violin.wav')\n",
    "mridangam, mfs = sf.read(path+'mridangam.wav')"
   ]
  },
  {
   "cell_type": "code",
   "execution_count": 4,
   "id": "c8dabb12",
   "metadata": {},
   "outputs": [
    {
     "data": {
      "text/plain": [
       "(44100, 44100, 44100, 12661103, 12661103, 12661103)"
      ]
     },
     "execution_count": 4,
     "metadata": {},
     "output_type": "execute_result"
    }
   ],
   "source": [
    "vfs, vifs, mfs, len(vocal), len(violin), len(mridangam)"
   ]
  },
  {
   "cell_type": "code",
   "execution_count": 5,
   "id": "ec0706a9",
   "metadata": {},
   "outputs": [],
   "source": [
    "vocal_others = AudioSegment.from_file(path+'violin.wav').overlay(AudioSegment.from_file(path+'mridangam.wav'))\n",
    "mridangam_others = AudioSegment.from_file(path+'violin.wav').overlay(AudioSegment.from_file(path+'vocals.wav'))\n",
    "violin_others = AudioSegment.from_file(path+'vocals.wav').overlay(AudioSegment.from_file(path+'mridangam.wav'))"
   ]
  },
  {
   "cell_type": "code",
   "execution_count": 6,
   "id": "740b254e",
   "metadata": {},
   "outputs": [
    {
     "data": {
      "text/plain": [
       "<_io.BufferedRandom name='/home/rajesh/Desktop/violin_others.wav'>"
      ]
     },
     "execution_count": 6,
     "metadata": {},
     "output_type": "execute_result"
    }
   ],
   "source": [
    "vocal_others.export(out_f = \"/home/rajesh/Desktop/vocal_others.wav\", format = \"wav\")\n",
    "mridangam_others.export(out_f = \"/home/rajesh/Desktop/mridangam_others.wav\", format = \"wav\")\n",
    "violin_others.export(out_f = \"/home/rajesh/Desktop/violin_others.wav\", format = \"wav\")"
   ]
  },
  {
   "cell_type": "code",
   "execution_count": 7,
   "id": "2c7c53c6",
   "metadata": {},
   "outputs": [],
   "source": [
    "vocal_o, vfs = sf.read(\"/home/rajesh/Desktop/vocal_others.wav\")\n",
    "violin_o, vifs = sf.read(\"/home/rajesh/Desktop/violin_others.wav\")\n",
    "mridangam_o, mfs = sf.read(\"/home/rajesh/Desktop/mridangam_others.wav\")"
   ]
  },
  {
   "cell_type": "code",
   "execution_count": 8,
   "id": "34fa4c5f",
   "metadata": {},
   "outputs": [
    {
     "data": {
      "text/plain": [
       "(44100, 44100, 44100)"
      ]
     },
     "execution_count": 8,
     "metadata": {},
     "output_type": "execute_result"
    }
   ],
   "source": [
    "vfs, vifs, mfs"
   ]
  },
  {
   "cell_type": "code",
   "execution_count": 9,
   "id": "60de5f66",
   "metadata": {},
   "outputs": [
    {
     "data": {
      "text/plain": [
       "12661110"
      ]
     },
     "execution_count": 9,
     "metadata": {},
     "output_type": "execute_result"
    }
   ],
   "source": [
    "len(mridangam_o)"
   ]
  },
  {
   "cell_type": "code",
   "execution_count": 16,
   "id": "580c3180",
   "metadata": {},
   "outputs": [],
   "source": [
    "import pandas as pd\n",
    "import seaborn as sns"
   ]
  },
  {
   "cell_type": "code",
   "execution_count": 30,
   "id": "f50b9359",
   "metadata": {},
   "outputs": [],
   "source": [
    "v = pd.DataFrame([vocal[:12661], vocal_o[:12661]]).T\n",
    "v.columns=['Vocals','Others']"
   ]
  },
  {
   "cell_type": "code",
   "execution_count": 32,
   "id": "fed91574",
   "metadata": {},
   "outputs": [
    {
     "data": {
      "image/png": "[encoded data removed]",
      "text/plain": [
       "<Figure size 432x288 with 2 Axes>"
      ]
     },
     "metadata": {
      "needs_background": "light"
     },
     "output_type": "display_data"
    }
   ],
   "source": [
    "ax = sns.heatmap(v.corr(), annot=True)"
   ]
  },
  {
   "cell_type": "code",
   "execution_count": 33,
   "id": "d350f3cf",
   "metadata": {},
   "outputs": [
    {
     "data": {
      "image/png": "[encoded data removed]",
      "text/plain": [
       "<Figure size 432x288 with 2 Axes>"
      ]
     },
     "metadata": {
      "needs_background": "light"
     },
     "output_type": "display_data"
    }
   ],
   "source": [
    "al = pd.DataFrame([vocal[:12661], mridangam[:12661], violin[:12661]]).T\n",
    "al.columns=['Vocals','Mridangdam', 'Violin']\n",
    "ax = sns.heatmap(al.corr(), annot=True)"
   ]
  },
  {
   "cell_type": "code",
   "execution_count": null,
   "id": "0a429703",
   "metadata": {},
   "outputs": [],
   "source": []
  },
  {
   "cell_type": "code",
   "execution_count": null,
   "id": "864cbfe1",
   "metadata": {},
   "outputs": [],
   "source": []
  },
  {
   "cell_type": "code",
   "execution_count": null,
   "id": "78e93f0a",
   "metadata": {},
   "outputs": [],
   "source": []
  },
  {
   "cell_type": "code",
   "execution_count": null,
   "id": "14e8ea8e",
   "metadata": {},
   "outputs": [],
   "source": []
  },
  {
   "cell_type": "code",
   "execution_count": null,
   "id": "0b7199e8",
   "metadata": {},
   "outputs": [],
   "source": [
    "\n"
   ]
  }
 ],
 "metadata": {
  "kernelspec": {
   "display_name": "Python 3 (ipykernel)",
   "language": "python",
   "name": "python3"
  },
  "language_info": {
   "codemirror_mode": {
    "name": "ipython",
    "version": 3
   },
   "file_extension": ".py",
   "mimetype": "text/x-python",
   "name": "python",
   "nbconvert_exporter": "python",
   "pygments_lexer": "ipython3",
   "version": "3.10.6"
  }
 },
 "nbformat": 4,
 "nbformat_minor": 5
}
